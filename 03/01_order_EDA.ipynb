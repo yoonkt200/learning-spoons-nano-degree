{
 "cells": [
  {
   "cell_type": "markdown",
   "id": "d7ca04f7-694b-4977-9017-5191185f64b9",
   "metadata": {},
   "source": [
    "Copyright (c) 2021 [윤기태]\n",
    "\n",
    "https://github.com/yoonkt200/learning-spoons-nano-degree\n",
    "\n",
    "[MIT License](https://github.com/yoonkt200/learning-spoons-nano-degree/blob/master/LICENSE.txt)\n",
    "\n",
    "# LearningSpoons - NanoDegree\n",
    "\n",
    "-----"
   ]
  },
  {
   "cell_type": "markdown",
   "id": "adee484d-9c2f-440d-8ec8-c4af9f25da52",
   "metadata": {},
   "source": [
    "# 3회차 - (주문데이터, 배송데이터 분석)\n",
    "\n",
    "- [1. 주문데이터 EDA](#1.-주문데이터-EDA)\n",
    "    - [데이터 병합 및 탐색]\n",
    "    - [데이터 전처리]\n",
    "- [2. 시간대별 주문데이터 분석](#2.-시간대별-주문데이터-분석)\n",
    "    - [시간대별 주문량 분석]\n",
    "    - [시간대별 주문 지역 분석]\n",
    "- [3. 주문 상품 카테고리 분석](#3.-주문-상품-카테고리-분석)\n",
    "    - [상품 및 카테고리 탐색]\n",
    "    - [카테고리 주문 비중 분석]\n",
    "    - [시간대/일자/요일별 주문 카테고리 분석]\n",
    "    - [지역별 주문 카테고리 분석]\n",
    "- [4. 배송 데이터 분석](#4.-배송-데이터-분석)\n",
    "    - [평균 배송 시간 분석]\n",
    "    - [지역별 배송 정보 분석]\n",
    "    - [예상 배송일과 실제 배송일 차이 분석]\n",
    "    - [카테고리별 배송 데이터 분석]\n",
    "----"
   ]
  },
  {
   "cell_type": "code",
   "execution_count": 58,
   "id": "356c230a-3eed-4370-9edf-d077bb30b535",
   "metadata": {},
   "outputs": [],
   "source": [
    "# -*- coding: utf-8 -*-\n",
    "\n",
    "%matplotlib inline\n",
    "\n",
    "import pandas as pd\n",
    "import numpy as np\n",
    "import matplotlib.pyplot as plt"
   ]
  },
  {
   "cell_type": "code",
   "execution_count": 59,
   "id": "2800b30f-5276-4f1c-b1a5-1cc2f14817b0",
   "metadata": {},
   "outputs": [],
   "source": [
    "data_dir = \"../dataset/\""
   ]
  },
  {
   "cell_type": "markdown",
   "id": "22dc2311-8cac-45e6-a5cc-f28531f183a5",
   "metadata": {},
   "source": [
    "# 1. 주문데이터 EDA"
   ]
  },
  {
   "cell_type": "markdown",
   "id": "1faba36b-d952-42e9-b1c2-5d3d5304e6d8",
   "metadata": {},
   "source": [
    "### [데이터 병합 및 탐색]"
   ]
  },
  {
   "cell_type": "markdown",
   "id": "48792bbc-4598-484a-bcc8-b7a14735cf3d",
   "metadata": {},
   "source": [
    "----\n",
    "#### *주문데이터 기준으로 데이터 병합*"
   ]
  },
  {
   "cell_type": "code",
   "execution_count": 60,
   "id": "f84266a4-a994-4ea1-9c49-694a563e9bca",
   "metadata": {},
   "outputs": [],
   "source": [
    "order_df = pd.read_csv(data_dir + \"olist_order_items_dataset.csv\")\n",
    "shipping_df = pd.read_csv(data_dir + \"olist_orders_dataset.csv\")\n",
    "category_df = pd.read_csv(data_dir + \"olist_products_dataset.csv\")\n",
    "user_df = pd.read_csv(data_dir + \"olist_customers_dataset.csv\")\n",
    "location_df = pd.read_csv(data_dir + \"olist_geolocation_dataset.csv\")\n",
    "product_category_name_translation_df = pd.read_csv(data_dir + \"product_category_name_translation.csv\")"
   ]
  },
  {
   "cell_type": "code",
   "execution_count": 61,
   "id": "a69a97ee-b0c0-440a-8f8f-0324a7e5dfe7",
   "metadata": {},
   "outputs": [],
   "source": [
    "order_df['order_id'] = order_df['order_id'].astype(str)\n",
    "shipping_df['order_id'] = shipping_df['order_id'].astype(str)\n",
    "order_df = order_df.merge(shipping_df, how='left', on='order_id')"
   ]
  },
  {
   "cell_type": "code",
   "execution_count": 62,
   "id": "32dcb9cd-6239-4fa8-8660-a955193f8082",
   "metadata": {},
   "outputs": [],
   "source": [
    "order_df['product_id'] = order_df['product_id'].astype(str)\n",
    "category_df['product_id'] = category_df['product_id'].astype(str)\n",
    "order_df = order_df.merge(category_df, how='left', on='product_id')"
   ]
  },
  {
   "cell_type": "code",
   "execution_count": 63,
   "id": "4c4f60c4-24c0-4956-989e-943dfbb17ec3",
   "metadata": {},
   "outputs": [],
   "source": [
    "order_df['customer_id'] = order_df['customer_id'].astype(str)\n",
    "user_df['customer_id'] = user_df['customer_id'].astype(str)\n",
    "order_df = order_df.merge(user_df, how='left', on='customer_id')"
   ]
  },
  {
   "cell_type": "code",
   "execution_count": 64,
   "id": "a947be98-8c3a-4d50-8ec9-cc3f74c84b06",
   "metadata": {},
   "outputs": [
    {
     "data": {
      "text/html": [
       "<div>\n",
       "<style scoped>\n",
       "    .dataframe tbody tr th:only-of-type {\n",
       "        vertical-align: middle;\n",
       "    }\n",
       "\n",
       "    .dataframe tbody tr th {\n",
       "        vertical-align: top;\n",
       "    }\n",
       "\n",
       "    .dataframe thead th {\n",
       "        text-align: right;\n",
       "    }\n",
       "</style>\n",
       "<table border=\"1\" class=\"dataframe\">\n",
       "  <thead>\n",
       "    <tr style=\"text-align: right;\">\n",
       "      <th></th>\n",
       "      <th>geolocation_zip_code_prefix</th>\n",
       "      <th>geolocation_lat</th>\n",
       "      <th>geolocation_lng</th>\n",
       "      <th>geolocation_city</th>\n",
       "      <th>geolocation_state</th>\n",
       "    </tr>\n",
       "  </thead>\n",
       "  <tbody>\n",
       "    <tr>\n",
       "      <th>0</th>\n",
       "      <td>1037</td>\n",
       "      <td>-23.546</td>\n",
       "      <td>-46.639</td>\n",
       "      <td>sao paulo</td>\n",
       "      <td>SP</td>\n",
       "    </tr>\n",
       "    <tr>\n",
       "      <th>1</th>\n",
       "      <td>1046</td>\n",
       "      <td>-23.546</td>\n",
       "      <td>-46.645</td>\n",
       "      <td>sao paulo</td>\n",
       "      <td>SP</td>\n",
       "    </tr>\n",
       "    <tr>\n",
       "      <th>2</th>\n",
       "      <td>1046</td>\n",
       "      <td>-23.546</td>\n",
       "      <td>-46.643</td>\n",
       "      <td>sao paulo</td>\n",
       "      <td>SP</td>\n",
       "    </tr>\n",
       "    <tr>\n",
       "      <th>3</th>\n",
       "      <td>1041</td>\n",
       "      <td>-23.544</td>\n",
       "      <td>-46.639</td>\n",
       "      <td>sao paulo</td>\n",
       "      <td>SP</td>\n",
       "    </tr>\n",
       "    <tr>\n",
       "      <th>4</th>\n",
       "      <td>1035</td>\n",
       "      <td>-23.542</td>\n",
       "      <td>-46.642</td>\n",
       "      <td>sao paulo</td>\n",
       "      <td>SP</td>\n",
       "    </tr>\n",
       "  </tbody>\n",
       "</table>\n",
       "</div>"
      ],
      "text/plain": [
       "   geolocation_zip_code_prefix  geolocation_lat  geolocation_lng  \\\n",
       "0                         1037          -23.546          -46.639   \n",
       "1                         1046          -23.546          -46.645   \n",
       "2                         1046          -23.546          -46.643   \n",
       "3                         1041          -23.544          -46.639   \n",
       "4                         1035          -23.542          -46.642   \n",
       "\n",
       "  geolocation_city geolocation_state  \n",
       "0        sao paulo                SP  \n",
       "1        sao paulo                SP  \n",
       "2        sao paulo                SP  \n",
       "3        sao paulo                SP  \n",
       "4        sao paulo                SP  "
      ]
     },
     "execution_count": 64,
     "metadata": {},
     "output_type": "execute_result"
    }
   ],
   "source": [
    "location_df.head()"
   ]
  },
  {
   "cell_type": "code",
   "execution_count": 65,
   "id": "b9f7a4b7-a918-4e24-a4af-008cd706ea0f",
   "metadata": {},
   "outputs": [],
   "source": [
    "order_df['customer_zip_code_prefix'] = order_df['customer_zip_code_prefix'].astype(str)\n",
    "location_df['geolocation_zip_code_prefix'] = location_df['geolocation_zip_code_prefix'].astype(str)\n",
    "location_df.columns = ['customer_zip_code_prefix', 'lat', 'lng', 'city', 'state']\n",
    "order_df = order_df.merge(location_df, how='left', on='customer_zip_code_prefix')"
   ]
  },
  {
   "cell_type": "code",
   "execution_count": 66,
   "id": "0ba02972-5380-40cf-b5ad-f5e8ec9b6eee",
   "metadata": {},
   "outputs": [],
   "source": [
    "order_df['product_category_name'] = order_df['product_category_name'].astype(str)\n",
    "product_category_name_translation_df['product_category_name'] = product_category_name_translation_df['product_category_name'].astype(str)\n",
    "order_df = order_df.merge(product_category_name_translation_df, how='left', on='product_category_name')"
   ]
  },
  {
   "cell_type": "code",
   "execution_count": 67,
   "id": "68371214-667e-4293-aade-435c473b418f",
   "metadata": {},
   "outputs": [
    {
     "data": {
      "text/html": [
       "<div>\n",
       "<style scoped>\n",
       "    .dataframe tbody tr th:only-of-type {\n",
       "        vertical-align: middle;\n",
       "    }\n",
       "\n",
       "    .dataframe tbody tr th {\n",
       "        vertical-align: top;\n",
       "    }\n",
       "\n",
       "    .dataframe thead th {\n",
       "        text-align: right;\n",
       "    }\n",
       "</style>\n",
       "<table border=\"1\" class=\"dataframe\">\n",
       "  <thead>\n",
       "    <tr style=\"text-align: right;\">\n",
       "      <th></th>\n",
       "      <th>order_id</th>\n",
       "      <th>order_item_id</th>\n",
       "      <th>product_id</th>\n",
       "      <th>seller_id</th>\n",
       "      <th>shipping_limit_date</th>\n",
       "      <th>price</th>\n",
       "      <th>freight_value</th>\n",
       "      <th>customer_id</th>\n",
       "      <th>order_status</th>\n",
       "      <th>order_purchase_timestamp</th>\n",
       "      <th>...</th>\n",
       "      <th>product_width_cm</th>\n",
       "      <th>customer_unique_id</th>\n",
       "      <th>customer_zip_code_prefix</th>\n",
       "      <th>customer_city</th>\n",
       "      <th>customer_state</th>\n",
       "      <th>lat</th>\n",
       "      <th>lng</th>\n",
       "      <th>city</th>\n",
       "      <th>state</th>\n",
       "      <th>product_category_name_english</th>\n",
       "    </tr>\n",
       "  </thead>\n",
       "  <tbody>\n",
       "    <tr>\n",
       "      <th>0</th>\n",
       "      <td>00010242fe8c5a6d1ba2dd792cb16214</td>\n",
       "      <td>1</td>\n",
       "      <td>4244733e06e7ecb4970a6e2683c13e61</td>\n",
       "      <td>48436dade18ac8b2bce089ec2a041202</td>\n",
       "      <td>2017-09-19 09:45:35</td>\n",
       "      <td>58.900</td>\n",
       "      <td>13.290</td>\n",
       "      <td>3ce436f183e68e07877b285a838db11a</td>\n",
       "      <td>delivered</td>\n",
       "      <td>2017-09-13 08:59:02</td>\n",
       "      <td>...</td>\n",
       "      <td>14.000</td>\n",
       "      <td>871766c5855e863f6eccc05f988b23cb</td>\n",
       "      <td>28013</td>\n",
       "      <td>campos dos goytacazes</td>\n",
       "      <td>RJ</td>\n",
       "      <td>-21.758</td>\n",
       "      <td>-41.313</td>\n",
       "      <td>campos dos goytacazes</td>\n",
       "      <td>RJ</td>\n",
       "      <td>cool_stuff</td>\n",
       "    </tr>\n",
       "    <tr>\n",
       "      <th>1</th>\n",
       "      <td>00010242fe8c5a6d1ba2dd792cb16214</td>\n",
       "      <td>1</td>\n",
       "      <td>4244733e06e7ecb4970a6e2683c13e61</td>\n",
       "      <td>48436dade18ac8b2bce089ec2a041202</td>\n",
       "      <td>2017-09-19 09:45:35</td>\n",
       "      <td>58.900</td>\n",
       "      <td>13.290</td>\n",
       "      <td>3ce436f183e68e07877b285a838db11a</td>\n",
       "      <td>delivered</td>\n",
       "      <td>2017-09-13 08:59:02</td>\n",
       "      <td>...</td>\n",
       "      <td>14.000</td>\n",
       "      <td>871766c5855e863f6eccc05f988b23cb</td>\n",
       "      <td>28013</td>\n",
       "      <td>campos dos goytacazes</td>\n",
       "      <td>RJ</td>\n",
       "      <td>-21.759</td>\n",
       "      <td>-41.307</td>\n",
       "      <td>campos dos goytacazes</td>\n",
       "      <td>RJ</td>\n",
       "      <td>cool_stuff</td>\n",
       "    </tr>\n",
       "    <tr>\n",
       "      <th>2</th>\n",
       "      <td>00010242fe8c5a6d1ba2dd792cb16214</td>\n",
       "      <td>1</td>\n",
       "      <td>4244733e06e7ecb4970a6e2683c13e61</td>\n",
       "      <td>48436dade18ac8b2bce089ec2a041202</td>\n",
       "      <td>2017-09-19 09:45:35</td>\n",
       "      <td>58.900</td>\n",
       "      <td>13.290</td>\n",
       "      <td>3ce436f183e68e07877b285a838db11a</td>\n",
       "      <td>delivered</td>\n",
       "      <td>2017-09-13 08:59:02</td>\n",
       "      <td>...</td>\n",
       "      <td>14.000</td>\n",
       "      <td>871766c5855e863f6eccc05f988b23cb</td>\n",
       "      <td>28013</td>\n",
       "      <td>campos dos goytacazes</td>\n",
       "      <td>RJ</td>\n",
       "      <td>-21.767</td>\n",
       "      <td>-41.311</td>\n",
       "      <td>campos dos goytacazes</td>\n",
       "      <td>RJ</td>\n",
       "      <td>cool_stuff</td>\n",
       "    </tr>\n",
       "    <tr>\n",
       "      <th>3</th>\n",
       "      <td>00010242fe8c5a6d1ba2dd792cb16214</td>\n",
       "      <td>1</td>\n",
       "      <td>4244733e06e7ecb4970a6e2683c13e61</td>\n",
       "      <td>48436dade18ac8b2bce089ec2a041202</td>\n",
       "      <td>2017-09-19 09:45:35</td>\n",
       "      <td>58.900</td>\n",
       "      <td>13.290</td>\n",
       "      <td>3ce436f183e68e07877b285a838db11a</td>\n",
       "      <td>delivered</td>\n",
       "      <td>2017-09-13 08:59:02</td>\n",
       "      <td>...</td>\n",
       "      <td>14.000</td>\n",
       "      <td>871766c5855e863f6eccc05f988b23cb</td>\n",
       "      <td>28013</td>\n",
       "      <td>campos dos goytacazes</td>\n",
       "      <td>RJ</td>\n",
       "      <td>-21.772</td>\n",
       "      <td>-41.312</td>\n",
       "      <td>campos dos goytacazes</td>\n",
       "      <td>RJ</td>\n",
       "      <td>cool_stuff</td>\n",
       "    </tr>\n",
       "    <tr>\n",
       "      <th>4</th>\n",
       "      <td>00010242fe8c5a6d1ba2dd792cb16214</td>\n",
       "      <td>1</td>\n",
       "      <td>4244733e06e7ecb4970a6e2683c13e61</td>\n",
       "      <td>48436dade18ac8b2bce089ec2a041202</td>\n",
       "      <td>2017-09-19 09:45:35</td>\n",
       "      <td>58.900</td>\n",
       "      <td>13.290</td>\n",
       "      <td>3ce436f183e68e07877b285a838db11a</td>\n",
       "      <td>delivered</td>\n",
       "      <td>2017-09-13 08:59:02</td>\n",
       "      <td>...</td>\n",
       "      <td>14.000</td>\n",
       "      <td>871766c5855e863f6eccc05f988b23cb</td>\n",
       "      <td>28013</td>\n",
       "      <td>campos dos goytacazes</td>\n",
       "      <td>RJ</td>\n",
       "      <td>-21.763</td>\n",
       "      <td>-41.306</td>\n",
       "      <td>campos dos goytacazes</td>\n",
       "      <td>RJ</td>\n",
       "      <td>cool_stuff</td>\n",
       "    </tr>\n",
       "  </tbody>\n",
       "</table>\n",
       "<p>5 rows × 31 columns</p>\n",
       "</div>"
      ],
      "text/plain": [
       "                           order_id  order_item_id  \\\n",
       "0  00010242fe8c5a6d1ba2dd792cb16214              1   \n",
       "1  00010242fe8c5a6d1ba2dd792cb16214              1   \n",
       "2  00010242fe8c5a6d1ba2dd792cb16214              1   \n",
       "3  00010242fe8c5a6d1ba2dd792cb16214              1   \n",
       "4  00010242fe8c5a6d1ba2dd792cb16214              1   \n",
       "\n",
       "                         product_id                         seller_id  \\\n",
       "0  4244733e06e7ecb4970a6e2683c13e61  48436dade18ac8b2bce089ec2a041202   \n",
       "1  4244733e06e7ecb4970a6e2683c13e61  48436dade18ac8b2bce089ec2a041202   \n",
       "2  4244733e06e7ecb4970a6e2683c13e61  48436dade18ac8b2bce089ec2a041202   \n",
       "3  4244733e06e7ecb4970a6e2683c13e61  48436dade18ac8b2bce089ec2a041202   \n",
       "4  4244733e06e7ecb4970a6e2683c13e61  48436dade18ac8b2bce089ec2a041202   \n",
       "\n",
       "   shipping_limit_date  price  freight_value  \\\n",
       "0  2017-09-19 09:45:35 58.900         13.290   \n",
       "1  2017-09-19 09:45:35 58.900         13.290   \n",
       "2  2017-09-19 09:45:35 58.900         13.290   \n",
       "3  2017-09-19 09:45:35 58.900         13.290   \n",
       "4  2017-09-19 09:45:35 58.900         13.290   \n",
       "\n",
       "                        customer_id order_status order_purchase_timestamp  \\\n",
       "0  3ce436f183e68e07877b285a838db11a    delivered      2017-09-13 08:59:02   \n",
       "1  3ce436f183e68e07877b285a838db11a    delivered      2017-09-13 08:59:02   \n",
       "2  3ce436f183e68e07877b285a838db11a    delivered      2017-09-13 08:59:02   \n",
       "3  3ce436f183e68e07877b285a838db11a    delivered      2017-09-13 08:59:02   \n",
       "4  3ce436f183e68e07877b285a838db11a    delivered      2017-09-13 08:59:02   \n",
       "\n",
       "   ... product_width_cm                customer_unique_id  \\\n",
       "0  ...           14.000  871766c5855e863f6eccc05f988b23cb   \n",
       "1  ...           14.000  871766c5855e863f6eccc05f988b23cb   \n",
       "2  ...           14.000  871766c5855e863f6eccc05f988b23cb   \n",
       "3  ...           14.000  871766c5855e863f6eccc05f988b23cb   \n",
       "4  ...           14.000  871766c5855e863f6eccc05f988b23cb   \n",
       "\n",
       "  customer_zip_code_prefix          customer_city customer_state     lat  \\\n",
       "0                    28013  campos dos goytacazes             RJ -21.758   \n",
       "1                    28013  campos dos goytacazes             RJ -21.759   \n",
       "2                    28013  campos dos goytacazes             RJ -21.767   \n",
       "3                    28013  campos dos goytacazes             RJ -21.772   \n",
       "4                    28013  campos dos goytacazes             RJ -21.763   \n",
       "\n",
       "      lng                   city  state  product_category_name_english  \n",
       "0 -41.313  campos dos goytacazes     RJ                     cool_stuff  \n",
       "1 -41.307  campos dos goytacazes     RJ                     cool_stuff  \n",
       "2 -41.311  campos dos goytacazes     RJ                     cool_stuff  \n",
       "3 -41.312  campos dos goytacazes     RJ                     cool_stuff  \n",
       "4 -41.306  campos dos goytacazes     RJ                     cool_stuff  \n",
       "\n",
       "[5 rows x 31 columns]"
      ]
     },
     "execution_count": 67,
     "metadata": {},
     "output_type": "execute_result"
    }
   ],
   "source": [
    "order_df.head()"
   ]
  },
  {
   "cell_type": "code",
   "execution_count": 68,
   "id": "d6b2213e-2826-4e96-8e21-6c44d6c86867",
   "metadata": {},
   "outputs": [
    {
     "data": {
      "text/plain": [
       "Index(['order_id', 'order_item_id', 'product_id', 'seller_id',\n",
       "       'shipping_limit_date', 'price', 'freight_value', 'customer_id',\n",
       "       'order_status', 'order_purchase_timestamp', 'order_approved_at',\n",
       "       'order_delivered_carrier_date', 'order_delivered_customer_date',\n",
       "       'order_estimated_delivery_date', 'product_category_name',\n",
       "       'product_name_lenght', 'product_description_lenght',\n",
       "       'product_photos_qty', 'product_weight_g', 'product_length_cm',\n",
       "       'product_height_cm', 'product_width_cm', 'customer_unique_id',\n",
       "       'customer_zip_code_prefix', 'customer_city', 'customer_state', 'lat',\n",
       "       'lng', 'city', 'state', 'product_category_name_english'],\n",
       "      dtype='object')"
      ]
     },
     "execution_count": 68,
     "metadata": {},
     "output_type": "execute_result"
    }
   ],
   "source": [
    "order_df.columns"
   ]
  },
  {
   "cell_type": "code",
   "execution_count": 69,
   "id": "fb46d802-4e6a-4038-a408-67e59bb0534e",
   "metadata": {},
   "outputs": [],
   "source": [
    "anal_columns = ['order_id', 'product_id', 'customer_id',\n",
    "                'order_item_id', 'price', 'freight_value', \n",
    "                'order_status', 'order_purchase_timestamp', 'order_approved_at', 'order_delivered_customer_date', 'order_estimated_delivery_date',\n",
    "                'product_category_name_english',\n",
    "                'customer_zip_code_prefix', 'lat', 'lng', 'city', 'state',\n",
    "                ]"
   ]
  },
  {
   "cell_type": "code",
   "execution_count": 70,
   "id": "d7db2d66-7732-489f-abdb-d8c748b77b3a",
   "metadata": {},
   "outputs": [],
   "source": [
    "order_df = order_df[anal_columns]"
   ]
  },
  {
   "cell_type": "code",
   "execution_count": 71,
   "id": "fae1b551-d362-45a7-ab9a-cf8275f8a661",
   "metadata": {},
   "outputs": [
    {
     "data": {
      "text/html": [
       "<div>\n",
       "<style scoped>\n",
       "    .dataframe tbody tr th:only-of-type {\n",
       "        vertical-align: middle;\n",
       "    }\n",
       "\n",
       "    .dataframe tbody tr th {\n",
       "        vertical-align: top;\n",
       "    }\n",
       "\n",
       "    .dataframe thead th {\n",
       "        text-align: right;\n",
       "    }\n",
       "</style>\n",
       "<table border=\"1\" class=\"dataframe\">\n",
       "  <thead>\n",
       "    <tr style=\"text-align: right;\">\n",
       "      <th></th>\n",
       "      <th>order_id</th>\n",
       "      <th>product_id</th>\n",
       "      <th>customer_id</th>\n",
       "      <th>order_item_id</th>\n",
       "      <th>price</th>\n",
       "      <th>freight_value</th>\n",
       "      <th>order_status</th>\n",
       "      <th>order_purchase_timestamp</th>\n",
       "      <th>order_approved_at</th>\n",
       "      <th>order_delivered_customer_date</th>\n",
       "      <th>order_estimated_delivery_date</th>\n",
       "      <th>product_category_name_english</th>\n",
       "      <th>customer_zip_code_prefix</th>\n",
       "      <th>lat</th>\n",
       "      <th>lng</th>\n",
       "      <th>city</th>\n",
       "      <th>state</th>\n",
       "    </tr>\n",
       "  </thead>\n",
       "  <tbody>\n",
       "    <tr>\n",
       "      <th>0</th>\n",
       "      <td>00010242fe8c5a6d1ba2dd792cb16214</td>\n",
       "      <td>4244733e06e7ecb4970a6e2683c13e61</td>\n",
       "      <td>3ce436f183e68e07877b285a838db11a</td>\n",
       "      <td>1</td>\n",
       "      <td>58.900</td>\n",
       "      <td>13.290</td>\n",
       "      <td>delivered</td>\n",
       "      <td>2017-09-13 08:59:02</td>\n",
       "      <td>2017-09-13 09:45:35</td>\n",
       "      <td>2017-09-20 23:43:48</td>\n",
       "      <td>2017-09-29 00:00:00</td>\n",
       "      <td>cool_stuff</td>\n",
       "      <td>28013</td>\n",
       "      <td>-21.758</td>\n",
       "      <td>-41.313</td>\n",
       "      <td>campos dos goytacazes</td>\n",
       "      <td>RJ</td>\n",
       "    </tr>\n",
       "    <tr>\n",
       "      <th>1</th>\n",
       "      <td>00010242fe8c5a6d1ba2dd792cb16214</td>\n",
       "      <td>4244733e06e7ecb4970a6e2683c13e61</td>\n",
       "      <td>3ce436f183e68e07877b285a838db11a</td>\n",
       "      <td>1</td>\n",
       "      <td>58.900</td>\n",
       "      <td>13.290</td>\n",
       "      <td>delivered</td>\n",
       "      <td>2017-09-13 08:59:02</td>\n",
       "      <td>2017-09-13 09:45:35</td>\n",
       "      <td>2017-09-20 23:43:48</td>\n",
       "      <td>2017-09-29 00:00:00</td>\n",
       "      <td>cool_stuff</td>\n",
       "      <td>28013</td>\n",
       "      <td>-21.759</td>\n",
       "      <td>-41.307</td>\n",
       "      <td>campos dos goytacazes</td>\n",
       "      <td>RJ</td>\n",
       "    </tr>\n",
       "    <tr>\n",
       "      <th>2</th>\n",
       "      <td>00010242fe8c5a6d1ba2dd792cb16214</td>\n",
       "      <td>4244733e06e7ecb4970a6e2683c13e61</td>\n",
       "      <td>3ce436f183e68e07877b285a838db11a</td>\n",
       "      <td>1</td>\n",
       "      <td>58.900</td>\n",
       "      <td>13.290</td>\n",
       "      <td>delivered</td>\n",
       "      <td>2017-09-13 08:59:02</td>\n",
       "      <td>2017-09-13 09:45:35</td>\n",
       "      <td>2017-09-20 23:43:48</td>\n",
       "      <td>2017-09-29 00:00:00</td>\n",
       "      <td>cool_stuff</td>\n",
       "      <td>28013</td>\n",
       "      <td>-21.767</td>\n",
       "      <td>-41.311</td>\n",
       "      <td>campos dos goytacazes</td>\n",
       "      <td>RJ</td>\n",
       "    </tr>\n",
       "    <tr>\n",
       "      <th>3</th>\n",
       "      <td>00010242fe8c5a6d1ba2dd792cb16214</td>\n",
       "      <td>4244733e06e7ecb4970a6e2683c13e61</td>\n",
       "      <td>3ce436f183e68e07877b285a838db11a</td>\n",
       "      <td>1</td>\n",
       "      <td>58.900</td>\n",
       "      <td>13.290</td>\n",
       "      <td>delivered</td>\n",
       "      <td>2017-09-13 08:59:02</td>\n",
       "      <td>2017-09-13 09:45:35</td>\n",
       "      <td>2017-09-20 23:43:48</td>\n",
       "      <td>2017-09-29 00:00:00</td>\n",
       "      <td>cool_stuff</td>\n",
       "      <td>28013</td>\n",
       "      <td>-21.772</td>\n",
       "      <td>-41.312</td>\n",
       "      <td>campos dos goytacazes</td>\n",
       "      <td>RJ</td>\n",
       "    </tr>\n",
       "    <tr>\n",
       "      <th>4</th>\n",
       "      <td>00010242fe8c5a6d1ba2dd792cb16214</td>\n",
       "      <td>4244733e06e7ecb4970a6e2683c13e61</td>\n",
       "      <td>3ce436f183e68e07877b285a838db11a</td>\n",
       "      <td>1</td>\n",
       "      <td>58.900</td>\n",
       "      <td>13.290</td>\n",
       "      <td>delivered</td>\n",
       "      <td>2017-09-13 08:59:02</td>\n",
       "      <td>2017-09-13 09:45:35</td>\n",
       "      <td>2017-09-20 23:43:48</td>\n",
       "      <td>2017-09-29 00:00:00</td>\n",
       "      <td>cool_stuff</td>\n",
       "      <td>28013</td>\n",
       "      <td>-21.763</td>\n",
       "      <td>-41.306</td>\n",
       "      <td>campos dos goytacazes</td>\n",
       "      <td>RJ</td>\n",
       "    </tr>\n",
       "  </tbody>\n",
       "</table>\n",
       "</div>"
      ],
      "text/plain": [
       "                           order_id                        product_id  \\\n",
       "0  00010242fe8c5a6d1ba2dd792cb16214  4244733e06e7ecb4970a6e2683c13e61   \n",
       "1  00010242fe8c5a6d1ba2dd792cb16214  4244733e06e7ecb4970a6e2683c13e61   \n",
       "2  00010242fe8c5a6d1ba2dd792cb16214  4244733e06e7ecb4970a6e2683c13e61   \n",
       "3  00010242fe8c5a6d1ba2dd792cb16214  4244733e06e7ecb4970a6e2683c13e61   \n",
       "4  00010242fe8c5a6d1ba2dd792cb16214  4244733e06e7ecb4970a6e2683c13e61   \n",
       "\n",
       "                        customer_id  order_item_id  price  freight_value  \\\n",
       "0  3ce436f183e68e07877b285a838db11a              1 58.900         13.290   \n",
       "1  3ce436f183e68e07877b285a838db11a              1 58.900         13.290   \n",
       "2  3ce436f183e68e07877b285a838db11a              1 58.900         13.290   \n",
       "3  3ce436f183e68e07877b285a838db11a              1 58.900         13.290   \n",
       "4  3ce436f183e68e07877b285a838db11a              1 58.900         13.290   \n",
       "\n",
       "  order_status order_purchase_timestamp    order_approved_at  \\\n",
       "0    delivered      2017-09-13 08:59:02  2017-09-13 09:45:35   \n",
       "1    delivered      2017-09-13 08:59:02  2017-09-13 09:45:35   \n",
       "2    delivered      2017-09-13 08:59:02  2017-09-13 09:45:35   \n",
       "3    delivered      2017-09-13 08:59:02  2017-09-13 09:45:35   \n",
       "4    delivered      2017-09-13 08:59:02  2017-09-13 09:45:35   \n",
       "\n",
       "  order_delivered_customer_date order_estimated_delivery_date  \\\n",
       "0           2017-09-20 23:43:48           2017-09-29 00:00:00   \n",
       "1           2017-09-20 23:43:48           2017-09-29 00:00:00   \n",
       "2           2017-09-20 23:43:48           2017-09-29 00:00:00   \n",
       "3           2017-09-20 23:43:48           2017-09-29 00:00:00   \n",
       "4           2017-09-20 23:43:48           2017-09-29 00:00:00   \n",
       "\n",
       "  product_category_name_english customer_zip_code_prefix     lat     lng  \\\n",
       "0                    cool_stuff                    28013 -21.758 -41.313   \n",
       "1                    cool_stuff                    28013 -21.759 -41.307   \n",
       "2                    cool_stuff                    28013 -21.767 -41.311   \n",
       "3                    cool_stuff                    28013 -21.772 -41.312   \n",
       "4                    cool_stuff                    28013 -21.763 -41.306   \n",
       "\n",
       "                    city state  \n",
       "0  campos dos goytacazes    RJ  \n",
       "1  campos dos goytacazes    RJ  \n",
       "2  campos dos goytacazes    RJ  \n",
       "3  campos dos goytacazes    RJ  \n",
       "4  campos dos goytacazes    RJ  "
      ]
     },
     "execution_count": 71,
     "metadata": {},
     "output_type": "execute_result"
    }
   ],
   "source": [
    "order_df.head()"
   ]
  },
  {
   "cell_type": "markdown",
   "id": "bebed3a9-6ae6-49eb-a731-9e1e2ab58d79",
   "metadata": {},
   "source": [
    "----\n",
    "#### *데이터 정보 탐색*"
   ]
  },
  {
   "cell_type": "code",
   "execution_count": 72,
   "id": "82c8bf20-3c8a-4d8d-a0f6-02cb5b1da94c",
   "metadata": {},
   "outputs": [
    {
     "data": {
      "text/plain": [
       "order_id                              0\n",
       "product_id                            0\n",
       "customer_id                           0\n",
       "order_item_id                         0\n",
       "price                                 0\n",
       "freight_value                         0\n",
       "order_status                          0\n",
       "order_purchase_timestamp              0\n",
       "order_approved_at                  2994\n",
       "order_delivered_customer_date    353455\n",
       "order_estimated_delivery_date         0\n",
       "product_category_name_english    243995\n",
       "customer_zip_code_prefix              0\n",
       "lat                                 302\n",
       "lng                                 302\n",
       "city                                302\n",
       "state                               302\n",
       "dtype: int64"
      ]
     },
     "execution_count": 72,
     "metadata": {},
     "output_type": "execute_result"
    }
   ],
   "source": [
    "order_df.isnull().sum()"
   ]
  },
  {
   "cell_type": "code",
   "execution_count": 73,
   "id": "d84c74a0-5adb-409b-ad6b-9e859b934ed1",
   "metadata": {},
   "outputs": [
    {
     "name": "stdout",
     "output_type": "stream",
     "text": [
      "<class 'pandas.core.frame.DataFrame'>\n",
      "Int64Index: 17196183 entries, 0 to 17196182\n",
      "Data columns (total 17 columns):\n",
      " #   Column                         Dtype  \n",
      "---  ------                         -----  \n",
      " 0   order_id                       object \n",
      " 1   product_id                     object \n",
      " 2   customer_id                    object \n",
      " 3   order_item_id                  int64  \n",
      " 4   price                          float64\n",
      " 5   freight_value                  float64\n",
      " 6   order_status                   object \n",
      " 7   order_purchase_timestamp       object \n",
      " 8   order_approved_at              object \n",
      " 9   order_delivered_customer_date  object \n",
      " 10  order_estimated_delivery_date  object \n",
      " 11  product_category_name_english  object \n",
      " 12  customer_zip_code_prefix       object \n",
      " 13  lat                            float64\n",
      " 14  lng                            float64\n",
      " 15  city                           object \n",
      " 16  state                          object \n",
      "dtypes: float64(4), int64(1), object(12)\n",
      "memory usage: 2.3+ GB\n"
     ]
    }
   ],
   "source": [
    "order_df.info()"
   ]
  },
  {
   "cell_type": "code",
   "execution_count": 74,
   "id": "58ddf1d4-0c6d-4947-9b8a-48c341ace7b7",
   "metadata": {},
   "outputs": [
    {
     "data": {
      "text/html": [
       "<div>\n",
       "<style scoped>\n",
       "    .dataframe tbody tr th:only-of-type {\n",
       "        vertical-align: middle;\n",
       "    }\n",
       "\n",
       "    .dataframe tbody tr th {\n",
       "        vertical-align: top;\n",
       "    }\n",
       "\n",
       "    .dataframe thead th {\n",
       "        text-align: right;\n",
       "    }\n",
       "</style>\n",
       "<table border=\"1\" class=\"dataframe\">\n",
       "  <thead>\n",
       "    <tr style=\"text-align: right;\">\n",
       "      <th></th>\n",
       "      <th>order_item_id</th>\n",
       "      <th>price</th>\n",
       "      <th>freight_value</th>\n",
       "      <th>lat</th>\n",
       "      <th>lng</th>\n",
       "    </tr>\n",
       "  </thead>\n",
       "  <tbody>\n",
       "    <tr>\n",
       "      <th>count</th>\n",
       "      <td>17196183.000</td>\n",
       "      <td>17196183.000</td>\n",
       "      <td>17196183.000</td>\n",
       "      <td>17195881.000</td>\n",
       "      <td>17195881.000</td>\n",
       "    </tr>\n",
       "    <tr>\n",
       "      <th>mean</th>\n",
       "      <td>1.207</td>\n",
       "      <td>121.390</td>\n",
       "      <td>19.556</td>\n",
       "      <td>-21.971</td>\n",
       "      <td>-45.947</td>\n",
       "    </tr>\n",
       "    <tr>\n",
       "      <th>std</th>\n",
       "      <td>0.705</td>\n",
       "      <td>185.555</td>\n",
       "      <td>14.882</td>\n",
       "      <td>4.287</td>\n",
       "      <td>3.556</td>\n",
       "    </tr>\n",
       "    <tr>\n",
       "      <th>min</th>\n",
       "      <td>1.000</td>\n",
       "      <td>0.850</td>\n",
       "      <td>0.000</td>\n",
       "      <td>-36.605</td>\n",
       "      <td>-101.467</td>\n",
       "    </tr>\n",
       "    <tr>\n",
       "      <th>25%</th>\n",
       "      <td>1.000</td>\n",
       "      <td>39.900</td>\n",
       "      <td>13.470</td>\n",
       "      <td>-23.577</td>\n",
       "      <td>-47.638</td>\n",
       "    </tr>\n",
       "    <tr>\n",
       "      <th>50%</th>\n",
       "      <td>1.000</td>\n",
       "      <td>75.000</td>\n",
       "      <td>16.230</td>\n",
       "      <td>-22.911</td>\n",
       "      <td>-46.458</td>\n",
       "    </tr>\n",
       "    <tr>\n",
       "      <th>75%</th>\n",
       "      <td>1.000</td>\n",
       "      <td>135.900</td>\n",
       "      <td>20.250</td>\n",
       "      <td>-20.422</td>\n",
       "      <td>-43.352</td>\n",
       "    </tr>\n",
       "    <tr>\n",
       "      <th>max</th>\n",
       "      <td>21.000</td>\n",
       "      <td>6735.000</td>\n",
       "      <td>409.680</td>\n",
       "      <td>45.066</td>\n",
       "      <td>13.820</td>\n",
       "    </tr>\n",
       "  </tbody>\n",
       "</table>\n",
       "</div>"
      ],
      "text/plain": [
       "       order_item_id        price  freight_value          lat          lng\n",
       "count   17196183.000 17196183.000   17196183.000 17195881.000 17195881.000\n",
       "mean           1.207      121.390         19.556      -21.971      -45.947\n",
       "std            0.705      185.555         14.882        4.287        3.556\n",
       "min            1.000        0.850          0.000      -36.605     -101.467\n",
       "25%            1.000       39.900         13.470      -23.577      -47.638\n",
       "50%            1.000       75.000         16.230      -22.911      -46.458\n",
       "75%            1.000      135.900         20.250      -20.422      -43.352\n",
       "max           21.000     6735.000        409.680       45.066       13.820"
      ]
     },
     "execution_count": 74,
     "metadata": {},
     "output_type": "execute_result"
    }
   ],
   "source": [
    "order_df.describe()"
   ]
  },
  {
   "cell_type": "code",
   "execution_count": 75,
   "id": "96f5d1fc-c34b-429a-aa24-75cb9a9d2ddb",
   "metadata": {},
   "outputs": [],
   "source": [
    "pd.set_option('display.float_format', lambda x: '%.3f' % x)"
   ]
  },
  {
   "cell_type": "code",
   "execution_count": 76,
   "id": "53ad29e7-0eef-4920-a3de-37d87cc77531",
   "metadata": {},
   "outputs": [
    {
     "data": {
      "text/html": [
       "<div>\n",
       "<style scoped>\n",
       "    .dataframe tbody tr th:only-of-type {\n",
       "        vertical-align: middle;\n",
       "    }\n",
       "\n",
       "    .dataframe tbody tr th {\n",
       "        vertical-align: top;\n",
       "    }\n",
       "\n",
       "    .dataframe thead th {\n",
       "        text-align: right;\n",
       "    }\n",
       "</style>\n",
       "<table border=\"1\" class=\"dataframe\">\n",
       "  <thead>\n",
       "    <tr style=\"text-align: right;\">\n",
       "      <th></th>\n",
       "      <th>order_item_id</th>\n",
       "      <th>price</th>\n",
       "      <th>freight_value</th>\n",
       "      <th>lat</th>\n",
       "      <th>lng</th>\n",
       "    </tr>\n",
       "  </thead>\n",
       "  <tbody>\n",
       "    <tr>\n",
       "      <th>count</th>\n",
       "      <td>17196183.000</td>\n",
       "      <td>17196183.000</td>\n",
       "      <td>17196183.000</td>\n",
       "      <td>17195881.000</td>\n",
       "      <td>17195881.000</td>\n",
       "    </tr>\n",
       "    <tr>\n",
       "      <th>mean</th>\n",
       "      <td>1.207</td>\n",
       "      <td>121.390</td>\n",
       "      <td>19.556</td>\n",
       "      <td>-21.971</td>\n",
       "      <td>-45.947</td>\n",
       "    </tr>\n",
       "    <tr>\n",
       "      <th>std</th>\n",
       "      <td>0.705</td>\n",
       "      <td>185.555</td>\n",
       "      <td>14.882</td>\n",
       "      <td>4.287</td>\n",
       "      <td>3.556</td>\n",
       "    </tr>\n",
       "    <tr>\n",
       "      <th>min</th>\n",
       "      <td>1.000</td>\n",
       "      <td>0.850</td>\n",
       "      <td>0.000</td>\n",
       "      <td>-36.605</td>\n",
       "      <td>-101.467</td>\n",
       "    </tr>\n",
       "    <tr>\n",
       "      <th>25%</th>\n",
       "      <td>1.000</td>\n",
       "      <td>39.900</td>\n",
       "      <td>13.470</td>\n",
       "      <td>-23.577</td>\n",
       "      <td>-47.638</td>\n",
       "    </tr>\n",
       "    <tr>\n",
       "      <th>50%</th>\n",
       "      <td>1.000</td>\n",
       "      <td>75.000</td>\n",
       "      <td>16.230</td>\n",
       "      <td>-22.911</td>\n",
       "      <td>-46.458</td>\n",
       "    </tr>\n",
       "    <tr>\n",
       "      <th>75%</th>\n",
       "      <td>1.000</td>\n",
       "      <td>135.900</td>\n",
       "      <td>20.250</td>\n",
       "      <td>-20.422</td>\n",
       "      <td>-43.352</td>\n",
       "    </tr>\n",
       "    <tr>\n",
       "      <th>max</th>\n",
       "      <td>21.000</td>\n",
       "      <td>6735.000</td>\n",
       "      <td>409.680</td>\n",
       "      <td>45.066</td>\n",
       "      <td>13.820</td>\n",
       "    </tr>\n",
       "  </tbody>\n",
       "</table>\n",
       "</div>"
      ],
      "text/plain": [
       "       order_item_id        price  freight_value          lat          lng\n",
       "count   17196183.000 17196183.000   17196183.000 17195881.000 17195881.000\n",
       "mean           1.207      121.390         19.556      -21.971      -45.947\n",
       "std            0.705      185.555         14.882        4.287        3.556\n",
       "min            1.000        0.850          0.000      -36.605     -101.467\n",
       "25%            1.000       39.900         13.470      -23.577      -47.638\n",
       "50%            1.000       75.000         16.230      -22.911      -46.458\n",
       "75%            1.000      135.900         20.250      -20.422      -43.352\n",
       "max           21.000     6735.000        409.680       45.066       13.820"
      ]
     },
     "execution_count": 76,
     "metadata": {},
     "output_type": "execute_result"
    }
   ],
   "source": [
    "order_df.describe()"
   ]
  },
  {
   "cell_type": "code",
   "execution_count": 77,
   "id": "61a602d2-b4f5-4bda-80f1-d0705802607e",
   "metadata": {},
   "outputs": [
    {
     "data": {
      "text/plain": [
       "delivered      16843008\n",
       "shipped          156562\n",
       "canceled          76890\n",
       "invoiced          60740\n",
       "processing        57084\n",
       "unavailable        1241\n",
       "approved            658\n",
       "Name: order_status, dtype: int64"
      ]
     },
     "execution_count": 77,
     "metadata": {},
     "output_type": "execute_result"
    }
   ],
   "source": [
    "order_df['order_status'].value_counts()"
   ]
  },
  {
   "cell_type": "code",
   "execution_count": 78,
   "id": "3cecc50e-3b73-4b15-b8cc-6555876864ca",
   "metadata": {},
   "outputs": [
    {
     "data": {
      "text/html": [
       "<div>\n",
       "<style scoped>\n",
       "    .dataframe tbody tr th:only-of-type {\n",
       "        vertical-align: middle;\n",
       "    }\n",
       "\n",
       "    .dataframe tbody tr th {\n",
       "        vertical-align: top;\n",
       "    }\n",
       "\n",
       "    .dataframe thead th {\n",
       "        text-align: right;\n",
       "    }\n",
       "</style>\n",
       "<table border=\"1\" class=\"dataframe\">\n",
       "  <thead>\n",
       "    <tr style=\"text-align: right;\">\n",
       "      <th></th>\n",
       "      <th>order_purchase_timestamp</th>\n",
       "      <th>order_approved_at</th>\n",
       "      <th>order_delivered_customer_date</th>\n",
       "      <th>order_estimated_delivery_date</th>\n",
       "    </tr>\n",
       "  </thead>\n",
       "  <tbody>\n",
       "    <tr>\n",
       "      <th>0</th>\n",
       "      <td>2017-09-13 08:59:02</td>\n",
       "      <td>2017-09-13 09:45:35</td>\n",
       "      <td>2017-09-20 23:43:48</td>\n",
       "      <td>2017-09-29 00:00:00</td>\n",
       "    </tr>\n",
       "    <tr>\n",
       "      <th>1</th>\n",
       "      <td>2017-09-13 08:59:02</td>\n",
       "      <td>2017-09-13 09:45:35</td>\n",
       "      <td>2017-09-20 23:43:48</td>\n",
       "      <td>2017-09-29 00:00:00</td>\n",
       "    </tr>\n",
       "    <tr>\n",
       "      <th>2</th>\n",
       "      <td>2017-09-13 08:59:02</td>\n",
       "      <td>2017-09-13 09:45:35</td>\n",
       "      <td>2017-09-20 23:43:48</td>\n",
       "      <td>2017-09-29 00:00:00</td>\n",
       "    </tr>\n",
       "    <tr>\n",
       "      <th>3</th>\n",
       "      <td>2017-09-13 08:59:02</td>\n",
       "      <td>2017-09-13 09:45:35</td>\n",
       "      <td>2017-09-20 23:43:48</td>\n",
       "      <td>2017-09-29 00:00:00</td>\n",
       "    </tr>\n",
       "    <tr>\n",
       "      <th>4</th>\n",
       "      <td>2017-09-13 08:59:02</td>\n",
       "      <td>2017-09-13 09:45:35</td>\n",
       "      <td>2017-09-20 23:43:48</td>\n",
       "      <td>2017-09-29 00:00:00</td>\n",
       "    </tr>\n",
       "    <tr>\n",
       "      <th>...</th>\n",
       "      <td>...</td>\n",
       "      <td>...</td>\n",
       "      <td>...</td>\n",
       "      <td>...</td>\n",
       "    </tr>\n",
       "    <tr>\n",
       "      <th>17196178</th>\n",
       "      <td>2018-06-09 17:00:18</td>\n",
       "      <td>2018-06-09 17:10:13</td>\n",
       "      <td>2018-06-14 17:56:26</td>\n",
       "      <td>2018-06-28 00:00:00</td>\n",
       "    </tr>\n",
       "    <tr>\n",
       "      <th>17196179</th>\n",
       "      <td>2018-06-09 17:00:18</td>\n",
       "      <td>2018-06-09 17:10:13</td>\n",
       "      <td>2018-06-14 17:56:26</td>\n",
       "      <td>2018-06-28 00:00:00</td>\n",
       "    </tr>\n",
       "    <tr>\n",
       "      <th>17196180</th>\n",
       "      <td>2018-06-09 17:00:18</td>\n",
       "      <td>2018-06-09 17:10:13</td>\n",
       "      <td>2018-06-14 17:56:26</td>\n",
       "      <td>2018-06-28 00:00:00</td>\n",
       "    </tr>\n",
       "    <tr>\n",
       "      <th>17196181</th>\n",
       "      <td>2018-06-09 17:00:18</td>\n",
       "      <td>2018-06-09 17:10:13</td>\n",
       "      <td>2018-06-14 17:56:26</td>\n",
       "      <td>2018-06-28 00:00:00</td>\n",
       "    </tr>\n",
       "    <tr>\n",
       "      <th>17196182</th>\n",
       "      <td>2018-06-09 17:00:18</td>\n",
       "      <td>2018-06-09 17:10:13</td>\n",
       "      <td>2018-06-14 17:56:26</td>\n",
       "      <td>2018-06-28 00:00:00</td>\n",
       "    </tr>\n",
       "  </tbody>\n",
       "</table>\n",
       "<p>17196183 rows × 4 columns</p>\n",
       "</div>"
      ],
      "text/plain": [
       "         order_purchase_timestamp    order_approved_at  \\\n",
       "0             2017-09-13 08:59:02  2017-09-13 09:45:35   \n",
       "1             2017-09-13 08:59:02  2017-09-13 09:45:35   \n",
       "2             2017-09-13 08:59:02  2017-09-13 09:45:35   \n",
       "3             2017-09-13 08:59:02  2017-09-13 09:45:35   \n",
       "4             2017-09-13 08:59:02  2017-09-13 09:45:35   \n",
       "...                           ...                  ...   \n",
       "17196178      2018-06-09 17:00:18  2018-06-09 17:10:13   \n",
       "17196179      2018-06-09 17:00:18  2018-06-09 17:10:13   \n",
       "17196180      2018-06-09 17:00:18  2018-06-09 17:10:13   \n",
       "17196181      2018-06-09 17:00:18  2018-06-09 17:10:13   \n",
       "17196182      2018-06-09 17:00:18  2018-06-09 17:10:13   \n",
       "\n",
       "         order_delivered_customer_date order_estimated_delivery_date  \n",
       "0                  2017-09-20 23:43:48           2017-09-29 00:00:00  \n",
       "1                  2017-09-20 23:43:48           2017-09-29 00:00:00  \n",
       "2                  2017-09-20 23:43:48           2017-09-29 00:00:00  \n",
       "3                  2017-09-20 23:43:48           2017-09-29 00:00:00  \n",
       "4                  2017-09-20 23:43:48           2017-09-29 00:00:00  \n",
       "...                                ...                           ...  \n",
       "17196178           2018-06-14 17:56:26           2018-06-28 00:00:00  \n",
       "17196179           2018-06-14 17:56:26           2018-06-28 00:00:00  \n",
       "17196180           2018-06-14 17:56:26           2018-06-28 00:00:00  \n",
       "17196181           2018-06-14 17:56:26           2018-06-28 00:00:00  \n",
       "17196182           2018-06-14 17:56:26           2018-06-28 00:00:00  \n",
       "\n",
       "[17196183 rows x 4 columns]"
      ]
     },
     "execution_count": 78,
     "metadata": {},
     "output_type": "execute_result"
    }
   ],
   "source": [
    "order_df[['order_purchase_timestamp', 'order_approved_at', 'order_delivered_customer_date', 'order_estimated_delivery_date']]"
   ]
  },
  {
   "cell_type": "code",
   "execution_count": 79,
   "id": "f2c0a036-76cd-4b10-9032-417a72d81162",
   "metadata": {},
   "outputs": [
    {
     "data": {
      "text/html": [
       "<div>\n",
       "<style scoped>\n",
       "    .dataframe tbody tr th:only-of-type {\n",
       "        vertical-align: middle;\n",
       "    }\n",
       "\n",
       "    .dataframe tbody tr th {\n",
       "        vertical-align: top;\n",
       "    }\n",
       "\n",
       "    .dataframe thead th {\n",
       "        text-align: right;\n",
       "    }\n",
       "</style>\n",
       "<table border=\"1\" class=\"dataframe\">\n",
       "  <thead>\n",
       "    <tr style=\"text-align: right;\">\n",
       "      <th></th>\n",
       "      <th>city</th>\n",
       "      <th>state</th>\n",
       "    </tr>\n",
       "  </thead>\n",
       "  <tbody>\n",
       "    <tr>\n",
       "      <th>0</th>\n",
       "      <td>campos dos goytacazes</td>\n",
       "      <td>RJ</td>\n",
       "    </tr>\n",
       "    <tr>\n",
       "      <th>1</th>\n",
       "      <td>campos dos goytacazes</td>\n",
       "      <td>RJ</td>\n",
       "    </tr>\n",
       "    <tr>\n",
       "      <th>2</th>\n",
       "      <td>campos dos goytacazes</td>\n",
       "      <td>RJ</td>\n",
       "    </tr>\n",
       "    <tr>\n",
       "      <th>3</th>\n",
       "      <td>campos dos goytacazes</td>\n",
       "      <td>RJ</td>\n",
       "    </tr>\n",
       "    <tr>\n",
       "      <th>4</th>\n",
       "      <td>campos dos goytacazes</td>\n",
       "      <td>RJ</td>\n",
       "    </tr>\n",
       "    <tr>\n",
       "      <th>...</th>\n",
       "      <td>...</td>\n",
       "      <td>...</td>\n",
       "    </tr>\n",
       "    <tr>\n",
       "      <th>17196178</th>\n",
       "      <td>botucatu</td>\n",
       "      <td>SP</td>\n",
       "    </tr>\n",
       "    <tr>\n",
       "      <th>17196179</th>\n",
       "      <td>botucatu</td>\n",
       "      <td>SP</td>\n",
       "    </tr>\n",
       "    <tr>\n",
       "      <th>17196180</th>\n",
       "      <td>botucatu</td>\n",
       "      <td>SP</td>\n",
       "    </tr>\n",
       "    <tr>\n",
       "      <th>17196181</th>\n",
       "      <td>botucatu</td>\n",
       "      <td>SP</td>\n",
       "    </tr>\n",
       "    <tr>\n",
       "      <th>17196182</th>\n",
       "      <td>botucatu</td>\n",
       "      <td>SP</td>\n",
       "    </tr>\n",
       "  </tbody>\n",
       "</table>\n",
       "<p>17196183 rows × 2 columns</p>\n",
       "</div>"
      ],
      "text/plain": [
       "                           city state\n",
       "0         campos dos goytacazes    RJ\n",
       "1         campos dos goytacazes    RJ\n",
       "2         campos dos goytacazes    RJ\n",
       "3         campos dos goytacazes    RJ\n",
       "4         campos dos goytacazes    RJ\n",
       "...                         ...   ...\n",
       "17196178               botucatu    SP\n",
       "17196179               botucatu    SP\n",
       "17196180               botucatu    SP\n",
       "17196181               botucatu    SP\n",
       "17196182               botucatu    SP\n",
       "\n",
       "[17196183 rows x 2 columns]"
      ]
     },
     "execution_count": 79,
     "metadata": {},
     "output_type": "execute_result"
    }
   ],
   "source": [
    "order_df[['city', 'state']]"
   ]
  },
  {
   "cell_type": "code",
   "execution_count": 80,
   "id": "5bb56a4c-fb2f-420c-9012-53a10c7f7959",
   "metadata": {},
   "outputs": [
    {
     "data": {
      "text/plain": [
       "rio de janeiro           2185517\n",
       "sao paulo                1333209\n",
       "belo horizonte            850346\n",
       "niteroi                   455864\n",
       "curitiba                  295003\n",
       "                          ...   \n",
       "união do sul                   1\n",
       "presidente juscelino           1\n",
       "missão velha                   1\n",
       "são josé do campestre          1\n",
       "lagoa do piaui                 1\n",
       "Name: city, Length: 5801, dtype: int64"
      ]
     },
     "execution_count": 80,
     "metadata": {},
     "output_type": "execute_result"
    }
   ],
   "source": [
    "order_df['city'].value_counts()"
   ]
  },
  {
   "cell_type": "code",
   "execution_count": 85,
   "id": "f3456d5c-7be5-4e9d-a13b-683e5be1caf4",
   "metadata": {},
   "outputs": [
    {
     "data": {
      "text/plain": [
       "count      5801.000\n",
       "mean       2964.296\n",
       "std       37717.499\n",
       "min           1.000\n",
       "25%          13.000\n",
       "50%          62.000\n",
       "75%         468.000\n",
       "max     2185517.000\n",
       "Name: city, dtype: float64"
      ]
     },
     "execution_count": 85,
     "metadata": {},
     "output_type": "execute_result"
    }
   ],
   "source": [
    "order_df['city'].value_counts().describe()"
   ]
  },
  {
   "cell_type": "code",
   "execution_count": 91,
   "id": "3ae7e82b-ccd5-481f-9a96-d07b763e73aa",
   "metadata": {},
   "outputs": [
    {
     "data": {
      "text/plain": [
       "{'whiskers': [<matplotlib.lines.Line2D at 0x7fe10487f490>,\n",
       "  <matplotlib.lines.Line2D at 0x7fe10487f820>],\n",
       " 'caps': [<matplotlib.lines.Line2D at 0x7fe10487fbb0>,\n",
       "  <matplotlib.lines.Line2D at 0x7fe10487ff40>],\n",
       " 'boxes': [<matplotlib.lines.Line2D at 0x7fe10487f100>],\n",
       " 'medians': [<matplotlib.lines.Line2D at 0x7fe104889310>],\n",
       " 'fliers': [<matplotlib.lines.Line2D at 0x7fe1048896a0>],\n",
       " 'means': []}"
      ]
     },
     "execution_count": 91,
     "metadata": {},
     "output_type": "execute_result"
    },
    {
     "data": {
      "image/png": "[encoded data removed]",
      "text/plain": [
       "<Figure size 432x288 with 1 Axes>"
      ]
     },
     "metadata": {
      "needs_background": "light"
     },
     "output_type": "display_data"
    }
   ],
   "source": [
    "plt.boxplot(order_df['city'].value_counts())"
   ]
  },
  {
   "cell_type": "code",
   "execution_count": 92,
   "id": "41dffd96-63db-4dd6-8152-33c7aae3cba2",
   "metadata": {},
   "outputs": [
    {
     "data": {
      "text/plain": [
       "{'whiskers': [<matplotlib.lines.Line2D at 0x7fe0c4f30bb0>,\n",
       "  <matplotlib.lines.Line2D at 0x7fe0c4f30f40>],\n",
       " 'caps': [<matplotlib.lines.Line2D at 0x7fe1048ab310>,\n",
       "  <matplotlib.lines.Line2D at 0x7fe1048ab6a0>],\n",
       " 'boxes': [<matplotlib.lines.Line2D at 0x7fe0c4f30820>],\n",
       " 'medians': [<matplotlib.lines.Line2D at 0x7fe1048aba30>],\n",
       " 'fliers': [<matplotlib.lines.Line2D at 0x7fe1048abdc0>],\n",
       " 'means': []}"
      ]
     },
     "execution_count": 92,
     "metadata": {},
     "output_type": "execute_result"
    },
    {
     "data": {
      "image/png": "[encoded data removed]",
      "text/plain": [
       "<Figure size 432x288 with 1 Axes>"
      ]
     },
     "metadata": {
      "needs_background": "light"
     },
     "output_type": "display_data"
    }
   ],
   "source": [
    "plt.ticklabel_format(style='plain')\n",
    "plt.boxplot(order_df['city'].value_counts())"
   ]
  },
  {
   "cell_type": "code",
   "execution_count": 81,
   "id": "df3d7dc8-6344-475b-bfb5-c8dcaa3454fb",
   "metadata": {},
   "outputs": [
    {
     "data": {
      "text/plain": [
       "SP    6396807\n",
       "RJ    3443647\n",
       "MG    3277695\n",
       "RS     925129\n",
       "PR     716308\n",
       "SC     625259\n",
       "BA     416850\n",
       "ES     353706\n",
       "GO     154963\n",
       "MT     145417\n",
       "PE     127671\n",
       "DF     105419\n",
       "PA      93342\n",
       "CE      71497\n",
       "MS      71107\n",
       "MA      59755\n",
       "AL      36573\n",
       "PB      31573\n",
       "SE      27214\n",
       "PI      26490\n",
       "RO      23767\n",
       "RN      23212\n",
       "TO      19888\n",
       "AC       8332\n",
       "AM       6267\n",
       "AP       5582\n",
       "RR       2411\n",
       "Name: state, dtype: int64"
      ]
     },
     "execution_count": 81,
     "metadata": {},
     "output_type": "execute_result"
    }
   ],
   "source": [
    "order_df['state'].value_counts()"
   ]
  },
  {
   "cell_type": "code",
   "execution_count": 94,
   "id": "fe7d0355-78b6-4a15-add1-bf8397c7fe68",
   "metadata": {},
   "outputs": [
    {
     "data": {
      "text/plain": [
       "{'whiskers': [<matplotlib.lines.Line2D at 0x7fe0e6689d00>,\n",
       "  <matplotlib.lines.Line2D at 0x7fe0e669a0d0>],\n",
       " 'caps': [<matplotlib.lines.Line2D at 0x7fe0e669a460>,\n",
       "  <matplotlib.lines.Line2D at 0x7fe0e669a7f0>],\n",
       " 'boxes': [<matplotlib.lines.Line2D at 0x7fe0e6689970>],\n",
       " 'medians': [<matplotlib.lines.Line2D at 0x7fe0e669ab80>],\n",
       " 'fliers': [<matplotlib.lines.Line2D at 0x7fe0e669af10>],\n",
       " 'means': []}"
      ]
     },
     "execution_count": 94,
     "metadata": {},
     "output_type": "execute_result"
    },
    {
     "data": {
      "image/png": "[encoded data removed]",
      "text/plain": [
       "<Figure size 432x288 with 1 Axes>"
      ]
     },
     "metadata": {
      "needs_background": "light"
     },
     "output_type": "display_data"
    }
   ],
   "source": [
    "plt.ticklabel_format(style='plain')\n",
    "plt.boxplot(order_df['state'].value_counts())"
   ]
  },
  {
   "cell_type": "markdown",
   "id": "73a0f643-b7e6-450f-8f6e-722ae09da0f7",
   "metadata": {},
   "source": [
    "### [전처리]"
   ]
  },
  {
   "cell_type": "markdown",
   "id": "5dbf8621-5539-4876-9bb1-2bea5169c0d9",
   "metadata": {},
   "source": [
    "----\n",
    "#### *열 타입 변경*"
   ]
  },
  {
   "cell_type": "code",
   "execution_count": 95,
   "id": "0a166cb8-b1c6-4a58-9b44-1f4bb28055df",
   "metadata": {},
   "outputs": [
    {
     "name": "stdout",
     "output_type": "stream",
     "text": [
      "<class 'pandas.core.frame.DataFrame'>\n",
      "Int64Index: 17196183 entries, 0 to 17196182\n",
      "Data columns (total 17 columns):\n",
      " #   Column                         Dtype  \n",
      "---  ------                         -----  \n",
      " 0   order_id                       object \n",
      " 1   product_id                     object \n",
      " 2   customer_id                    object \n",
      " 3   order_item_id                  int64  \n",
      " 4   price                          float64\n",
      " 5   freight_value                  float64\n",
      " 6   order_status                   object \n",
      " 7   order_purchase_timestamp       object \n",
      " 8   order_approved_at              object \n",
      " 9   order_delivered_customer_date  object \n",
      " 10  order_estimated_delivery_date  object \n",
      " 11  product_category_name_english  object \n",
      " 12  customer_zip_code_prefix       object \n",
      " 13  lat                            float64\n",
      " 14  lng                            float64\n",
      " 15  city                           object \n",
      " 16  state                          object \n",
      "dtypes: float64(4), int64(1), object(12)\n",
      "memory usage: 2.3+ GB\n"
     ]
    }
   ],
   "source": [
    "order_df.info()"
   ]
  },
  {
   "cell_type": "code",
   "execution_count": 105,
   "id": "51f9cb41-7681-49d7-ac7d-bca0e5fe37bc",
   "metadata": {},
   "outputs": [],
   "source": [
    "order_df['order_purchase_timestamp'] = pd.to_datetime(order_df['order_purchase_timestamp'])\n",
    "order_df['order_approved_at'] = pd.to_datetime(order_df['order_approved_at'])\n",
    "order_df['order_delivered_customer_date'] = pd.to_datetime(order_df['order_delivered_customer_date'])\n",
    "order_df['order_estimated_delivery_date'] = pd.to_datetime(order_df['order_estimated_delivery_date'])"
   ]
  },
  {
   "cell_type": "code",
   "execution_count": 106,
   "id": "a55dbc9b-ea10-440b-8ede-461738dbaebd",
   "metadata": {},
   "outputs": [
    {
     "data": {
      "text/plain": [
       "Timestamp('2017-09-13 08:59:02')"
      ]
     },
     "execution_count": 106,
     "metadata": {},
     "output_type": "execute_result"
    }
   ],
   "source": [
    "order_df['order_purchase_timestamp'][0]"
   ]
  },
  {
   "cell_type": "code",
   "execution_count": 113,
   "id": "8d2c7eba-3be0-40cf-b790-69de2b276dfa",
   "metadata": {},
   "outputs": [
    {
     "data": {
      "text/plain": [
       "2017"
      ]
     },
     "execution_count": 113,
     "metadata": {},
     "output_type": "execute_result"
    }
   ],
   "source": [
    "order_df['order_purchase_timestamp'][0].year"
   ]
  },
  {
   "cell_type": "markdown",
   "id": "ea34c1c9-711b-4206-91d9-cfc3e06a6d17",
   "metadata": {},
   "source": [
    "----\n",
    "#### *배송 완료 필터링*"
   ]
  },
  {
   "cell_type": "code",
   "execution_count": 115,
   "id": "a0a941e0-1db4-400f-a087-567a3abfd2de",
   "metadata": {},
   "outputs": [
    {
     "data": {
      "text/plain": [
       "delivered      16843008\n",
       "shipped          156562\n",
       "canceled          76890\n",
       "invoiced          60740\n",
       "processing        57084\n",
       "unavailable        1241\n",
       "approved            658\n",
       "Name: order_status, dtype: int64"
      ]
     },
     "execution_count": 115,
     "metadata": {},
     "output_type": "execute_result"
    }
   ],
   "source": [
    "order_df['order_status'].value_counts()"
   ]
  },
  {
   "cell_type": "code",
   "execution_count": 116,
   "id": "08dfc6b7-2f86-4666-9999-0b986cede78e",
   "metadata": {},
   "outputs": [
    {
     "data": {
      "text/plain": [
       "0.9794620120058039"
      ]
     },
     "execution_count": 116,
     "metadata": {},
     "output_type": "execute_result"
    }
   ],
   "source": [
    "16843008 / order_df.shape[0]"
   ]
  },
  {
   "cell_type": "code",
   "execution_count": 117,
   "id": "8c3a5624-1e6f-4ca0-ba0b-11c9a764d3e4",
   "metadata": {},
   "outputs": [],
   "source": [
    "order_df = order_df[order_df['order_status']=='delivered']"
   ]
  },
  {
   "cell_type": "code",
   "execution_count": 118,
   "id": "f448de01-55ad-4217-a612-f4c637ea13eb",
   "metadata": {},
   "outputs": [
    {
     "data": {
      "text/plain": [
       "(16843008, 17)"
      ]
     },
     "execution_count": 118,
     "metadata": {},
     "output_type": "execute_result"
    }
   ],
   "source": [
    "order_df.shape"
   ]
  },
  {
   "cell_type": "markdown",
   "id": "567566ef-36f9-4aa7-a034-94b911a756c5",
   "metadata": {},
   "source": [
    "----\n",
    "#### *결측치 & 이상치 처리*"
   ]
  },
  {
   "cell_type": "code",
   "execution_count": 119,
   "id": "41ae91bf-2b5d-4b57-8b0b-67e5a35dddca",
   "metadata": {},
   "outputs": [
    {
     "data": {
      "text/plain": [
       "order_id                              0\n",
       "product_id                            0\n",
       "customer_id                           0\n",
       "order_item_id                         0\n",
       "price                                 0\n",
       "freight_value                         0\n",
       "order_status                          0\n",
       "order_purchase_timestamp              0\n",
       "order_approved_at                  2994\n",
       "order_delivered_customer_date      1261\n",
       "order_estimated_delivery_date         0\n",
       "product_category_name_english    234556\n",
       "customer_zip_code_prefix              0\n",
       "lat                                 288\n",
       "lng                                 288\n",
       "city                                288\n",
       "state                               288\n",
       "dtype: int64"
      ]
     },
     "execution_count": 119,
     "metadata": {},
     "output_type": "execute_result"
    }
   ],
   "source": [
    "order_df.isnull().sum()"
   ]
  },
  {
   "cell_type": "code",
   "execution_count": 122,
   "id": "be2e28de-4866-4fae-a8ef-6ab3c2f45259",
   "metadata": {},
   "outputs": [],
   "source": [
    "order_df = order_df.dropna(subset=['order_approved_at', 'order_delivered_customer_date', 'lat'])"
   ]
  },
  {
   "cell_type": "code",
   "execution_count": 123,
   "id": "d150c16c-867c-441a-906f-4552f9b43289",
   "metadata": {},
   "outputs": [
    {
     "data": {
      "text/plain": [
       "order_id                              0\n",
       "product_id                            0\n",
       "customer_id                           0\n",
       "order_item_id                         0\n",
       "price                                 0\n",
       "freight_value                         0\n",
       "order_status                          0\n",
       "order_purchase_timestamp              0\n",
       "order_approved_at                     0\n",
       "order_delivered_customer_date         0\n",
       "order_estimated_delivery_date         0\n",
       "product_category_name_english    234382\n",
       "customer_zip_code_prefix              0\n",
       "lat                                   0\n",
       "lng                                   0\n",
       "city                                  0\n",
       "state                                 0\n",
       "dtype: int64"
      ]
     },
     "execution_count": 123,
     "metadata": {},
     "output_type": "execute_result"
    }
   ],
   "source": [
    "order_df.isnull().sum()"
   ]
  },
  {
   "cell_type": "code",
   "execution_count": 124,
   "id": "db63274a-42e3-4fea-92b4-2f186ecefcf5",
   "metadata": {},
   "outputs": [
    {
     "data": {
      "text/plain": [
       "(16838465, 17)"
      ]
     },
     "execution_count": 124,
     "metadata": {},
     "output_type": "execute_result"
    }
   ],
   "source": [
    "order_df.shape"
   ]
  },
  {
   "cell_type": "markdown",
   "id": "1d7ded0d-2f9f-4cfb-9a28-ff3f9ff1e136",
   "metadata": {},
   "source": [
    "----\n",
    "# 2. 시간대별 주문데이터 분석"
   ]
  },
  {
   "cell_type": "markdown",
   "id": "e7f084f2-3be4-42d9-a463-9a6bc7739024",
   "metadata": {},
   "source": [
    "### [시간대별 주문량 분석]"
   ]
  },
  {
   "cell_type": "markdown",
   "id": "334145eb-6253-426f-af7f-e16790345bfc",
   "metadata": {},
   "source": [
    "----\n",
    "#### *주문 일자 탐색*"
   ]
  },
  {
   "cell_type": "code",
   "execution_count": 129,
   "id": "8fc694b5-304a-4ab4-a81e-8b871591e30d",
   "metadata": {},
   "outputs": [
    {
     "data": {
      "text/plain": [
       "Timestamp('2018-08-29 15:00:37')"
      ]
     },
     "execution_count": 129,
     "metadata": {},
     "output_type": "execute_result"
    }
   ],
   "source": [
    "order_df['order_purchase_timestamp'].max()"
   ]
  },
  {
   "cell_type": "code",
   "execution_count": 130,
   "id": "601dfa85-62ef-4db8-9213-eb19264865e9",
   "metadata": {},
   "outputs": [
    {
     "data": {
      "text/plain": [
       "Timestamp('2016-09-15 12:16:38')"
      ]
     },
     "execution_count": 130,
     "metadata": {},
     "output_type": "execute_result"
    }
   ],
   "source": [
    "order_df['order_purchase_timestamp'].min()"
   ]
  },
  {
   "cell_type": "code",
   "execution_count": 138,
   "id": "4e9ea061-8b18-4df3-9aa6-d5937d405a56",
   "metadata": {},
   "outputs": [
    {
     "data": {
      "text/plain": [
       "datetime.date(2017, 9, 13)"
      ]
     },
     "execution_count": 138,
     "metadata": {},
     "output_type": "execute_result"
    }
   ],
   "source": [
    "order_df['order_purchase_timestamp'][0].date()"
   ]
  },
  {
   "cell_type": "code",
   "execution_count": 144,
   "id": "47e07c97-2108-483c-a157-4619d02069bf",
   "metadata": {},
   "outputs": [],
   "source": [
    "order_df['order_purchase_date'] = order_df['order_purchase_timestamp'].apply(lambda x: x.date())"
   ]
  },
  {
   "cell_type": "code",
   "execution_count": 148,
   "id": "a33369ea-a24d-4bd4-8850-30c9a5bba2da",
   "metadata": {},
   "outputs": [
    {
     "data": {
      "text/plain": [
       "<AxesSubplot:xlabel='order_purchase_date'>"
      ]
     },
     "execution_count": 148,
     "metadata": {},
     "output_type": "execute_result"
    },
    {
     "data": {
      "image/png": "[encoded data removed]",
      "text/plain": [
       "<Figure size 720x576 with 1 Axes>"
      ]
     },
     "metadata": {
      "needs_background": "light"
     },
     "output_type": "display_data"
    }
   ],
   "source": [
    "plt.rcParams['figure.figsize'] = [10, 8]\n",
    "order_df.groupby('order_purchase_date')['order_id'].count().plot()"
   ]
  },
  {
   "cell_type": "markdown",
   "id": "283aadcd-3d86-4c59-a316-4450dbacd1bc",
   "metadata": {},
   "source": [
    "----\n",
    "#### *주문 시간 탐색*"
   ]
  },
  {
   "cell_type": "code",
   "execution_count": 158,
   "id": "5e7e1f79-3fc4-413e-85b1-c81d2852adc1",
   "metadata": {},
   "outputs": [],
   "source": [
    "order_df['order_purchase_hour'] = order_df['order_purchase_timestamp'].apply(lambda x: x.hour)"
   ]
  },
  {
   "cell_type": "code",
   "execution_count": 181,
   "id": "ee599c0b-08ed-4c22-af08-aa31aa42142b",
   "metadata": {},
   "outputs": [
    {
     "data": {
      "text/plain": [
       "<AxesSubplot:xlabel='order_purchase_hour'>"
      ]
     },
     "execution_count": 181,
     "metadata": {},
     "output_type": "execute_result"
    },
    {
     "data": {
      "image/png": "[encoded data removed]",
      "text/plain": [
       "<Figure size 720x576 with 1 Axes>"
      ]
     },
     "metadata": {
      "needs_background": "light"
     },
     "output_type": "display_data"
    }
   ],
   "source": [
    "plt.ticklabel_format(style='plain')\n",
    "plt.rcParams['figure.figsize'] = [10, 8]\n",
    "order_df.groupby('order_purchase_hour')['order_id'].count().plot()"
   ]
  },
  {
   "cell_type": "markdown",
   "id": "ea28805a-fb15-4ab0-b4cd-58f8a05d9451",
   "metadata": {},
   "source": [
    "----\n",
    "#### *주문 요일별 탐색*"
   ]
  },
  {
   "cell_type": "code",
   "execution_count": 168,
   "id": "732ea7d4-085a-4720-bc36-2b939d87a3f1",
   "metadata": {},
   "outputs": [
    {
     "data": {
      "text/plain": [
       "Timestamp('2017-09-13 08:59:02')"
      ]
     },
     "execution_count": 168,
     "metadata": {},
     "output_type": "execute_result"
    }
   ],
   "source": [
    "order_df['order_purchase_timestamp'][0]"
   ]
  },
  {
   "cell_type": "code",
   "execution_count": 169,
   "id": "8aa82142-01e2-42bf-bdf3-c4297c40258c",
   "metadata": {},
   "outputs": [
    {
     "data": {
      "text/plain": [
       "'Wednesday'"
      ]
     },
     "execution_count": 169,
     "metadata": {},
     "output_type": "execute_result"
    }
   ],
   "source": [
    "order_df['order_purchase_timestamp'][0].strftime(\"%A\")"
   ]
  },
  {
   "cell_type": "code",
   "execution_count": 170,
   "id": "6a897b2d-369a-4373-b953-1731ab242ed1",
   "metadata": {},
   "outputs": [],
   "source": [
    "order_df['order_purchase_day_name'] = order_df['order_purchase_timestamp'].apply(lambda x: x.strftime(\"%A\"))"
   ]
  },
  {
   "cell_type": "code",
   "execution_count": 176,
   "id": "a5dc7acf-7d76-4602-af3f-8399c74f57cd",
   "metadata": {},
   "outputs": [],
   "source": [
    "order_purchase_day_name = order_df.groupby('order_purchase_day_name')['order_id'].count()"
   ]
  },
  {
   "cell_type": "code",
   "execution_count": 182,
   "id": "c7e959af-fbf3-4286-a122-abfb16c5314b",
   "metadata": {},
   "outputs": [
    {
     "data": {
      "image/png": "[encoded data removed]",
      "text/plain": [
       "<Figure size 720x576 with 1 Axes>"
      ]
     },
     "metadata": {
      "needs_background": "light"
     },
     "output_type": "display_data"
    }
   ],
   "source": [
    "plt.ticklabel_format(style='plain')\n",
    "plt.bar(order_purchase_day_name.index, order_purchase_day_name.values)\n",
    "plt.show()"
   ]
  },
  {
   "cell_type": "markdown",
   "id": "69307ff9-6c84-41e0-942b-6bb7287b6804",
   "metadata": {},
   "source": [
    "### [시간대별 주문 지역 분석]"
   ]
  },
  {
   "cell_type": "code",
   "execution_count": null,
   "id": "b5b71089-7bbd-4542-b5d0-971beb28cf3b",
   "metadata": {},
   "outputs": [],
   "source": []
  },
  {
   "cell_type": "code",
   "execution_count": null,
   "id": "1e57cae6-c300-4083-8ce5-cac3d770265f",
   "metadata": {},
   "outputs": [],
   "source": []
  },
  {
   "cell_type": "code",
   "execution_count": null,
   "id": "0c5e8941-0ac2-4d65-8521-145a3c3b4004",
   "metadata": {},
   "outputs": [],
   "source": []
  },
  {
   "cell_type": "code",
   "execution_count": null,
   "id": "5c4195b6-88b8-4a52-a672-76f0440100c9",
   "metadata": {},
   "outputs": [],
   "source": []
  }
 ],
 "metadata": {
  "kernelspec": {
   "display_name": "Python 3",
   "language": "python",
   "name": "python3"
  },
  "language_info": {
   "codemirror_mode": {
    "name": "ipython",
    "version": 3
   },
   "file_extension": ".py",
   "mimetype": "text/x-python",
   "name": "python",
   "nbconvert_exporter": "python",
   "pygments_lexer": "ipython3",
   "version": "3.8.10"
  }
 },
 "nbformat": 4,
 "nbformat_minor": 5
}
