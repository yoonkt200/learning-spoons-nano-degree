{
 "cells": [
  {
   "cell_type": "markdown",
   "metadata": {},
   "source": [
    "Copyright (c) 2021 [윤기태]\n",
    "\n",
    "https://github.com/yoonkt200/learning-spoons-nano-degree\n",
    "\n",
    "[MIT License](https://github.com/yoonkt200/learning-spoons-nano-degree/blob/master/LICENSE.txt)\n",
    "\n",
    "# LearningSpoons - NanoDegree\n",
    "\n",
    "-----"
   ]
  },
  {
   "cell_type": "markdown",
   "metadata": {},
   "source": [
    "# 5회차 - (판매자향 데이터 분석)\n",
    "\n",
    "- [1. 주문데이터 전처리](#1.-주문데이터-전처리)\n",
    "    - [데이터 병합 및 탐색]\n",
    "    - [데이터 전처리]\n",
    "- [2. 판매자 주문데이터 분석](#2.-판매자-주문데이터-분석)\n",
    "    - [seller별 판매 분석]\n",
    "    - [seller별 배송 분석]\n",
    "    - [seller 군집 분석]\n",
    "- [3. 분석 결과 함수화 & 대시보드](#3.-분석-결과-함수화-&-대시보드)\n",
    "    - [판매량 파이차트]\n",
    "    - [상품별 리뷰 워드클라우드]\n",
    "----"
   ]
  },
  {
   "cell_type": "code",
   "execution_count": 1,
   "metadata": {},
   "outputs": [],
   "source": [
    "# pip install sklearn bokeh qgrid googletrans==4.0.0-rc1 pytagcloud pygame simplejson nltk"
   ]
  },
  {
   "cell_type": "code",
   "execution_count": 2,
   "metadata": {},
   "outputs": [],
   "source": [
    "# -*- coding: utf-8 -*-\n",
    "\n",
    "%matplotlib inline\n",
    "\n",
    "import pandas as pd\n",
    "import numpy as np\n",
    "import matplotlib.pyplot as plt"
   ]
  },
  {
   "cell_type": "code",
   "execution_count": 3,
   "metadata": {},
   "outputs": [],
   "source": [
    "data_dir = \"../dataset/\""
   ]
  },
  {
   "cell_type": "markdown",
   "metadata": {},
   "source": [
    "# 1. 주문데이터 전처리"
   ]
  },
  {
   "cell_type": "markdown",
   "metadata": {},
   "source": [
    "### [데이터 병합 및 탐색]"
   ]
  },
  {
   "cell_type": "markdown",
   "metadata": {},
   "source": [
    "----\n",
    "#### *주문데이터 기준으로 데이터 병합*"
   ]
  },
  {
   "cell_type": "code",
   "execution_count": 4,
   "metadata": {},
   "outputs": [],
   "source": [
    "order_df = pd.read_csv(data_dir + \"olist_order_items_dataset.csv\")\n",
    "shipping_df = pd.read_csv(data_dir + \"olist_orders_dataset.csv\")\n",
    "category_df = pd.read_csv(data_dir + \"olist_products_dataset.csv\")\n",
    "user_df = pd.read_csv(data_dir + \"olist_customers_dataset.csv\")\n",
    "location_df = pd.read_csv(data_dir + \"olist_geolocation_dataset.csv\")\n",
    "product_category_name_translation_df = pd.read_csv(data_dir + \"product_category_name_translation.csv\")\n",
    "payments_dataset = pd.read_csv(data_dir + \"olist_order_payments_dataset.csv\")"
   ]
  },
  {
   "cell_type": "code",
   "execution_count": 5,
   "metadata": {},
   "outputs": [],
   "source": [
    "order_df['order_id'] = order_df['order_id'].astype(str)\n",
    "shipping_df['order_id'] = shipping_df['order_id'].astype(str)\n",
    "order_df = order_df.merge(shipping_df, how='left', on='order_id')"
   ]
  },
  {
   "cell_type": "code",
   "execution_count": 6,
   "metadata": {},
   "outputs": [],
   "source": [
    "order_df['product_id'] = order_df['product_id'].astype(str)\n",
    "category_df['product_id'] = category_df['product_id'].astype(str)\n",
    "order_df = order_df.merge(category_df, how='left', on='product_id')"
   ]
  },
  {
   "cell_type": "code",
   "execution_count": 7,
   "metadata": {},
   "outputs": [],
   "source": [
    "order_df['customer_id'] = order_df['customer_id'].astype(str)\n",
    "user_df['customer_id'] = user_df['customer_id'].astype(str)\n",
    "order_df = order_df.merge(user_df, how='left', on='customer_id')"
   ]
  },
  {
   "cell_type": "code",
   "execution_count": 8,
   "metadata": {},
   "outputs": [],
   "source": [
    "order_df['customer_zip_code_prefix'] = order_df['customer_zip_code_prefix'].astype(str)\n",
    "location_df['geolocation_zip_code_prefix'] = location_df['geolocation_zip_code_prefix'].astype(str)\n",
    "location_df.columns = ['customer_zip_code_prefix', 'lat', 'lng', 'city', 'state']\n",
    "location_df = location_df.groupby('customer_zip_code_prefix').agg({'lat': 'mean', 'lng': 'mean', 'city': 'first', 'state': 'first'}).reset_index()\n",
    "order_df = order_df.merge(location_df, how='left', on='customer_zip_code_prefix')"
   ]
  },
  {
   "cell_type": "code",
   "execution_count": 9,
   "metadata": {},
   "outputs": [],
   "source": [
    "order_df['product_category_name'] = order_df['product_category_name'].astype(str)\n",
    "product_category_name_translation_df['product_category_name'] = product_category_name_translation_df['product_category_name'].astype(str)\n",
    "order_df = order_df.merge(product_category_name_translation_df, how='left', on='product_category_name')"
   ]
  },
  {
   "cell_type": "code",
   "execution_count": 10,
   "metadata": {},
   "outputs": [],
   "source": [
    "payments_dataset['order_id'] = payments_dataset['order_id'].astype(str)\n",
    "order_df = order_df.merge(payments_dataset, how='left', on='order_id')"
   ]
  },
  {
   "cell_type": "code",
   "execution_count": 11,
   "metadata": {},
   "outputs": [
    {
     "data": {
      "text/html": [
       "<div>\n",
       "<style scoped>\n",
       "    .dataframe tbody tr th:only-of-type {\n",
       "        vertical-align: middle;\n",
       "    }\n",
       "\n",
       "    .dataframe tbody tr th {\n",
       "        vertical-align: top;\n",
       "    }\n",
       "\n",
       "    .dataframe thead th {\n",
       "        text-align: right;\n",
       "    }\n",
       "</style>\n",
       "<table border=\"1\" class=\"dataframe\">\n",
       "  <thead>\n",
       "    <tr style=\"text-align: right;\">\n",
       "      <th></th>\n",
       "      <th>order_id</th>\n",
       "      <th>order_item_id</th>\n",
       "      <th>product_id</th>\n",
       "      <th>seller_id</th>\n",
       "      <th>shipping_limit_date</th>\n",
       "      <th>price</th>\n",
       "      <th>freight_value</th>\n",
       "      <th>customer_id</th>\n",
       "      <th>order_status</th>\n",
       "      <th>order_purchase_timestamp</th>\n",
       "      <th>...</th>\n",
       "      <th>customer_state</th>\n",
       "      <th>lat</th>\n",
       "      <th>lng</th>\n",
       "      <th>city</th>\n",
       "      <th>state</th>\n",
       "      <th>product_category_name_english</th>\n",
       "      <th>payment_sequential</th>\n",
       "      <th>payment_type</th>\n",
       "      <th>payment_installments</th>\n",
       "      <th>payment_value</th>\n",
       "    </tr>\n",
       "  </thead>\n",
       "  <tbody>\n",
       "    <tr>\n",
       "      <th>0</th>\n",
       "      <td>00010242fe8c5a6d1ba2dd792cb16214</td>\n",
       "      <td>1</td>\n",
       "      <td>4244733e06e7ecb4970a6e2683c13e61</td>\n",
       "      <td>48436dade18ac8b2bce089ec2a041202</td>\n",
       "      <td>2017-09-19 09:45:35</td>\n",
       "      <td>58.90</td>\n",
       "      <td>13.29</td>\n",
       "      <td>3ce436f183e68e07877b285a838db11a</td>\n",
       "      <td>delivered</td>\n",
       "      <td>2017-09-13 08:59:02</td>\n",
       "      <td>...</td>\n",
       "      <td>RJ</td>\n",
       "      <td>-21.762775</td>\n",
       "      <td>-41.309633</td>\n",
       "      <td>campos dos goytacazes</td>\n",
       "      <td>RJ</td>\n",
       "      <td>cool_stuff</td>\n",
       "      <td>1.0</td>\n",
       "      <td>credit_card</td>\n",
       "      <td>2.0</td>\n",
       "      <td>72.19</td>\n",
       "    </tr>\n",
       "    <tr>\n",
       "      <th>1</th>\n",
       "      <td>00018f77f2f0320c557190d7a144bdd3</td>\n",
       "      <td>1</td>\n",
       "      <td>e5f2d52b802189ee658865ca93d83a8f</td>\n",
       "      <td>dd7ddc04e1b6c2c614352b383efe2d36</td>\n",
       "      <td>2017-05-03 11:05:13</td>\n",
       "      <td>239.90</td>\n",
       "      <td>19.93</td>\n",
       "      <td>f6dd3ec061db4e3987629fe6b26e5cce</td>\n",
       "      <td>delivered</td>\n",
       "      <td>2017-04-26 10:53:06</td>\n",
       "      <td>...</td>\n",
       "      <td>SP</td>\n",
       "      <td>-20.220527</td>\n",
       "      <td>-50.903424</td>\n",
       "      <td>santa fe do sul</td>\n",
       "      <td>SP</td>\n",
       "      <td>pet_shop</td>\n",
       "      <td>1.0</td>\n",
       "      <td>credit_card</td>\n",
       "      <td>3.0</td>\n",
       "      <td>259.83</td>\n",
       "    </tr>\n",
       "    <tr>\n",
       "      <th>2</th>\n",
       "      <td>000229ec398224ef6ca0657da4fc703e</td>\n",
       "      <td>1</td>\n",
       "      <td>c777355d18b72b67abbeef9df44fd0fd</td>\n",
       "      <td>5b51032eddd242adc84c38acab88f23d</td>\n",
       "      <td>2018-01-18 14:48:30</td>\n",
       "      <td>199.00</td>\n",
       "      <td>17.87</td>\n",
       "      <td>6489ae5e4333f3693df5ad4372dab6d3</td>\n",
       "      <td>delivered</td>\n",
       "      <td>2018-01-14 14:33:31</td>\n",
       "      <td>...</td>\n",
       "      <td>MG</td>\n",
       "      <td>-19.870305</td>\n",
       "      <td>-44.593326</td>\n",
       "      <td>pará de minas</td>\n",
       "      <td>MG</td>\n",
       "      <td>furniture_decor</td>\n",
       "      <td>1.0</td>\n",
       "      <td>credit_card</td>\n",
       "      <td>5.0</td>\n",
       "      <td>216.87</td>\n",
       "    </tr>\n",
       "    <tr>\n",
       "      <th>3</th>\n",
       "      <td>00024acbcdf0a6daa1e931b038114c75</td>\n",
       "      <td>1</td>\n",
       "      <td>7634da152a4610f1595efa32f14722fc</td>\n",
       "      <td>9d7a1d34a5052409006425275ba1c2b4</td>\n",
       "      <td>2018-08-15 10:10:18</td>\n",
       "      <td>12.99</td>\n",
       "      <td>12.79</td>\n",
       "      <td>d4eb9395c8c0431ee92fce09860c5a06</td>\n",
       "      <td>delivered</td>\n",
       "      <td>2018-08-08 10:00:35</td>\n",
       "      <td>...</td>\n",
       "      <td>SP</td>\n",
       "      <td>-23.089925</td>\n",
       "      <td>-46.611654</td>\n",
       "      <td>atibaia</td>\n",
       "      <td>SP</td>\n",
       "      <td>perfumery</td>\n",
       "      <td>1.0</td>\n",
       "      <td>credit_card</td>\n",
       "      <td>2.0</td>\n",
       "      <td>25.78</td>\n",
       "    </tr>\n",
       "    <tr>\n",
       "      <th>4</th>\n",
       "      <td>00042b26cf59d7ce69dfabb4e55b4fd9</td>\n",
       "      <td>1</td>\n",
       "      <td>ac6c3623068f30de03045865e4e10089</td>\n",
       "      <td>df560393f3a51e74553ab94004ba5c87</td>\n",
       "      <td>2017-02-13 13:57:51</td>\n",
       "      <td>199.90</td>\n",
       "      <td>18.14</td>\n",
       "      <td>58dbd0b2d70206bf40e62cd34e84d795</td>\n",
       "      <td>delivered</td>\n",
       "      <td>2017-02-04 13:57:51</td>\n",
       "      <td>...</td>\n",
       "      <td>SP</td>\n",
       "      <td>-23.243402</td>\n",
       "      <td>-46.827614</td>\n",
       "      <td>varzea paulista</td>\n",
       "      <td>SP</td>\n",
       "      <td>garden_tools</td>\n",
       "      <td>1.0</td>\n",
       "      <td>credit_card</td>\n",
       "      <td>3.0</td>\n",
       "      <td>218.04</td>\n",
       "    </tr>\n",
       "  </tbody>\n",
       "</table>\n",
       "<p>5 rows × 35 columns</p>\n",
       "</div>"
      ],
      "text/plain": [
       "                           order_id  order_item_id  \\\n",
       "0  00010242fe8c5a6d1ba2dd792cb16214              1   \n",
       "1  00018f77f2f0320c557190d7a144bdd3              1   \n",
       "2  000229ec398224ef6ca0657da4fc703e              1   \n",
       "3  00024acbcdf0a6daa1e931b038114c75              1   \n",
       "4  00042b26cf59d7ce69dfabb4e55b4fd9              1   \n",
       "\n",
       "                         product_id                         seller_id  \\\n",
       "0  4244733e06e7ecb4970a6e2683c13e61  48436dade18ac8b2bce089ec2a041202   \n",
       "1  e5f2d52b802189ee658865ca93d83a8f  dd7ddc04e1b6c2c614352b383efe2d36   \n",
       "2  c777355d18b72b67abbeef9df44fd0fd  5b51032eddd242adc84c38acab88f23d   \n",
       "3  7634da152a4610f1595efa32f14722fc  9d7a1d34a5052409006425275ba1c2b4   \n",
       "4  ac6c3623068f30de03045865e4e10089  df560393f3a51e74553ab94004ba5c87   \n",
       "\n",
       "   shipping_limit_date   price  freight_value  \\\n",
       "0  2017-09-19 09:45:35   58.90          13.29   \n",
       "1  2017-05-03 11:05:13  239.90          19.93   \n",
       "2  2018-01-18 14:48:30  199.00          17.87   \n",
       "3  2018-08-15 10:10:18   12.99          12.79   \n",
       "4  2017-02-13 13:57:51  199.90          18.14   \n",
       "\n",
       "                        customer_id order_status order_purchase_timestamp  \\\n",
       "0  3ce436f183e68e07877b285a838db11a    delivered      2017-09-13 08:59:02   \n",
       "1  f6dd3ec061db4e3987629fe6b26e5cce    delivered      2017-04-26 10:53:06   \n",
       "2  6489ae5e4333f3693df5ad4372dab6d3    delivered      2018-01-14 14:33:31   \n",
       "3  d4eb9395c8c0431ee92fce09860c5a06    delivered      2018-08-08 10:00:35   \n",
       "4  58dbd0b2d70206bf40e62cd34e84d795    delivered      2017-02-04 13:57:51   \n",
       "\n",
       "   ... customer_state        lat        lng                   city state  \\\n",
       "0  ...             RJ -21.762775 -41.309633  campos dos goytacazes    RJ   \n",
       "1  ...             SP -20.220527 -50.903424        santa fe do sul    SP   \n",
       "2  ...             MG -19.870305 -44.593326          pará de minas    MG   \n",
       "3  ...             SP -23.089925 -46.611654                atibaia    SP   \n",
       "4  ...             SP -23.243402 -46.827614        varzea paulista    SP   \n",
       "\n",
       "   product_category_name_english  payment_sequential  payment_type  \\\n",
       "0                     cool_stuff                 1.0   credit_card   \n",
       "1                       pet_shop                 1.0   credit_card   \n",
       "2                furniture_decor                 1.0   credit_card   \n",
       "3                      perfumery                 1.0   credit_card   \n",
       "4                   garden_tools                 1.0   credit_card   \n",
       "\n",
       "   payment_installments  payment_value  \n",
       "0                   2.0          72.19  \n",
       "1                   3.0         259.83  \n",
       "2                   5.0         216.87  \n",
       "3                   2.0          25.78  \n",
       "4                   3.0         218.04  \n",
       "\n",
       "[5 rows x 35 columns]"
      ]
     },
     "execution_count": 11,
     "metadata": {},
     "output_type": "execute_result"
    }
   ],
   "source": [
    "order_df.head()"
   ]
  },
  {
   "cell_type": "code",
   "execution_count": 12,
   "metadata": {},
   "outputs": [],
   "source": [
    "anal_columns = ['order_id', 'product_id', 'customer_id', 'customer_unique_id', 'seller_id',\n",
    "                'order_item_id', 'price', 'freight_value', \n",
    "                'order_status', 'order_purchase_timestamp', 'order_approved_at', 'order_delivered_customer_date', 'order_estimated_delivery_date',\n",
    "                'product_category_name_english',\n",
    "                'city', 'state',\n",
    "                'payment_value'\n",
    "                ]"
   ]
  },
  {
   "cell_type": "code",
   "execution_count": 13,
   "metadata": {},
   "outputs": [
    {
     "data": {
      "text/html": [
       "<div>\n",
       "<style scoped>\n",
       "    .dataframe tbody tr th:only-of-type {\n",
       "        vertical-align: middle;\n",
       "    }\n",
       "\n",
       "    .dataframe tbody tr th {\n",
       "        vertical-align: top;\n",
       "    }\n",
       "\n",
       "    .dataframe thead th {\n",
       "        text-align: right;\n",
       "    }\n",
       "</style>\n",
       "<table border=\"1\" class=\"dataframe\">\n",
       "  <thead>\n",
       "    <tr style=\"text-align: right;\">\n",
       "      <th></th>\n",
       "      <th>order_id</th>\n",
       "      <th>product_id</th>\n",
       "      <th>customer_id</th>\n",
       "      <th>customer_unique_id</th>\n",
       "      <th>seller_id</th>\n",
       "      <th>order_item_id</th>\n",
       "      <th>price</th>\n",
       "      <th>freight_value</th>\n",
       "      <th>order_status</th>\n",
       "      <th>order_purchase_timestamp</th>\n",
       "      <th>order_approved_at</th>\n",
       "      <th>order_delivered_customer_date</th>\n",
       "      <th>order_estimated_delivery_date</th>\n",
       "      <th>product_category_name_english</th>\n",
       "      <th>city</th>\n",
       "      <th>state</th>\n",
       "      <th>payment_value</th>\n",
       "    </tr>\n",
       "  </thead>\n",
       "  <tbody>\n",
       "    <tr>\n",
       "      <th>0</th>\n",
       "      <td>00010242fe8c5a6d1ba2dd792cb16214</td>\n",
       "      <td>4244733e06e7ecb4970a6e2683c13e61</td>\n",
       "      <td>3ce436f183e68e07877b285a838db11a</td>\n",
       "      <td>871766c5855e863f6eccc05f988b23cb</td>\n",
       "      <td>48436dade18ac8b2bce089ec2a041202</td>\n",
       "      <td>1</td>\n",
       "      <td>58.90</td>\n",
       "      <td>13.29</td>\n",
       "      <td>delivered</td>\n",
       "      <td>2017-09-13 08:59:02</td>\n",
       "      <td>2017-09-13 09:45:35</td>\n",
       "      <td>2017-09-20 23:43:48</td>\n",
       "      <td>2017-09-29 00:00:00</td>\n",
       "      <td>cool_stuff</td>\n",
       "      <td>campos dos goytacazes</td>\n",
       "      <td>RJ</td>\n",
       "      <td>72.19</td>\n",
       "    </tr>\n",
       "    <tr>\n",
       "      <th>1</th>\n",
       "      <td>00018f77f2f0320c557190d7a144bdd3</td>\n",
       "      <td>e5f2d52b802189ee658865ca93d83a8f</td>\n",
       "      <td>f6dd3ec061db4e3987629fe6b26e5cce</td>\n",
       "      <td>eb28e67c4c0b83846050ddfb8a35d051</td>\n",
       "      <td>dd7ddc04e1b6c2c614352b383efe2d36</td>\n",
       "      <td>1</td>\n",
       "      <td>239.90</td>\n",
       "      <td>19.93</td>\n",
       "      <td>delivered</td>\n",
       "      <td>2017-04-26 10:53:06</td>\n",
       "      <td>2017-04-26 11:05:13</td>\n",
       "      <td>2017-05-12 16:04:24</td>\n",
       "      <td>2017-05-15 00:00:00</td>\n",
       "      <td>pet_shop</td>\n",
       "      <td>santa fe do sul</td>\n",
       "      <td>SP</td>\n",
       "      <td>259.83</td>\n",
       "    </tr>\n",
       "    <tr>\n",
       "      <th>2</th>\n",
       "      <td>000229ec398224ef6ca0657da4fc703e</td>\n",
       "      <td>c777355d18b72b67abbeef9df44fd0fd</td>\n",
       "      <td>6489ae5e4333f3693df5ad4372dab6d3</td>\n",
       "      <td>3818d81c6709e39d06b2738a8d3a2474</td>\n",
       "      <td>5b51032eddd242adc84c38acab88f23d</td>\n",
       "      <td>1</td>\n",
       "      <td>199.00</td>\n",
       "      <td>17.87</td>\n",
       "      <td>delivered</td>\n",
       "      <td>2018-01-14 14:33:31</td>\n",
       "      <td>2018-01-14 14:48:30</td>\n",
       "      <td>2018-01-22 13:19:16</td>\n",
       "      <td>2018-02-05 00:00:00</td>\n",
       "      <td>furniture_decor</td>\n",
       "      <td>pará de minas</td>\n",
       "      <td>MG</td>\n",
       "      <td>216.87</td>\n",
       "    </tr>\n",
       "    <tr>\n",
       "      <th>3</th>\n",
       "      <td>00024acbcdf0a6daa1e931b038114c75</td>\n",
       "      <td>7634da152a4610f1595efa32f14722fc</td>\n",
       "      <td>d4eb9395c8c0431ee92fce09860c5a06</td>\n",
       "      <td>af861d436cfc08b2c2ddefd0ba074622</td>\n",
       "      <td>9d7a1d34a5052409006425275ba1c2b4</td>\n",
       "      <td>1</td>\n",
       "      <td>12.99</td>\n",
       "      <td>12.79</td>\n",
       "      <td>delivered</td>\n",
       "      <td>2018-08-08 10:00:35</td>\n",
       "      <td>2018-08-08 10:10:18</td>\n",
       "      <td>2018-08-14 13:32:39</td>\n",
       "      <td>2018-08-20 00:00:00</td>\n",
       "      <td>perfumery</td>\n",
       "      <td>atibaia</td>\n",
       "      <td>SP</td>\n",
       "      <td>25.78</td>\n",
       "    </tr>\n",
       "    <tr>\n",
       "      <th>4</th>\n",
       "      <td>00042b26cf59d7ce69dfabb4e55b4fd9</td>\n",
       "      <td>ac6c3623068f30de03045865e4e10089</td>\n",
       "      <td>58dbd0b2d70206bf40e62cd34e84d795</td>\n",
       "      <td>64b576fb70d441e8f1b2d7d446e483c5</td>\n",
       "      <td>df560393f3a51e74553ab94004ba5c87</td>\n",
       "      <td>1</td>\n",
       "      <td>199.90</td>\n",
       "      <td>18.14</td>\n",
       "      <td>delivered</td>\n",
       "      <td>2017-02-04 13:57:51</td>\n",
       "      <td>2017-02-04 14:10:13</td>\n",
       "      <td>2017-03-01 16:42:31</td>\n",
       "      <td>2017-03-17 00:00:00</td>\n",
       "      <td>garden_tools</td>\n",
       "      <td>varzea paulista</td>\n",
       "      <td>SP</td>\n",
       "      <td>218.04</td>\n",
       "    </tr>\n",
       "  </tbody>\n",
       "</table>\n",
       "</div>"
      ],
      "text/plain": [
       "                           order_id                        product_id  \\\n",
       "0  00010242fe8c5a6d1ba2dd792cb16214  4244733e06e7ecb4970a6e2683c13e61   \n",
       "1  00018f77f2f0320c557190d7a144bdd3  e5f2d52b802189ee658865ca93d83a8f   \n",
       "2  000229ec398224ef6ca0657da4fc703e  c777355d18b72b67abbeef9df44fd0fd   \n",
       "3  00024acbcdf0a6daa1e931b038114c75  7634da152a4610f1595efa32f14722fc   \n",
       "4  00042b26cf59d7ce69dfabb4e55b4fd9  ac6c3623068f30de03045865e4e10089   \n",
       "\n",
       "                        customer_id                customer_unique_id  \\\n",
       "0  3ce436f183e68e07877b285a838db11a  871766c5855e863f6eccc05f988b23cb   \n",
       "1  f6dd3ec061db4e3987629fe6b26e5cce  eb28e67c4c0b83846050ddfb8a35d051   \n",
       "2  6489ae5e4333f3693df5ad4372dab6d3  3818d81c6709e39d06b2738a8d3a2474   \n",
       "3  d4eb9395c8c0431ee92fce09860c5a06  af861d436cfc08b2c2ddefd0ba074622   \n",
       "4  58dbd0b2d70206bf40e62cd34e84d795  64b576fb70d441e8f1b2d7d446e483c5   \n",
       "\n",
       "                          seller_id  order_item_id   price  freight_value  \\\n",
       "0  48436dade18ac8b2bce089ec2a041202              1   58.90          13.29   \n",
       "1  dd7ddc04e1b6c2c614352b383efe2d36              1  239.90          19.93   \n",
       "2  5b51032eddd242adc84c38acab88f23d              1  199.00          17.87   \n",
       "3  9d7a1d34a5052409006425275ba1c2b4              1   12.99          12.79   \n",
       "4  df560393f3a51e74553ab94004ba5c87              1  199.90          18.14   \n",
       "\n",
       "  order_status order_purchase_timestamp    order_approved_at  \\\n",
       "0    delivered      2017-09-13 08:59:02  2017-09-13 09:45:35   \n",
       "1    delivered      2017-04-26 10:53:06  2017-04-26 11:05:13   \n",
       "2    delivered      2018-01-14 14:33:31  2018-01-14 14:48:30   \n",
       "3    delivered      2018-08-08 10:00:35  2018-08-08 10:10:18   \n",
       "4    delivered      2017-02-04 13:57:51  2017-02-04 14:10:13   \n",
       "\n",
       "  order_delivered_customer_date order_estimated_delivery_date  \\\n",
       "0           2017-09-20 23:43:48           2017-09-29 00:00:00   \n",
       "1           2017-05-12 16:04:24           2017-05-15 00:00:00   \n",
       "2           2018-01-22 13:19:16           2018-02-05 00:00:00   \n",
       "3           2018-08-14 13:32:39           2018-08-20 00:00:00   \n",
       "4           2017-03-01 16:42:31           2017-03-17 00:00:00   \n",
       "\n",
       "  product_category_name_english                   city state  payment_value  \n",
       "0                    cool_stuff  campos dos goytacazes    RJ          72.19  \n",
       "1                      pet_shop        santa fe do sul    SP         259.83  \n",
       "2               furniture_decor          pará de minas    MG         216.87  \n",
       "3                     perfumery                atibaia    SP          25.78  \n",
       "4                  garden_tools        varzea paulista    SP         218.04  "
      ]
     },
     "execution_count": 13,
     "metadata": {},
     "output_type": "execute_result"
    }
   ],
   "source": [
    "order_df = order_df[anal_columns]\n",
    "order_df.head()"
   ]
  },
  {
   "cell_type": "code",
   "execution_count": 14,
   "metadata": {},
   "outputs": [
    {
     "data": {
      "text/html": [
       "<div>\n",
       "<style scoped>\n",
       "    .dataframe tbody tr th:only-of-type {\n",
       "        vertical-align: middle;\n",
       "    }\n",
       "\n",
       "    .dataframe tbody tr th {\n",
       "        vertical-align: top;\n",
       "    }\n",
       "\n",
       "    .dataframe thead th {\n",
       "        text-align: right;\n",
       "    }\n",
       "</style>\n",
       "<table border=\"1\" class=\"dataframe\">\n",
       "  <thead>\n",
       "    <tr style=\"text-align: right;\">\n",
       "      <th></th>\n",
       "      <th>seller_id</th>\n",
       "      <th>seller_zip_code_prefix</th>\n",
       "      <th>seller_city</th>\n",
       "      <th>seller_state</th>\n",
       "    </tr>\n",
       "  </thead>\n",
       "  <tbody>\n",
       "    <tr>\n",
       "      <th>0</th>\n",
       "      <td>3442f8959a84dea7ee197c632cb2df15</td>\n",
       "      <td>13023</td>\n",
       "      <td>campinas</td>\n",
       "      <td>SP</td>\n",
       "    </tr>\n",
       "    <tr>\n",
       "      <th>1</th>\n",
       "      <td>d1b65fc7debc3361ea86b5f14c68d2e2</td>\n",
       "      <td>13844</td>\n",
       "      <td>mogi guacu</td>\n",
       "      <td>SP</td>\n",
       "    </tr>\n",
       "    <tr>\n",
       "      <th>2</th>\n",
       "      <td>ce3ad9de960102d0677a81f5d0bb7b2d</td>\n",
       "      <td>20031</td>\n",
       "      <td>rio de janeiro</td>\n",
       "      <td>RJ</td>\n",
       "    </tr>\n",
       "    <tr>\n",
       "      <th>3</th>\n",
       "      <td>c0f3eea2e14555b6faeea3dd58c1b1c3</td>\n",
       "      <td>4195</td>\n",
       "      <td>sao paulo</td>\n",
       "      <td>SP</td>\n",
       "    </tr>\n",
       "    <tr>\n",
       "      <th>4</th>\n",
       "      <td>51a04a8a6bdcb23deccc82b0b80742cf</td>\n",
       "      <td>12914</td>\n",
       "      <td>braganca paulista</td>\n",
       "      <td>SP</td>\n",
       "    </tr>\n",
       "  </tbody>\n",
       "</table>\n",
       "</div>"
      ],
      "text/plain": [
       "                          seller_id  seller_zip_code_prefix  \\\n",
       "0  3442f8959a84dea7ee197c632cb2df15                   13023   \n",
       "1  d1b65fc7debc3361ea86b5f14c68d2e2                   13844   \n",
       "2  ce3ad9de960102d0677a81f5d0bb7b2d                   20031   \n",
       "3  c0f3eea2e14555b6faeea3dd58c1b1c3                    4195   \n",
       "4  51a04a8a6bdcb23deccc82b0b80742cf                   12914   \n",
       "\n",
       "         seller_city seller_state  \n",
       "0           campinas           SP  \n",
       "1         mogi guacu           SP  \n",
       "2     rio de janeiro           RJ  \n",
       "3          sao paulo           SP  \n",
       "4  braganca paulista           SP  "
      ]
     },
     "execution_count": 14,
     "metadata": {},
     "output_type": "execute_result"
    }
   ],
   "source": [
    "olist_sellers_dataset = pd.read_csv(data_dir + \"olist_sellers_dataset.csv\")\n",
    "olist_sellers_dataset.head()"
   ]
  },
  {
   "cell_type": "code",
   "execution_count": 15,
   "metadata": {},
   "outputs": [
    {
     "data": {
      "text/plain": [
       "Index(['order_id', 'product_id', 'customer_id', 'customer_unique_id',\n",
       "       'seller_id', 'order_item_id', 'price', 'freight_value', 'order_status',\n",
       "       'order_purchase_timestamp', 'order_approved_at',\n",
       "       'order_delivered_customer_date', 'order_estimated_delivery_date',\n",
       "       'product_category_name_english', 'city', 'state', 'payment_value',\n",
       "       'seller_zip_code_prefix', 'seller_city', 'seller_state'],\n",
       "      dtype='object')"
      ]
     },
     "execution_count": 15,
     "metadata": {},
     "output_type": "execute_result"
    }
   ],
   "source": [
    "order_df['seller_id'] = order_df['seller_id'].astype(str)\n",
    "olist_sellers_dataset['seller_id'] = olist_sellers_dataset['seller_id'].astype(str)\n",
    "order_df = order_df.merge(olist_sellers_dataset, how='left', on='seller_id')\n",
    "order_df.columns"
   ]
  },
  {
   "cell_type": "code",
   "execution_count": 16,
   "metadata": {},
   "outputs": [
    {
     "data": {
      "text/plain": [
       "(117604, 20)"
      ]
     },
     "execution_count": 16,
     "metadata": {},
     "output_type": "execute_result"
    }
   ],
   "source": [
    "order_df.shape"
   ]
  },
  {
   "cell_type": "code",
   "execution_count": 17,
   "metadata": {},
   "outputs": [
    {
     "name": "stdout",
     "output_type": "stream",
     "text": [
      "<class 'pandas.core.frame.DataFrame'>\n",
      "Int64Index: 117604 entries, 0 to 117603\n",
      "Data columns (total 20 columns):\n",
      " #   Column                         Non-Null Count   Dtype  \n",
      "---  ------                         --------------   -----  \n",
      " 0   order_id                       117604 non-null  object \n",
      " 1   product_id                     117604 non-null  object \n",
      " 2   customer_id                    117604 non-null  object \n",
      " 3   customer_unique_id             117604 non-null  object \n",
      " 4   seller_id                      117604 non-null  object \n",
      " 5   order_item_id                  117604 non-null  int64  \n",
      " 6   price                          117604 non-null  float64\n",
      " 7   freight_value                  117604 non-null  float64\n",
      " 8   order_status                   117604 non-null  object \n",
      " 9   order_purchase_timestamp       117604 non-null  object \n",
      " 10  order_approved_at              117589 non-null  object \n",
      " 11  order_delivered_customer_date  115037 non-null  object \n",
      " 12  order_estimated_delivery_date  117604 non-null  object \n",
      " 13  product_category_name_english  115881 non-null  object \n",
      " 14  city                           117292 non-null  object \n",
      " 15  state                          117292 non-null  object \n",
      " 16  payment_value                  117601 non-null  float64\n",
      " 17  seller_zip_code_prefix         117604 non-null  int64  \n",
      " 18  seller_city                    117604 non-null  object \n",
      " 19  seller_state                   117604 non-null  object \n",
      "dtypes: float64(3), int64(2), object(15)\n",
      "memory usage: 18.8+ MB\n"
     ]
    }
   ],
   "source": [
    "order_df.info()"
   ]
  },
  {
   "cell_type": "code",
   "execution_count": 18,
   "metadata": {},
   "outputs": [
    {
     "data": {
      "text/plain": [
       "order_id                            0\n",
       "product_id                          0\n",
       "customer_id                         0\n",
       "customer_unique_id                  0\n",
       "seller_id                           0\n",
       "order_item_id                       0\n",
       "price                               0\n",
       "freight_value                       0\n",
       "order_status                        0\n",
       "order_purchase_timestamp            0\n",
       "order_approved_at                  15\n",
       "order_delivered_customer_date    2567\n",
       "order_estimated_delivery_date       0\n",
       "product_category_name_english    1723\n",
       "city                              312\n",
       "state                             312\n",
       "payment_value                       3\n",
       "seller_zip_code_prefix              0\n",
       "seller_city                         0\n",
       "seller_state                        0\n",
       "dtype: int64"
      ]
     },
     "execution_count": 18,
     "metadata": {},
     "output_type": "execute_result"
    }
   ],
   "source": [
    "order_df.isnull().sum()"
   ]
  },
  {
   "cell_type": "markdown",
   "metadata": {},
   "source": [
    "----\n",
    "#### *데이터 전처리*"
   ]
  },
  {
   "cell_type": "code",
   "execution_count": 19,
   "metadata": {},
   "outputs": [],
   "source": [
    "order_df['order_purchase_timestamp'] = pd.to_datetime(order_df['order_purchase_timestamp'])\n",
    "order_df['order_approved_at'] = pd.to_datetime(order_df['order_approved_at'])\n",
    "order_df['order_delivered_customer_date'] = pd.to_datetime(order_df['order_delivered_customer_date'])\n",
    "order_df['order_estimated_delivery_date'] = pd.to_datetime(order_df['order_estimated_delivery_date'])\n",
    "order_df = order_df[order_df['order_status']=='delivered']\n",
    "order_df = order_df.dropna()"
   ]
  },
  {
   "cell_type": "markdown",
   "metadata": {},
   "source": [
    "----\n",
    "# 2. 판매자 주문데이터 분석\n",
    "### [seller별 판매 분석]"
   ]
  },
  {
   "cell_type": "markdown",
   "metadata": {},
   "source": [
    "----\n",
    "#### *Top Seller EDA*"
   ]
  },
  {
   "cell_type": "code",
   "execution_count": 20,
   "metadata": {},
   "outputs": [
    {
     "data": {
      "text/plain": [
       "2912"
      ]
     },
     "execution_count": 20,
     "metadata": {},
     "output_type": "execute_result"
    }
   ],
   "source": [
    "order_df['seller_id'].nunique()"
   ]
  },
  {
   "cell_type": "code",
   "execution_count": 21,
   "metadata": {},
   "outputs": [],
   "source": [
    "# 판매 물품 갯수\n",
    "seller_count_df = order_df.groupby('seller_id')['order_id'].count().reset_index()"
   ]
  },
  {
   "cell_type": "code",
   "execution_count": 22,
   "metadata": {},
   "outputs": [
    {
     "data": {
      "text/plain": [
       "32.57074175824176"
      ]
     },
     "execution_count": 22,
     "metadata": {},
     "output_type": "execute_result"
    }
   ],
   "source": [
    "len(order_df['order_id'].unique()) / seller_count_df['seller_id'].nunique()"
   ]
  },
  {
   "cell_type": "code",
   "execution_count": 23,
   "metadata": {},
   "outputs": [
    {
     "data": {
      "text/plain": [
       "array([[<AxesSubplot:title={'center':'order_id'}>]], dtype=object)"
      ]
     },
     "execution_count": 23,
     "metadata": {},
     "output_type": "execute_result"
    },
    {
     "data": {
      "image/png": "[encoded data removed]",
      "text/plain": [
       "<Figure size 432x288 with 1 Axes>"
      ]
     },
     "metadata": {
      "needs_background": "light"
     },
     "output_type": "display_data"
    }
   ],
   "source": [
    "seller_count_df.hist(bins=100)"
   ]
  },
  {
   "cell_type": "code",
   "execution_count": 24,
   "metadata": {},
   "outputs": [
    {
     "data": {
      "text/plain": [
       "{'whiskers': [<matplotlib.lines.Line2D at 0x7f831a0a41c0>,\n",
       "  <matplotlib.lines.Line2D at 0x7f831a0a4490>],\n",
       " 'caps': [<matplotlib.lines.Line2D at 0x7f831a0a4820>,\n",
       "  <matplotlib.lines.Line2D at 0x7f831a0a4bb0>],\n",
       " 'boxes': [<matplotlib.lines.Line2D at 0x7f82c815bd30>],\n",
       " 'medians': [<matplotlib.lines.Line2D at 0x7f831a0a4f40>],\n",
       " 'fliers': [<matplotlib.lines.Line2D at 0x7f831a091310>],\n",
       " 'means': []}"
      ]
     },
     "execution_count": 24,
     "metadata": {},
     "output_type": "execute_result"
    },
    {
     "data": {
      "image/png": "[encoded data removed]",
      "text/plain": [
       "<Figure size 432x288 with 1 Axes>"
      ]
     },
     "metadata": {
      "needs_background": "light"
     },
     "output_type": "display_data"
    }
   ],
   "source": [
    "plt.boxplot(seller_count_df['order_id'])"
   ]
  },
  {
   "cell_type": "code",
   "execution_count": 25,
   "metadata": {},
   "outputs": [
    {
     "data": {
      "text/plain": [
       "count    2912.000000\n",
       "mean       38.828640\n",
       "std       125.350492\n",
       "min         1.000000\n",
       "25%         2.000000\n",
       "50%         8.000000\n",
       "75%        27.000000\n",
       "max      2092.000000\n",
       "Name: order_id, dtype: float64"
      ]
     },
     "execution_count": 25,
     "metadata": {},
     "output_type": "execute_result"
    }
   ],
   "source": [
    "seller_count_df['order_id'].describe()"
   ]
  },
  {
   "cell_type": "code",
   "execution_count": 26,
   "metadata": {},
   "outputs": [
    {
     "data": {
      "text/plain": [
       "(723, 2)"
      ]
     },
     "execution_count": 26,
     "metadata": {},
     "output_type": "execute_result"
    }
   ],
   "source": [
    "seller_count_df[seller_count_df['order_id']>27].shape"
   ]
  },
  {
   "cell_type": "code",
   "execution_count": 27,
   "metadata": {},
   "outputs": [],
   "source": [
    "# 28개 이상 판매한 seller id list\n",
    "top_sellers = seller_count_df[seller_count_df['order_id']>27]['seller_id'].tolist()"
   ]
  },
  {
   "cell_type": "code",
   "execution_count": 28,
   "metadata": {},
   "outputs": [
    {
     "data": {
      "text/plain": [
       "(113069, 20)"
      ]
     },
     "execution_count": 28,
     "metadata": {},
     "output_type": "execute_result"
    }
   ],
   "source": [
    "order_df.shape"
   ]
  },
  {
   "cell_type": "code",
   "execution_count": 29,
   "metadata": {},
   "outputs": [
    {
     "data": {
      "text/plain": [
       "(97506, 20)"
      ]
     },
     "execution_count": 29,
     "metadata": {},
     "output_type": "execute_result"
    }
   ],
   "source": [
    "# 전체 거래 데이터 중, top seller의 거래 데이터\n",
    "order_df[order_df['seller_id'].isin(top_sellers)].shape"
   ]
  },
  {
   "cell_type": "code",
   "execution_count": 30,
   "metadata": {},
   "outputs": [
    {
     "data": {
      "text/plain": [
       "0.8623583829343144"
      ]
     },
     "execution_count": 30,
     "metadata": {},
     "output_type": "execute_result"
    }
   ],
   "source": [
    "# 상위 seller들의 전체 거래에서의 비중\n",
    "order_df[order_df['seller_id'].isin(top_sellers)].shape[0] / order_df.shape[0]"
   ]
  },
  {
   "cell_type": "code",
   "execution_count": 31,
   "metadata": {},
   "outputs": [
    {
     "data": {
      "text/html": [
       "<div>\n",
       "<style scoped>\n",
       "    .dataframe tbody tr th:only-of-type {\n",
       "        vertical-align: middle;\n",
       "    }\n",
       "\n",
       "    .dataframe tbody tr th {\n",
       "        vertical-align: top;\n",
       "    }\n",
       "\n",
       "    .dataframe thead th {\n",
       "        text-align: right;\n",
       "    }\n",
       "</style>\n",
       "<table border=\"1\" class=\"dataframe\">\n",
       "  <thead>\n",
       "    <tr style=\"text-align: right;\">\n",
       "      <th></th>\n",
       "      <th>seller_id</th>\n",
       "      <th>product_id</th>\n",
       "      <th>product_category_name_english</th>\n",
       "    </tr>\n",
       "  </thead>\n",
       "  <tbody>\n",
       "    <tr>\n",
       "      <th>0</th>\n",
       "      <td>0015a82c2db000af6aaaf3ae2ecb0532</td>\n",
       "      <td>1</td>\n",
       "      <td>1</td>\n",
       "    </tr>\n",
       "    <tr>\n",
       "      <th>1</th>\n",
       "      <td>001cca7ae9ae17fb1caed9dfb1094831</td>\n",
       "      <td>11</td>\n",
       "      <td>2</td>\n",
       "    </tr>\n",
       "    <tr>\n",
       "      <th>2</th>\n",
       "      <td>002100f778ceb8431b7a1020ff7ab48f</td>\n",
       "      <td>24</td>\n",
       "      <td>1</td>\n",
       "    </tr>\n",
       "    <tr>\n",
       "      <th>3</th>\n",
       "      <td>004c9cd9d87a3c30c522c48c4fc07416</td>\n",
       "      <td>77</td>\n",
       "      <td>1</td>\n",
       "    </tr>\n",
       "    <tr>\n",
       "      <th>4</th>\n",
       "      <td>00720abe85ba0859807595bbf045a33b</td>\n",
       "      <td>9</td>\n",
       "      <td>1</td>\n",
       "    </tr>\n",
       "  </tbody>\n",
       "</table>\n",
       "</div>"
      ],
      "text/plain": [
       "                          seller_id  product_id  product_category_name_english\n",
       "0  0015a82c2db000af6aaaf3ae2ecb0532           1                              1\n",
       "1  001cca7ae9ae17fb1caed9dfb1094831          11                              2\n",
       "2  002100f778ceb8431b7a1020ff7ab48f          24                              1\n",
       "3  004c9cd9d87a3c30c522c48c4fc07416          77                              1\n",
       "4  00720abe85ba0859807595bbf045a33b           9                              1"
      ]
     },
     "execution_count": 31,
     "metadata": {},
     "output_type": "execute_result"
    }
   ],
   "source": [
    "# 판매한 물건, 카테고리 종류\n",
    "seller_distinct_df = order_df.groupby('seller_id')[['product_id', 'product_category_name_english']].agg({'product_id': pd.Series.nunique, 'product_category_name_english': pd.Series.nunique}).reset_index()\n",
    "seller_distinct_df.head()"
   ]
  },
  {
   "cell_type": "markdown",
   "metadata": {},
   "source": [
    "----\n",
    "#### *Popular Item for Seller*"
   ]
  },
  {
   "cell_type": "code",
   "execution_count": 32,
   "metadata": {},
   "outputs": [],
   "source": [
    "from collections import Counter"
   ]
  },
  {
   "cell_type": "code",
   "execution_count": 33,
   "metadata": {},
   "outputs": [],
   "source": [
    "seller_product_df = order_df.groupby('seller_id')['product_id'].apply(list).reset_index()"
   ]
  },
  {
   "cell_type": "code",
   "execution_count": 34,
   "metadata": {},
   "outputs": [
    {
     "data": {
      "text/html": [
       "<div>\n",
       "<style scoped>\n",
       "    .dataframe tbody tr th:only-of-type {\n",
       "        vertical-align: middle;\n",
       "    }\n",
       "\n",
       "    .dataframe tbody tr th {\n",
       "        vertical-align: top;\n",
       "    }\n",
       "\n",
       "    .dataframe thead th {\n",
       "        text-align: right;\n",
       "    }\n",
       "</style>\n",
       "<table border=\"1\" class=\"dataframe\">\n",
       "  <thead>\n",
       "    <tr style=\"text-align: right;\">\n",
       "      <th></th>\n",
       "      <th>seller_id</th>\n",
       "      <th>product_id</th>\n",
       "    </tr>\n",
       "  </thead>\n",
       "  <tbody>\n",
       "    <tr>\n",
       "      <th>0</th>\n",
       "      <td>0015a82c2db000af6aaaf3ae2ecb0532</td>\n",
       "      <td>[a2ff5a97bf95719e38ea2e3b4105bce8, a2ff5a97bf9...</td>\n",
       "    </tr>\n",
       "    <tr>\n",
       "      <th>1</th>\n",
       "      <td>001cca7ae9ae17fb1caed9dfb1094831</td>\n",
       "      <td>[08574b074924071f4e201e151b152b4e, 4f3b83b83f7...</td>\n",
       "    </tr>\n",
       "    <tr>\n",
       "      <th>2</th>\n",
       "      <td>002100f778ceb8431b7a1020ff7ab48f</td>\n",
       "      <td>[62c2b9bd44500d0305b1e50e2c9bd34d, cb790fa02cc...</td>\n",
       "    </tr>\n",
       "    <tr>\n",
       "      <th>3</th>\n",
       "      <td>004c9cd9d87a3c30c522c48c4fc07416</td>\n",
       "      <td>[b2d98b6f547c14e29a9e72b8e630d936, daf9301b3e3...</td>\n",
       "    </tr>\n",
       "    <tr>\n",
       "      <th>4</th>\n",
       "      <td>00720abe85ba0859807595bbf045a33b</td>\n",
       "      <td>[2d9ff06c8870a518f5f6909774e140fb, 2d9ff06c887...</td>\n",
       "    </tr>\n",
       "  </tbody>\n",
       "</table>\n",
       "</div>"
      ],
      "text/plain": [
       "                          seller_id  \\\n",
       "0  0015a82c2db000af6aaaf3ae2ecb0532   \n",
       "1  001cca7ae9ae17fb1caed9dfb1094831   \n",
       "2  002100f778ceb8431b7a1020ff7ab48f   \n",
       "3  004c9cd9d87a3c30c522c48c4fc07416   \n",
       "4  00720abe85ba0859807595bbf045a33b   \n",
       "\n",
       "                                          product_id  \n",
       "0  [a2ff5a97bf95719e38ea2e3b4105bce8, a2ff5a97bf9...  \n",
       "1  [08574b074924071f4e201e151b152b4e, 4f3b83b83f7...  \n",
       "2  [62c2b9bd44500d0305b1e50e2c9bd34d, cb790fa02cc...  \n",
       "3  [b2d98b6f547c14e29a9e72b8e630d936, daf9301b3e3...  \n",
       "4  [2d9ff06c8870a518f5f6909774e140fb, 2d9ff06c887...  "
      ]
     },
     "execution_count": 34,
     "metadata": {},
     "output_type": "execute_result"
    }
   ],
   "source": [
    "seller_product_df.head()"
   ]
  },
  {
   "cell_type": "code",
   "execution_count": 35,
   "metadata": {},
   "outputs": [],
   "source": [
    "seller_product_df['sell_count_dict'] = seller_product_df['product_id'].apply(lambda x: Counter(x))"
   ]
  },
  {
   "cell_type": "code",
   "execution_count": 36,
   "metadata": {},
   "outputs": [
    {
     "data": {
      "text/html": [
       "<div>\n",
       "<style scoped>\n",
       "    .dataframe tbody tr th:only-of-type {\n",
       "        vertical-align: middle;\n",
       "    }\n",
       "\n",
       "    .dataframe tbody tr th {\n",
       "        vertical-align: top;\n",
       "    }\n",
       "\n",
       "    .dataframe thead th {\n",
       "        text-align: right;\n",
       "    }\n",
       "</style>\n",
       "<table border=\"1\" class=\"dataframe\">\n",
       "  <thead>\n",
       "    <tr style=\"text-align: right;\">\n",
       "      <th></th>\n",
       "      <th>seller_id</th>\n",
       "      <th>product_id</th>\n",
       "      <th>sell_count_dict</th>\n",
       "    </tr>\n",
       "  </thead>\n",
       "  <tbody>\n",
       "    <tr>\n",
       "      <th>0</th>\n",
       "      <td>0015a82c2db000af6aaaf3ae2ecb0532</td>\n",
       "      <td>[a2ff5a97bf95719e38ea2e3b4105bce8, a2ff5a97bf9...</td>\n",
       "      <td>{'a2ff5a97bf95719e38ea2e3b4105bce8': 3}</td>\n",
       "    </tr>\n",
       "    <tr>\n",
       "      <th>1</th>\n",
       "      <td>001cca7ae9ae17fb1caed9dfb1094831</td>\n",
       "      <td>[08574b074924071f4e201e151b152b4e, 4f3b83b83f7...</td>\n",
       "      <td>{'08574b074924071f4e201e151b152b4e': 112, '4f3...</td>\n",
       "    </tr>\n",
       "    <tr>\n",
       "      <th>2</th>\n",
       "      <td>002100f778ceb8431b7a1020ff7ab48f</td>\n",
       "      <td>[62c2b9bd44500d0305b1e50e2c9bd34d, cb790fa02cc...</td>\n",
       "      <td>{'62c2b9bd44500d0305b1e50e2c9bd34d': 1, 'cb790...</td>\n",
       "    </tr>\n",
       "    <tr>\n",
       "      <th>3</th>\n",
       "      <td>004c9cd9d87a3c30c522c48c4fc07416</td>\n",
       "      <td>[b2d98b6f547c14e29a9e72b8e630d936, daf9301b3e3...</td>\n",
       "      <td>{'b2d98b6f547c14e29a9e72b8e630d936': 7, 'daf93...</td>\n",
       "    </tr>\n",
       "    <tr>\n",
       "      <th>4</th>\n",
       "      <td>00720abe85ba0859807595bbf045a33b</td>\n",
       "      <td>[2d9ff06c8870a518f5f6909774e140fb, 2d9ff06c887...</td>\n",
       "      <td>{'2d9ff06c8870a518f5f6909774e140fb': 2, 'cb046...</td>\n",
       "    </tr>\n",
       "  </tbody>\n",
       "</table>\n",
       "</div>"
      ],
      "text/plain": [
       "                          seller_id  \\\n",
       "0  0015a82c2db000af6aaaf3ae2ecb0532   \n",
       "1  001cca7ae9ae17fb1caed9dfb1094831   \n",
       "2  002100f778ceb8431b7a1020ff7ab48f   \n",
       "3  004c9cd9d87a3c30c522c48c4fc07416   \n",
       "4  00720abe85ba0859807595bbf045a33b   \n",
       "\n",
       "                                          product_id  \\\n",
       "0  [a2ff5a97bf95719e38ea2e3b4105bce8, a2ff5a97bf9...   \n",
       "1  [08574b074924071f4e201e151b152b4e, 4f3b83b83f7...   \n",
       "2  [62c2b9bd44500d0305b1e50e2c9bd34d, cb790fa02cc...   \n",
       "3  [b2d98b6f547c14e29a9e72b8e630d936, daf9301b3e3...   \n",
       "4  [2d9ff06c8870a518f5f6909774e140fb, 2d9ff06c887...   \n",
       "\n",
       "                                     sell_count_dict  \n",
       "0            {'a2ff5a97bf95719e38ea2e3b4105bce8': 3}  \n",
       "1  {'08574b074924071f4e201e151b152b4e': 112, '4f3...  \n",
       "2  {'62c2b9bd44500d0305b1e50e2c9bd34d': 1, 'cb790...  \n",
       "3  {'b2d98b6f547c14e29a9e72b8e630d936': 7, 'daf93...  \n",
       "4  {'2d9ff06c8870a518f5f6909774e140fb': 2, 'cb046...  "
      ]
     },
     "execution_count": 36,
     "metadata": {},
     "output_type": "execute_result"
    }
   ],
   "source": [
    "seller_product_df.head()"
   ]
  },
  {
   "cell_type": "code",
   "execution_count": 37,
   "metadata": {},
   "outputs": [],
   "source": [
    "seller_product_df['best_selling_product'] = seller_product_df['sell_count_dict'].apply(lambda x: x.most_common(3))"
   ]
  },
  {
   "cell_type": "code",
   "execution_count": 38,
   "metadata": {},
   "outputs": [
    {
     "data": {
      "text/html": [
       "<div>\n",
       "<style scoped>\n",
       "    .dataframe tbody tr th:only-of-type {\n",
       "        vertical-align: middle;\n",
       "    }\n",
       "\n",
       "    .dataframe tbody tr th {\n",
       "        vertical-align: top;\n",
       "    }\n",
       "\n",
       "    .dataframe thead th {\n",
       "        text-align: right;\n",
       "    }\n",
       "</style>\n",
       "<table border=\"1\" class=\"dataframe\">\n",
       "  <thead>\n",
       "    <tr style=\"text-align: right;\">\n",
       "      <th></th>\n",
       "      <th>seller_id</th>\n",
       "      <th>product_id</th>\n",
       "      <th>sell_count_dict</th>\n",
       "      <th>best_selling_product</th>\n",
       "    </tr>\n",
       "  </thead>\n",
       "  <tbody>\n",
       "    <tr>\n",
       "      <th>0</th>\n",
       "      <td>0015a82c2db000af6aaaf3ae2ecb0532</td>\n",
       "      <td>[a2ff5a97bf95719e38ea2e3b4105bce8, a2ff5a97bf9...</td>\n",
       "      <td>{'a2ff5a97bf95719e38ea2e3b4105bce8': 3}</td>\n",
       "      <td>[(a2ff5a97bf95719e38ea2e3b4105bce8, 3)]</td>\n",
       "    </tr>\n",
       "    <tr>\n",
       "      <th>1</th>\n",
       "      <td>001cca7ae9ae17fb1caed9dfb1094831</td>\n",
       "      <td>[08574b074924071f4e201e151b152b4e, 4f3b83b83f7...</td>\n",
       "      <td>{'08574b074924071f4e201e151b152b4e': 112, '4f3...</td>\n",
       "      <td>[(08574b074924071f4e201e151b152b4e, 112), (e25...</td>\n",
       "    </tr>\n",
       "    <tr>\n",
       "      <th>2</th>\n",
       "      <td>002100f778ceb8431b7a1020ff7ab48f</td>\n",
       "      <td>[62c2b9bd44500d0305b1e50e2c9bd34d, cb790fa02cc...</td>\n",
       "      <td>{'62c2b9bd44500d0305b1e50e2c9bd34d': 1, 'cb790...</td>\n",
       "      <td>[(158102fe543dbaeb84d87811bfe06d0d, 16), (414c...</td>\n",
       "    </tr>\n",
       "    <tr>\n",
       "      <th>3</th>\n",
       "      <td>004c9cd9d87a3c30c522c48c4fc07416</td>\n",
       "      <td>[b2d98b6f547c14e29a9e72b8e630d936, daf9301b3e3...</td>\n",
       "      <td>{'b2d98b6f547c14e29a9e72b8e630d936': 7, 'daf93...</td>\n",
       "      <td>[(54af11c815f92135fb554bd9c97dd418, 13), (b2d9...</td>\n",
       "    </tr>\n",
       "    <tr>\n",
       "      <th>4</th>\n",
       "      <td>00720abe85ba0859807595bbf045a33b</td>\n",
       "      <td>[2d9ff06c8870a518f5f6909774e140fb, 2d9ff06c887...</td>\n",
       "      <td>{'2d9ff06c8870a518f5f6909774e140fb': 2, 'cb046...</td>\n",
       "      <td>[(0e14941c183946f60e3b86585d05f984, 5), (ae253...</td>\n",
       "    </tr>\n",
       "  </tbody>\n",
       "</table>\n",
       "</div>"
      ],
      "text/plain": [
       "                          seller_id  \\\n",
       "0  0015a82c2db000af6aaaf3ae2ecb0532   \n",
       "1  001cca7ae9ae17fb1caed9dfb1094831   \n",
       "2  002100f778ceb8431b7a1020ff7ab48f   \n",
       "3  004c9cd9d87a3c30c522c48c4fc07416   \n",
       "4  00720abe85ba0859807595bbf045a33b   \n",
       "\n",
       "                                          product_id  \\\n",
       "0  [a2ff5a97bf95719e38ea2e3b4105bce8, a2ff5a97bf9...   \n",
       "1  [08574b074924071f4e201e151b152b4e, 4f3b83b83f7...   \n",
       "2  [62c2b9bd44500d0305b1e50e2c9bd34d, cb790fa02cc...   \n",
       "3  [b2d98b6f547c14e29a9e72b8e630d936, daf9301b3e3...   \n",
       "4  [2d9ff06c8870a518f5f6909774e140fb, 2d9ff06c887...   \n",
       "\n",
       "                                     sell_count_dict  \\\n",
       "0            {'a2ff5a97bf95719e38ea2e3b4105bce8': 3}   \n",
       "1  {'08574b074924071f4e201e151b152b4e': 112, '4f3...   \n",
       "2  {'62c2b9bd44500d0305b1e50e2c9bd34d': 1, 'cb790...   \n",
       "3  {'b2d98b6f547c14e29a9e72b8e630d936': 7, 'daf93...   \n",
       "4  {'2d9ff06c8870a518f5f6909774e140fb': 2, 'cb046...   \n",
       "\n",
       "                                best_selling_product  \n",
       "0            [(a2ff5a97bf95719e38ea2e3b4105bce8, 3)]  \n",
       "1  [(08574b074924071f4e201e151b152b4e, 112), (e25...  \n",
       "2  [(158102fe543dbaeb84d87811bfe06d0d, 16), (414c...  \n",
       "3  [(54af11c815f92135fb554bd9c97dd418, 13), (b2d9...  \n",
       "4  [(0e14941c183946f60e3b86585d05f984, 5), (ae253...  "
      ]
     },
     "execution_count": 38,
     "metadata": {},
     "output_type": "execute_result"
    }
   ],
   "source": [
    "seller_product_df.head()"
   ]
  },
  {
   "cell_type": "markdown",
   "metadata": {},
   "source": [
    "----\n",
    "#### *Popular Category for Seller*"
   ]
  },
  {
   "cell_type": "code",
   "execution_count": 39,
   "metadata": {},
   "outputs": [],
   "source": [
    "seller_category_df = order_df.groupby('seller_id')['product_category_name_english'].apply(list).reset_index()"
   ]
  },
  {
   "cell_type": "code",
   "execution_count": 40,
   "metadata": {},
   "outputs": [],
   "source": [
    "seller_category_df['sell_count_dict'] = seller_category_df['product_category_name_english'].apply(lambda x: Counter(x))"
   ]
  },
  {
   "cell_type": "code",
   "execution_count": 41,
   "metadata": {},
   "outputs": [],
   "source": [
    "seller_category_df['best_selling_category'] = seller_category_df['sell_count_dict'].apply(lambda x: x.most_common(3))"
   ]
  },
  {
   "cell_type": "code",
   "execution_count": 42,
   "metadata": {},
   "outputs": [
    {
     "data": {
      "text/html": [
       "<div>\n",
       "<style scoped>\n",
       "    .dataframe tbody tr th:only-of-type {\n",
       "        vertical-align: middle;\n",
       "    }\n",
       "\n",
       "    .dataframe tbody tr th {\n",
       "        vertical-align: top;\n",
       "    }\n",
       "\n",
       "    .dataframe thead th {\n",
       "        text-align: right;\n",
       "    }\n",
       "</style>\n",
       "<table border=\"1\" class=\"dataframe\">\n",
       "  <thead>\n",
       "    <tr style=\"text-align: right;\">\n",
       "      <th></th>\n",
       "      <th>seller_id</th>\n",
       "      <th>product_category_name_english</th>\n",
       "      <th>sell_count_dict</th>\n",
       "      <th>best_selling_category</th>\n",
       "    </tr>\n",
       "  </thead>\n",
       "  <tbody>\n",
       "    <tr>\n",
       "      <th>0</th>\n",
       "      <td>0015a82c2db000af6aaaf3ae2ecb0532</td>\n",
       "      <td>[small_appliances, small_appliances, small_app...</td>\n",
       "      <td>{'small_appliances': 3}</td>\n",
       "      <td>[(small_appliances, 3)]</td>\n",
       "    </tr>\n",
       "    <tr>\n",
       "      <th>1</th>\n",
       "      <td>001cca7ae9ae17fb1caed9dfb1094831</td>\n",
       "      <td>[garden_tools, garden_tools, garden_tools, gar...</td>\n",
       "      <td>{'garden_tools': 209, 'construction_tools_cons...</td>\n",
       "      <td>[(garden_tools, 209), (construction_tools_cons...</td>\n",
       "    </tr>\n",
       "    <tr>\n",
       "      <th>2</th>\n",
       "      <td>002100f778ceb8431b7a1020ff7ab48f</td>\n",
       "      <td>[furniture_decor, furniture_decor, furniture_d...</td>\n",
       "      <td>{'furniture_decor': 57}</td>\n",
       "      <td>[(furniture_decor, 57)]</td>\n",
       "    </tr>\n",
       "    <tr>\n",
       "      <th>3</th>\n",
       "      <td>004c9cd9d87a3c30c522c48c4fc07416</td>\n",
       "      <td>[bed_bath_table, bed_bath_table, bed_bath_tabl...</td>\n",
       "      <td>{'bed_bath_table': 160}</td>\n",
       "      <td>[(bed_bath_table, 160)]</td>\n",
       "    </tr>\n",
       "    <tr>\n",
       "      <th>4</th>\n",
       "      <td>00720abe85ba0859807595bbf045a33b</td>\n",
       "      <td>[housewares, housewares, housewares, houseware...</td>\n",
       "      <td>{'housewares': 26}</td>\n",
       "      <td>[(housewares, 26)]</td>\n",
       "    </tr>\n",
       "  </tbody>\n",
       "</table>\n",
       "</div>"
      ],
      "text/plain": [
       "                          seller_id  \\\n",
       "0  0015a82c2db000af6aaaf3ae2ecb0532   \n",
       "1  001cca7ae9ae17fb1caed9dfb1094831   \n",
       "2  002100f778ceb8431b7a1020ff7ab48f   \n",
       "3  004c9cd9d87a3c30c522c48c4fc07416   \n",
       "4  00720abe85ba0859807595bbf045a33b   \n",
       "\n",
       "                       product_category_name_english  \\\n",
       "0  [small_appliances, small_appliances, small_app...   \n",
       "1  [garden_tools, garden_tools, garden_tools, gar...   \n",
       "2  [furniture_decor, furniture_decor, furniture_d...   \n",
       "3  [bed_bath_table, bed_bath_table, bed_bath_tabl...   \n",
       "4  [housewares, housewares, housewares, houseware...   \n",
       "\n",
       "                                     sell_count_dict  \\\n",
       "0                            {'small_appliances': 3}   \n",
       "1  {'garden_tools': 209, 'construction_tools_cons...   \n",
       "2                            {'furniture_decor': 57}   \n",
       "3                            {'bed_bath_table': 160}   \n",
       "4                                 {'housewares': 26}   \n",
       "\n",
       "                               best_selling_category  \n",
       "0                            [(small_appliances, 3)]  \n",
       "1  [(garden_tools, 209), (construction_tools_cons...  \n",
       "2                            [(furniture_decor, 57)]  \n",
       "3                            [(bed_bath_table, 160)]  \n",
       "4                                 [(housewares, 26)]  "
      ]
     },
     "execution_count": 42,
     "metadata": {},
     "output_type": "execute_result"
    }
   ],
   "source": [
    "seller_category_df.head()"
   ]
  },
  {
   "cell_type": "markdown",
   "metadata": {},
   "source": [
    "----\n",
    "#### *Price Statistic for Seller*\n",
    "- 평균 배송비\n",
    "- 평균 카테고리 상대가격\n",
    "- 총 결제액\n"
   ]
  },
  {
   "cell_type": "code",
   "execution_count": 43,
   "metadata": {},
   "outputs": [
    {
     "data": {
      "text/plain": [
       "<AxesSubplot:>"
      ]
     },
     "execution_count": 43,
     "metadata": {},
     "output_type": "execute_result"
    },
    {
     "data": {
      "image/png": "[encoded data removed]",
      "text/plain": [
       "<Figure size 432x288 with 1 Axes>"
      ]
     },
     "metadata": {
      "needs_background": "light"
     },
     "output_type": "display_data"
    }
   ],
   "source": [
    "order_df.groupby('seller_id')['freight_value'].mean().hist(bins=100)"
   ]
  },
  {
   "cell_type": "code",
   "execution_count": 44,
   "metadata": {},
   "outputs": [
    {
     "data": {
      "text/plain": [
       "<AxesSubplot:>"
      ]
     },
     "execution_count": 44,
     "metadata": {},
     "output_type": "execute_result"
    },
    {
     "data": {
      "image/png": "[encoded data removed]",
      "text/plain": [
       "<Figure size 432x288 with 1 Axes>"
      ]
     },
     "metadata": {
      "needs_background": "light"
     },
     "output_type": "display_data"
    }
   ],
   "source": [
    "order_df['z_score_in_category'] = order_df.groupby('product_category_name_english')['price'].transform(lambda x: (x - x.mean()) / x.std())\n",
    "order_df['z_score_in_category'].hist(bins=100)"
   ]
  },
  {
   "cell_type": "code",
   "execution_count": 45,
   "metadata": {},
   "outputs": [],
   "source": [
    "seller_statistic_df = order_df.groupby('seller_id')[['freight_value', 'z_score_in_category', 'payment_value']].agg({'freight_value': 'mean', 'z_score_in_category': 'mean', 'payment_value': 'sum'})"
   ]
  },
  {
   "cell_type": "code",
   "execution_count": 46,
   "metadata": {},
   "outputs": [
    {
     "data": {
      "text/html": [
       "<div>\n",
       "<style scoped>\n",
       "    .dataframe tbody tr th:only-of-type {\n",
       "        vertical-align: middle;\n",
       "    }\n",
       "\n",
       "    .dataframe tbody tr th {\n",
       "        vertical-align: top;\n",
       "    }\n",
       "\n",
       "    .dataframe thead th {\n",
       "        text-align: right;\n",
       "    }\n",
       "</style>\n",
       "<table border=\"1\" class=\"dataframe\">\n",
       "  <thead>\n",
       "    <tr style=\"text-align: right;\">\n",
       "      <th></th>\n",
       "      <th>seller_id</th>\n",
       "      <th>freight_value</th>\n",
       "      <th>z_score_in_category</th>\n",
       "      <th>payment_value</th>\n",
       "    </tr>\n",
       "  </thead>\n",
       "  <tbody>\n",
       "    <tr>\n",
       "      <th>0</th>\n",
       "      <td>0015a82c2db000af6aaaf3ae2ecb0532</td>\n",
       "      <td>21.020000</td>\n",
       "      <td>1.235366</td>\n",
       "      <td>2748.06</td>\n",
       "    </tr>\n",
       "    <tr>\n",
       "      <th>1</th>\n",
       "      <td>001cca7ae9ae17fb1caed9dfb1094831</td>\n",
       "      <td>36.983814</td>\n",
       "      <td>-0.047328</td>\n",
       "      <td>47557.95</td>\n",
       "    </tr>\n",
       "    <tr>\n",
       "      <th>2</th>\n",
       "      <td>002100f778ceb8431b7a1020ff7ab48f</td>\n",
       "      <td>14.217895</td>\n",
       "      <td>-0.731393</td>\n",
       "      <td>2412.64</td>\n",
       "    </tr>\n",
       "    <tr>\n",
       "      <th>3</th>\n",
       "      <td>004c9cd9d87a3c30c522c48c4fc07416</td>\n",
       "      <td>19.222062</td>\n",
       "      <td>0.259749</td>\n",
       "      <td>24736.25</td>\n",
       "    </tr>\n",
       "    <tr>\n",
       "      <th>4</th>\n",
       "      <td>00720abe85ba0859807595bbf045a33b</td>\n",
       "      <td>12.153077</td>\n",
       "      <td>-0.368756</td>\n",
       "      <td>3118.40</td>\n",
       "    </tr>\n",
       "  </tbody>\n",
       "</table>\n",
       "</div>"
      ],
      "text/plain": [
       "                          seller_id  freight_value  z_score_in_category  \\\n",
       "0  0015a82c2db000af6aaaf3ae2ecb0532      21.020000             1.235366   \n",
       "1  001cca7ae9ae17fb1caed9dfb1094831      36.983814            -0.047328   \n",
       "2  002100f778ceb8431b7a1020ff7ab48f      14.217895            -0.731393   \n",
       "3  004c9cd9d87a3c30c522c48c4fc07416      19.222062             0.259749   \n",
       "4  00720abe85ba0859807595bbf045a33b      12.153077            -0.368756   \n",
       "\n",
       "   payment_value  \n",
       "0        2748.06  \n",
       "1       47557.95  \n",
       "2        2412.64  \n",
       "3       24736.25  \n",
       "4        3118.40  "
      ]
     },
     "execution_count": 46,
     "metadata": {},
     "output_type": "execute_result"
    }
   ],
   "source": [
    "seller_statistic_df = seller_statistic_df.reset_index()\n",
    "seller_statistic_df.head()"
   ]
  },
  {
   "cell_type": "code",
   "execution_count": 47,
   "metadata": {},
   "outputs": [
    {
     "data": {
      "text/plain": [
       "array([[<AxesSubplot:title={'center':'freight_value'}>,\n",
       "        <AxesSubplot:title={'center':'z_score_in_category'}>],\n",
       "       [<AxesSubplot:title={'center':'payment_value'}>, <AxesSubplot:>]],\n",
       "      dtype=object)"
      ]
     },
     "execution_count": 47,
     "metadata": {},
     "output_type": "execute_result"
    },
    {
     "data": {
      "image/png": "[encoded data removed]",
      "text/plain": [
       "<Figure size 432x288 with 4 Axes>"
      ]
     },
     "metadata": {
      "needs_background": "light"
     },
     "output_type": "display_data"
    }
   ],
   "source": [
    "seller_statistic_df.hist(bins=100)"
   ]
  },
  {
   "cell_type": "code",
   "execution_count": 48,
   "metadata": {},
   "outputs": [
    {
     "data": {
      "text/plain": [
       "<AxesSubplot:>"
      ]
     },
     "execution_count": 48,
     "metadata": {},
     "output_type": "execute_result"
    },
    {
     "data": {
      "image/png": "[encoded data removed]",
      "text/plain": [
       "<Figure size 432x288 with 1 Axes>"
      ]
     },
     "metadata": {
      "needs_background": "light"
     },
     "output_type": "display_data"
    }
   ],
   "source": [
    "np.log(seller_statistic_df['freight_value']).hist(bins=100)"
   ]
  },
  {
   "cell_type": "code",
   "execution_count": 49,
   "metadata": {},
   "outputs": [
    {
     "name": "stderr",
     "output_type": "stream",
     "text": [
      "/Users/A202009066/anaconda3/envs/nano/lib/python3.8/site-packages/pandas/core/arraylike.py:364: RuntimeWarning: invalid value encountered in log\n",
      "  result = getattr(ufunc, method)(*inputs, **kwargs)\n"
     ]
    },
    {
     "data": {
      "text/plain": [
       "<AxesSubplot:>"
      ]
     },
     "execution_count": 49,
     "metadata": {},
     "output_type": "execute_result"
    },
    {
     "data": {
      "image/png": "[encoded data removed]",
      "text/plain": [
       "<Figure size 432x288 with 1 Axes>"
      ]
     },
     "metadata": {
      "needs_background": "light"
     },
     "output_type": "display_data"
    }
   ],
   "source": [
    "np.log(seller_statistic_df['z_score_in_category']).hist(bins=100)"
   ]
  },
  {
   "cell_type": "code",
   "execution_count": 50,
   "metadata": {},
   "outputs": [
    {
     "data": {
      "text/plain": [
       "<AxesSubplot:>"
      ]
     },
     "execution_count": 50,
     "metadata": {},
     "output_type": "execute_result"
    },
    {
     "data": {
      "image/png": "[encoded data removed]",
      "text/plain": [
       "<Figure size 432x288 with 1 Axes>"
      ]
     },
     "metadata": {
      "needs_background": "light"
     },
     "output_type": "display_data"
    }
   ],
   "source": [
    "np.log(seller_statistic_df['payment_value']).hist(bins=100)"
   ]
  },
  {
   "cell_type": "code",
   "execution_count": 51,
   "metadata": {},
   "outputs": [
    {
     "data": {
      "text/plain": [
       "<matplotlib.collections.PathCollection at 0x7f83595abe20>"
      ]
     },
     "execution_count": 51,
     "metadata": {},
     "output_type": "execute_result"
    },
    {
     "data": {
      "image/png": "[encoded data removed]",
      "text/plain": [
       "<Figure size 432x288 with 1 Axes>"
      ]
     },
     "metadata": {
      "needs_background": "light"
     },
     "output_type": "display_data"
    }
   ],
   "source": [
    "plt.scatter(x=np.log(seller_statistic_df['freight_value']), y=np.log(seller_statistic_df['z_score_in_category']))"
   ]
  },
  {
   "cell_type": "code",
   "execution_count": 52,
   "metadata": {},
   "outputs": [
    {
     "data": {
      "text/plain": [
       "<matplotlib.collections.PathCollection at 0x7f82f93c5f10>"
      ]
     },
     "execution_count": 52,
     "metadata": {},
     "output_type": "execute_result"
    },
    {
     "data": {
      "image/png": "[encoded data removed]",
      "text/plain": [
       "<Figure size 432x288 with 1 Axes>"
      ]
     },
     "metadata": {
      "needs_background": "light"
     },
     "output_type": "display_data"
    }
   ],
   "source": [
    "plt.scatter(x=np.log(seller_statistic_df['freight_value']), y=np.log(seller_statistic_df['payment_value']))"
   ]
  },
  {
   "cell_type": "code",
   "execution_count": 53,
   "metadata": {},
   "outputs": [
    {
     "data": {
      "text/plain": [
       "<matplotlib.collections.PathCollection at 0x7f8359954580>"
      ]
     },
     "execution_count": 53,
     "metadata": {},
     "output_type": "execute_result"
    },
    {
     "data": {
      "image/png": "[encoded data removed]",
      "text/plain": [
       "<Figure size 432x288 with 1 Axes>"
      ]
     },
     "metadata": {
      "needs_background": "light"
     },
     "output_type": "display_data"
    }
   ],
   "source": [
    "plt.scatter(x=np.log(seller_statistic_df['z_score_in_category']), y=np.log(seller_statistic_df['payment_value']))"
   ]
  },
  {
   "cell_type": "markdown",
   "metadata": {},
   "source": [
    "### [seller별 배송 분석]"
   ]
  },
  {
   "cell_type": "markdown",
   "metadata": {},
   "source": [
    "----\n",
    "#### *Shipping Analysis Groupby Seller*"
   ]
  },
  {
   "cell_type": "markdown",
   "metadata": {},
   "source": [
    "- 배송 소요일\n",
    "- 예상 배송 소요일\n",
    "- 주문-수락 소요일"
   ]
  },
  {
   "cell_type": "code",
   "execution_count": 54,
   "metadata": {},
   "outputs": [
    {
     "data": {
      "text/plain": [
       "0     7\n",
       "1    16\n",
       "2     7\n",
       "3     6\n",
       "4    25\n",
       "Name: time_to_delivered, dtype: int64"
      ]
     },
     "execution_count": 54,
     "metadata": {},
     "output_type": "execute_result"
    }
   ],
   "source": [
    "# 배송 소요일 계산\n",
    "order_df['time_to_delivered'] = order_df['order_delivered_customer_date'] - order_df['order_purchase_timestamp']\n",
    "order_df['time_to_delivered'] = order_df['time_to_delivered'].dt.days\n",
    "order_df['time_to_delivered'].head()"
   ]
  },
  {
   "cell_type": "code",
   "execution_count": 55,
   "metadata": {},
   "outputs": [
    {
     "data": {
      "text/plain": [
       "<AxesSubplot:>"
      ]
     },
     "execution_count": 55,
     "metadata": {},
     "output_type": "execute_result"
    },
    {
     "data": {
      "image/png": "[encoded data removed]",
      "text/plain": [
       "<Figure size 432x288 with 1 Axes>"
      ]
     },
     "metadata": {
      "needs_background": "light"
     },
     "output_type": "display_data"
    }
   ],
   "source": [
    "# seller 별 평균 배송 소요일\n",
    "order_df.groupby('seller_id')['time_to_delivered'].mean().hist(bins=100)"
   ]
  },
  {
   "cell_type": "code",
   "execution_count": 56,
   "metadata": {},
   "outputs": [
    {
     "data": {
      "text/plain": [
       "0    15\n",
       "1    18\n",
       "2    21\n",
       "3    11\n",
       "4    40\n",
       "Name: time_to_estimated, dtype: int64"
      ]
     },
     "execution_count": 56,
     "metadata": {},
     "output_type": "execute_result"
    }
   ],
   "source": [
    "# 예상 배송 소요일\n",
    "order_df['time_to_estimated'] = order_df['order_estimated_delivery_date'] - order_df['order_purchase_timestamp']\n",
    "order_df['time_to_estimated'] = order_df['time_to_estimated'].dt.days\n",
    "order_df['time_to_estimated'].head()"
   ]
  },
  {
   "cell_type": "code",
   "execution_count": 57,
   "metadata": {},
   "outputs": [
    {
     "data": {
      "text/plain": [
       "<AxesSubplot:>"
      ]
     },
     "execution_count": 57,
     "metadata": {},
     "output_type": "execute_result"
    },
    {
     "data": {
      "image/png": "[encoded data removed]",
      "text/plain": [
       "<Figure size 432x288 with 1 Axes>"
      ]
     },
     "metadata": {
      "needs_background": "light"
     },
     "output_type": "display_data"
    }
   ],
   "source": [
    "# seller 별 평균 예상 배송 소요일\n",
    "order_df.groupby('seller_id')['time_to_estimated'].mean().hist(bins=100)"
   ]
  },
  {
   "cell_type": "code",
   "execution_count": 58,
   "metadata": {},
   "outputs": [
    {
     "data": {
      "text/plain": [
       "<matplotlib.collections.PathCollection at 0x7f835a243700>"
      ]
     },
     "execution_count": 58,
     "metadata": {},
     "output_type": "execute_result"
    },
    {
     "data": {
      "image/png": "[encoded data removed]",
      "text/plain": [
       "<Figure size 432x288 with 1 Axes>"
      ]
     },
     "metadata": {
      "needs_background": "light"
     },
     "output_type": "display_data"
    }
   ],
   "source": [
    "plt.scatter(x=order_df.groupby('seller_id')['time_to_delivered'].mean(), y=order_df.groupby('seller_id')['time_to_estimated'].mean())"
   ]
  },
  {
   "cell_type": "code",
   "execution_count": 59,
   "metadata": {},
   "outputs": [],
   "source": [
    "# seller의 주문수락 소요일\n",
    "order_df['time_to_accept'] = order_df['order_approved_at'] - order_df['order_purchase_timestamp']\n",
    "order_df['time_to_accept'] = order_df['time_to_accept'].dt.days"
   ]
  },
  {
   "cell_type": "code",
   "execution_count": 60,
   "metadata": {},
   "outputs": [
    {
     "data": {
      "text/plain": [
       "<AxesSubplot:>"
      ]
     },
     "execution_count": 60,
     "metadata": {},
     "output_type": "execute_result"
    },
    {
     "data": {
      "image/png": "[encoded data removed]",
      "text/plain": [
       "<Figure size 432x288 with 1 Axes>"
      ]
     },
     "metadata": {
      "needs_background": "light"
     },
     "output_type": "display_data"
    }
   ],
   "source": [
    "order_df['time_to_accept'].hist(bins=100)"
   ]
  },
  {
   "cell_type": "code",
   "execution_count": 61,
   "metadata": {},
   "outputs": [
    {
     "data": {
      "text/plain": [
       "count    2912.000000\n",
       "mean        0.261082\n",
       "std         0.396060\n",
       "min         0.000000\n",
       "25%         0.000000\n",
       "50%         0.170106\n",
       "75%         0.333333\n",
       "max         5.000000\n",
       "Name: time_to_accept, dtype: float64"
      ]
     },
     "execution_count": 61,
     "metadata": {},
     "output_type": "execute_result"
    }
   ],
   "source": [
    "order_df.groupby('seller_id')['time_to_accept'].mean().describe()"
   ]
  },
  {
   "cell_type": "code",
   "execution_count": 62,
   "metadata": {},
   "outputs": [
    {
     "data": {
      "text/plain": [
       "{'whiskers': [<matplotlib.lines.Line2D at 0x7f830b048160>,\n",
       "  <matplotlib.lines.Line2D at 0x7f830b0484f0>],\n",
       " 'caps': [<matplotlib.lines.Line2D at 0x7f830b048880>,\n",
       "  <matplotlib.lines.Line2D at 0x7f830b048c10>],\n",
       " 'boxes': [<matplotlib.lines.Line2D at 0x7f830b05ad90>],\n",
       " 'medians': [<matplotlib.lines.Line2D at 0x7f830b048fa0>],\n",
       " 'fliers': [<matplotlib.lines.Line2D at 0x7f830b03f370>],\n",
       " 'means': []}"
      ]
     },
     "execution_count": 62,
     "metadata": {},
     "output_type": "execute_result"
    },
    {
     "data": {
      "image/png": "[encoded data removed]",
      "text/plain": [
       "<Figure size 432x288 with 1 Axes>"
      ]
     },
     "metadata": {
      "needs_background": "light"
     },
     "output_type": "display_data"
    }
   ],
   "source": [
    "plt.boxplot(order_df.groupby('seller_id')['time_to_accept'].mean())"
   ]
  },
  {
   "cell_type": "code",
   "execution_count": 63,
   "metadata": {},
   "outputs": [
    {
     "data": {
      "text/html": [
       "<div>\n",
       "<style scoped>\n",
       "    .dataframe tbody tr th:only-of-type {\n",
       "        vertical-align: middle;\n",
       "    }\n",
       "\n",
       "    .dataframe tbody tr th {\n",
       "        vertical-align: top;\n",
       "    }\n",
       "\n",
       "    .dataframe thead th {\n",
       "        text-align: right;\n",
       "    }\n",
       "</style>\n",
       "<table border=\"1\" class=\"dataframe\">\n",
       "  <thead>\n",
       "    <tr style=\"text-align: right;\">\n",
       "      <th></th>\n",
       "      <th>seller_id</th>\n",
       "      <th>time_to_delivered</th>\n",
       "      <th>time_to_estimated</th>\n",
       "      <th>time_to_accept</th>\n",
       "    </tr>\n",
       "  </thead>\n",
       "  <tbody>\n",
       "    <tr>\n",
       "      <th>0</th>\n",
       "      <td>0015a82c2db000af6aaaf3ae2ecb0532</td>\n",
       "      <td>10.333333</td>\n",
       "      <td>26.000000</td>\n",
       "      <td>0.333333</td>\n",
       "    </tr>\n",
       "    <tr>\n",
       "      <th>1</th>\n",
       "      <td>001cca7ae9ae17fb1caed9dfb1094831</td>\n",
       "      <td>12.605932</td>\n",
       "      <td>25.322034</td>\n",
       "      <td>0.279661</td>\n",
       "    </tr>\n",
       "    <tr>\n",
       "      <th>2</th>\n",
       "      <td>002100f778ceb8431b7a1020ff7ab48f</td>\n",
       "      <td>15.614035</td>\n",
       "      <td>23.315789</td>\n",
       "      <td>0.684211</td>\n",
       "    </tr>\n",
       "    <tr>\n",
       "      <th>3</th>\n",
       "      <td>004c9cd9d87a3c30c522c48c4fc07416</td>\n",
       "      <td>13.481250</td>\n",
       "      <td>25.193750</td>\n",
       "      <td>0.187500</td>\n",
       "    </tr>\n",
       "    <tr>\n",
       "      <th>4</th>\n",
       "      <td>00720abe85ba0859807595bbf045a33b</td>\n",
       "      <td>8.153846</td>\n",
       "      <td>20.115385</td>\n",
       "      <td>0.115385</td>\n",
       "    </tr>\n",
       "  </tbody>\n",
       "</table>\n",
       "</div>"
      ],
      "text/plain": [
       "                          seller_id  time_to_delivered  time_to_estimated  \\\n",
       "0  0015a82c2db000af6aaaf3ae2ecb0532          10.333333          26.000000   \n",
       "1  001cca7ae9ae17fb1caed9dfb1094831          12.605932          25.322034   \n",
       "2  002100f778ceb8431b7a1020ff7ab48f          15.614035          23.315789   \n",
       "3  004c9cd9d87a3c30c522c48c4fc07416          13.481250          25.193750   \n",
       "4  00720abe85ba0859807595bbf045a33b           8.153846          20.115385   \n",
       "\n",
       "   time_to_accept  \n",
       "0        0.333333  \n",
       "1        0.279661  \n",
       "2        0.684211  \n",
       "3        0.187500  \n",
       "4        0.115385  "
      ]
     },
     "execution_count": 63,
     "metadata": {},
     "output_type": "execute_result"
    }
   ],
   "source": [
    "seller_shipping_df = order_df.groupby('seller_id')[['time_to_delivered', 'time_to_estimated', 'time_to_accept']].agg({'time_to_delivered': 'mean', 'time_to_estimated': 'mean', 'time_to_accept': 'mean'}).reset_index()\n",
    "seller_shipping_df.head()"
   ]
  },
  {
   "cell_type": "markdown",
   "metadata": {},
   "source": [
    "### [seller 군집 분석]"
   ]
  },
  {
   "cell_type": "markdown",
   "metadata": {},
   "source": [
    "----\n",
    "#### *Seller info to one DF*"
   ]
  },
  {
   "cell_type": "code",
   "execution_count": 64,
   "metadata": {},
   "outputs": [
    {
     "data": {
      "text/html": [
       "<div>\n",
       "<style scoped>\n",
       "    .dataframe tbody tr th:only-of-type {\n",
       "        vertical-align: middle;\n",
       "    }\n",
       "\n",
       "    .dataframe tbody tr th {\n",
       "        vertical-align: top;\n",
       "    }\n",
       "\n",
       "    .dataframe thead th {\n",
       "        text-align: right;\n",
       "    }\n",
       "</style>\n",
       "<table border=\"1\" class=\"dataframe\">\n",
       "  <thead>\n",
       "    <tr style=\"text-align: right;\">\n",
       "      <th></th>\n",
       "      <th>seller_id</th>\n",
       "      <th>time_to_delivered</th>\n",
       "      <th>time_to_estimated</th>\n",
       "      <th>time_to_accept</th>\n",
       "    </tr>\n",
       "  </thead>\n",
       "  <tbody>\n",
       "    <tr>\n",
       "      <th>0</th>\n",
       "      <td>0015a82c2db000af6aaaf3ae2ecb0532</td>\n",
       "      <td>10.333333</td>\n",
       "      <td>26.000000</td>\n",
       "      <td>0.333333</td>\n",
       "    </tr>\n",
       "    <tr>\n",
       "      <th>1</th>\n",
       "      <td>001cca7ae9ae17fb1caed9dfb1094831</td>\n",
       "      <td>12.605932</td>\n",
       "      <td>25.322034</td>\n",
       "      <td>0.279661</td>\n",
       "    </tr>\n",
       "    <tr>\n",
       "      <th>2</th>\n",
       "      <td>002100f778ceb8431b7a1020ff7ab48f</td>\n",
       "      <td>15.614035</td>\n",
       "      <td>23.315789</td>\n",
       "      <td>0.684211</td>\n",
       "    </tr>\n",
       "    <tr>\n",
       "      <th>3</th>\n",
       "      <td>004c9cd9d87a3c30c522c48c4fc07416</td>\n",
       "      <td>13.481250</td>\n",
       "      <td>25.193750</td>\n",
       "      <td>0.187500</td>\n",
       "    </tr>\n",
       "    <tr>\n",
       "      <th>4</th>\n",
       "      <td>00720abe85ba0859807595bbf045a33b</td>\n",
       "      <td>8.153846</td>\n",
       "      <td>20.115385</td>\n",
       "      <td>0.115385</td>\n",
       "    </tr>\n",
       "  </tbody>\n",
       "</table>\n",
       "</div>"
      ],
      "text/plain": [
       "                          seller_id  time_to_delivered  time_to_estimated  \\\n",
       "0  0015a82c2db000af6aaaf3ae2ecb0532          10.333333          26.000000   \n",
       "1  001cca7ae9ae17fb1caed9dfb1094831          12.605932          25.322034   \n",
       "2  002100f778ceb8431b7a1020ff7ab48f          15.614035          23.315789   \n",
       "3  004c9cd9d87a3c30c522c48c4fc07416          13.481250          25.193750   \n",
       "4  00720abe85ba0859807595bbf045a33b           8.153846          20.115385   \n",
       "\n",
       "   time_to_accept  \n",
       "0        0.333333  \n",
       "1        0.279661  \n",
       "2        0.684211  \n",
       "3        0.187500  \n",
       "4        0.115385  "
      ]
     },
     "execution_count": 64,
     "metadata": {},
     "output_type": "execute_result"
    }
   ],
   "source": [
    "# seller_count_df.head()\n",
    "# seller_distinct_df.head()\n",
    "# seller_product_df.head()\n",
    "# seller_category_df.head()\n",
    "# seller_statistic_df.head()\n",
    "seller_shipping_df.head()"
   ]
  },
  {
   "cell_type": "code",
   "execution_count": 65,
   "metadata": {},
   "outputs": [],
   "source": [
    "seller_df = seller_count_df.copy()\n",
    "seller_df = pd.merge(seller_df, seller_product_df[['seller_id', 'best_selling_product']], on='seller_id')\n",
    "seller_df = pd.merge(seller_df, seller_category_df[['seller_id', 'best_selling_category']], on='seller_id')\n",
    "seller_df = pd.merge(seller_df, seller_statistic_df, on='seller_id')\n",
    "seller_df = pd.merge(seller_df, seller_shipping_df, on='seller_id')"
   ]
  },
  {
   "cell_type": "code",
   "execution_count": 66,
   "metadata": {},
   "outputs": [
    {
     "data": {
      "text/html": [
       "<div>\n",
       "<style scoped>\n",
       "    .dataframe tbody tr th:only-of-type {\n",
       "        vertical-align: middle;\n",
       "    }\n",
       "\n",
       "    .dataframe tbody tr th {\n",
       "        vertical-align: top;\n",
       "    }\n",
       "\n",
       "    .dataframe thead th {\n",
       "        text-align: right;\n",
       "    }\n",
       "</style>\n",
       "<table border=\"1\" class=\"dataframe\">\n",
       "  <thead>\n",
       "    <tr style=\"text-align: right;\">\n",
       "      <th></th>\n",
       "      <th>seller_id</th>\n",
       "      <th>order_id</th>\n",
       "      <th>best_selling_product</th>\n",
       "      <th>best_selling_category</th>\n",
       "      <th>freight_value</th>\n",
       "      <th>z_score_in_category</th>\n",
       "      <th>payment_value</th>\n",
       "      <th>time_to_delivered</th>\n",
       "      <th>time_to_estimated</th>\n",
       "      <th>time_to_accept</th>\n",
       "    </tr>\n",
       "  </thead>\n",
       "  <tbody>\n",
       "    <tr>\n",
       "      <th>0</th>\n",
       "      <td>0015a82c2db000af6aaaf3ae2ecb0532</td>\n",
       "      <td>3</td>\n",
       "      <td>[(a2ff5a97bf95719e38ea2e3b4105bce8, 3)]</td>\n",
       "      <td>[(small_appliances, 3)]</td>\n",
       "      <td>21.020000</td>\n",
       "      <td>1.235366</td>\n",
       "      <td>2748.06</td>\n",
       "      <td>10.333333</td>\n",
       "      <td>26.000000</td>\n",
       "      <td>0.333333</td>\n",
       "    </tr>\n",
       "    <tr>\n",
       "      <th>1</th>\n",
       "      <td>001cca7ae9ae17fb1caed9dfb1094831</td>\n",
       "      <td>236</td>\n",
       "      <td>[(08574b074924071f4e201e151b152b4e, 112), (e25...</td>\n",
       "      <td>[(garden_tools, 209), (construction_tools_cons...</td>\n",
       "      <td>36.983814</td>\n",
       "      <td>-0.047328</td>\n",
       "      <td>47557.95</td>\n",
       "      <td>12.605932</td>\n",
       "      <td>25.322034</td>\n",
       "      <td>0.279661</td>\n",
       "    </tr>\n",
       "    <tr>\n",
       "      <th>2</th>\n",
       "      <td>002100f778ceb8431b7a1020ff7ab48f</td>\n",
       "      <td>57</td>\n",
       "      <td>[(158102fe543dbaeb84d87811bfe06d0d, 16), (414c...</td>\n",
       "      <td>[(furniture_decor, 57)]</td>\n",
       "      <td>14.217895</td>\n",
       "      <td>-0.731393</td>\n",
       "      <td>2412.64</td>\n",
       "      <td>15.614035</td>\n",
       "      <td>23.315789</td>\n",
       "      <td>0.684211</td>\n",
       "    </tr>\n",
       "    <tr>\n",
       "      <th>3</th>\n",
       "      <td>004c9cd9d87a3c30c522c48c4fc07416</td>\n",
       "      <td>160</td>\n",
       "      <td>[(54af11c815f92135fb554bd9c97dd418, 13), (b2d9...</td>\n",
       "      <td>[(bed_bath_table, 160)]</td>\n",
       "      <td>19.222062</td>\n",
       "      <td>0.259749</td>\n",
       "      <td>24736.25</td>\n",
       "      <td>13.481250</td>\n",
       "      <td>25.193750</td>\n",
       "      <td>0.187500</td>\n",
       "    </tr>\n",
       "    <tr>\n",
       "      <th>4</th>\n",
       "      <td>00720abe85ba0859807595bbf045a33b</td>\n",
       "      <td>26</td>\n",
       "      <td>[(0e14941c183946f60e3b86585d05f984, 5), (ae253...</td>\n",
       "      <td>[(housewares, 26)]</td>\n",
       "      <td>12.153077</td>\n",
       "      <td>-0.368756</td>\n",
       "      <td>3118.40</td>\n",
       "      <td>8.153846</td>\n",
       "      <td>20.115385</td>\n",
       "      <td>0.115385</td>\n",
       "    </tr>\n",
       "  </tbody>\n",
       "</table>\n",
       "</div>"
      ],
      "text/plain": [
       "                          seller_id  order_id  \\\n",
       "0  0015a82c2db000af6aaaf3ae2ecb0532         3   \n",
       "1  001cca7ae9ae17fb1caed9dfb1094831       236   \n",
       "2  002100f778ceb8431b7a1020ff7ab48f        57   \n",
       "3  004c9cd9d87a3c30c522c48c4fc07416       160   \n",
       "4  00720abe85ba0859807595bbf045a33b        26   \n",
       "\n",
       "                                best_selling_product  \\\n",
       "0            [(a2ff5a97bf95719e38ea2e3b4105bce8, 3)]   \n",
       "1  [(08574b074924071f4e201e151b152b4e, 112), (e25...   \n",
       "2  [(158102fe543dbaeb84d87811bfe06d0d, 16), (414c...   \n",
       "3  [(54af11c815f92135fb554bd9c97dd418, 13), (b2d9...   \n",
       "4  [(0e14941c183946f60e3b86585d05f984, 5), (ae253...   \n",
       "\n",
       "                               best_selling_category  freight_value  \\\n",
       "0                            [(small_appliances, 3)]      21.020000   \n",
       "1  [(garden_tools, 209), (construction_tools_cons...      36.983814   \n",
       "2                            [(furniture_decor, 57)]      14.217895   \n",
       "3                            [(bed_bath_table, 160)]      19.222062   \n",
       "4                                 [(housewares, 26)]      12.153077   \n",
       "\n",
       "   z_score_in_category  payment_value  time_to_delivered  time_to_estimated  \\\n",
       "0             1.235366        2748.06          10.333333          26.000000   \n",
       "1            -0.047328       47557.95          12.605932          25.322034   \n",
       "2            -0.731393        2412.64          15.614035          23.315789   \n",
       "3             0.259749       24736.25          13.481250          25.193750   \n",
       "4            -0.368756        3118.40           8.153846          20.115385   \n",
       "\n",
       "   time_to_accept  \n",
       "0        0.333333  \n",
       "1        0.279661  \n",
       "2        0.684211  \n",
       "3        0.187500  \n",
       "4        0.115385  "
      ]
     },
     "execution_count": 66,
     "metadata": {},
     "output_type": "execute_result"
    }
   ],
   "source": [
    "seller_df.head()"
   ]
  },
  {
   "cell_type": "code",
   "execution_count": 67,
   "metadata": {},
   "outputs": [
    {
     "data": {
      "text/plain": [
       "<AxesSubplot:>"
      ]
     },
     "execution_count": 67,
     "metadata": {},
     "output_type": "execute_result"
    },
    {
     "data": {
      "image/png": "[encoded data removed]",
      "text/plain": [
       "<Figure size 432x288 with 1 Axes>"
      ]
     },
     "metadata": {
      "needs_background": "light"
     },
     "output_type": "display_data"
    }
   ],
   "source": [
    "seller_df['order_id'].hist(bins=50)"
   ]
  },
  {
   "cell_type": "code",
   "execution_count": 68,
   "metadata": {},
   "outputs": [
    {
     "data": {
      "text/plain": [
       "<AxesSubplot:>"
      ]
     },
     "execution_count": 68,
     "metadata": {},
     "output_type": "execute_result"
    },
    {
     "data": {
      "image/png": "[encoded data removed]",
      "text/plain": [
       "<Figure size 432x288 with 1 Axes>"
      ]
     },
     "metadata": {
      "needs_background": "light"
     },
     "output_type": "display_data"
    }
   ],
   "source": [
    "np.log(seller_df['order_id']).hist(bins=50)"
   ]
  },
  {
   "cell_type": "code",
   "execution_count": 69,
   "metadata": {},
   "outputs": [
    {
     "data": {
      "text/plain": [
       "<AxesSubplot:>"
      ]
     },
     "execution_count": 69,
     "metadata": {},
     "output_type": "execute_result"
    },
    {
     "data": {
      "image/png": "[encoded data removed]",
      "text/plain": [
       "<Figure size 432x288 with 1 Axes>"
      ]
     },
     "metadata": {
      "needs_background": "light"
     },
     "output_type": "display_data"
    }
   ],
   "source": [
    "seller_df['freight_value'].hist(bins=50)"
   ]
  },
  {
   "cell_type": "code",
   "execution_count": 70,
   "metadata": {},
   "outputs": [
    {
     "data": {
      "text/plain": [
       "{'whiskers': [<matplotlib.lines.Line2D at 0x7f831a463b80>,\n",
       "  <matplotlib.lines.Line2D at 0x7f831a463f10>],\n",
       " 'caps': [<matplotlib.lines.Line2D at 0x7f831a4592e0>,\n",
       "  <matplotlib.lines.Line2D at 0x7f831a459670>],\n",
       " 'boxes': [<matplotlib.lines.Line2D at 0x7f831a463910>],\n",
       " 'medians': [<matplotlib.lines.Line2D at 0x7f831a459a00>],\n",
       " 'fliers': [<matplotlib.lines.Line2D at 0x7f831a459d90>],\n",
       " 'means': []}"
      ]
     },
     "execution_count": 70,
     "metadata": {},
     "output_type": "execute_result"
    },
    {
     "data": {
      "image/png": "[encoded data removed]",
      "text/plain": [
       "<Figure size 432x288 with 1 Axes>"
      ]
     },
     "metadata": {
      "needs_background": "light"
     },
     "output_type": "display_data"
    }
   ],
   "source": [
    "plt.boxplot(seller_df['freight_value'])"
   ]
  },
  {
   "cell_type": "code",
   "execution_count": 71,
   "metadata": {},
   "outputs": [
    {
     "data": {
      "text/plain": [
       "<AxesSubplot:>"
      ]
     },
     "execution_count": 71,
     "metadata": {},
     "output_type": "execute_result"
    },
    {
     "data": {
      "image/png": "[encoded data removed]",
      "text/plain": [
       "<Figure size 432x288 with 1 Axes>"
      ]
     },
     "metadata": {
      "needs_background": "light"
     },
     "output_type": "display_data"
    }
   ],
   "source": [
    "np.log(seller_df['freight_value']).hist(bins=50)"
   ]
  },
  {
   "cell_type": "code",
   "execution_count": 72,
   "metadata": {},
   "outputs": [
    {
     "data": {
      "text/plain": [
       "<AxesSubplot:>"
      ]
     },
     "execution_count": 72,
     "metadata": {},
     "output_type": "execute_result"
    },
    {
     "data": {
      "image/png": "[encoded data removed]",
      "text/plain": [
       "<Figure size 432x288 with 1 Axes>"
      ]
     },
     "metadata": {
      "needs_background": "light"
     },
     "output_type": "display_data"
    }
   ],
   "source": [
    "seller_df['z_score_in_category'].hist(bins=100)"
   ]
  },
  {
   "cell_type": "code",
   "execution_count": 73,
   "metadata": {},
   "outputs": [
    {
     "name": "stderr",
     "output_type": "stream",
     "text": [
      "/Users/A202009066/anaconda3/envs/nano/lib/python3.8/site-packages/pandas/core/arraylike.py:364: RuntimeWarning: invalid value encountered in log\n",
      "  result = getattr(ufunc, method)(*inputs, **kwargs)\n"
     ]
    },
    {
     "data": {
      "text/plain": [
       "<AxesSubplot:>"
      ]
     },
     "execution_count": 73,
     "metadata": {},
     "output_type": "execute_result"
    },
    {
     "data": {
      "image/png": "[encoded data removed]",
      "text/plain": [
       "<Figure size 432x288 with 1 Axes>"
      ]
     },
     "metadata": {
      "needs_background": "light"
     },
     "output_type": "display_data"
    }
   ],
   "source": [
    "np.log(seller_df['z_score_in_category']).hist(bins=100)"
   ]
  },
  {
   "cell_type": "code",
   "execution_count": 74,
   "metadata": {},
   "outputs": [
    {
     "data": {
      "text/plain": [
       "<AxesSubplot:>"
      ]
     },
     "execution_count": 74,
     "metadata": {},
     "output_type": "execute_result"
    },
    {
     "data": {
      "image/png": "[encoded data removed]",
      "text/plain": [
       "<Figure size 432x288 with 1 Axes>"
      ]
     },
     "metadata": {
      "needs_background": "light"
     },
     "output_type": "display_data"
    }
   ],
   "source": [
    "np.log(seller_df['z_score_in_category']+2).hist(bins=100)"
   ]
  },
  {
   "cell_type": "code",
   "execution_count": 75,
   "metadata": {},
   "outputs": [
    {
     "data": {
      "text/plain": [
       "<AxesSubplot:>"
      ]
     },
     "execution_count": 75,
     "metadata": {},
     "output_type": "execute_result"
    },
    {
     "data": {
      "image/png": "[encoded data removed]",
      "text/plain": [
       "<Figure size 432x288 with 1 Axes>"
      ]
     },
     "metadata": {
      "needs_background": "light"
     },
     "output_type": "display_data"
    }
   ],
   "source": [
    "np.log(seller_df['payment_value']).hist(bins=100)"
   ]
  },
  {
   "cell_type": "code",
   "execution_count": 76,
   "metadata": {},
   "outputs": [
    {
     "data": {
      "text/plain": [
       "array([[<AxesSubplot:title={'center':'time_to_delivered'}>,\n",
       "        <AxesSubplot:title={'center':'time_to_estimated'}>],\n",
       "       [<AxesSubplot:title={'center':'time_to_accept'}>, <AxesSubplot:>]],\n",
       "      dtype=object)"
      ]
     },
     "execution_count": 76,
     "metadata": {},
     "output_type": "execute_result"
    },
    {
     "data": {
      "image/png": "[encoded data removed]",
      "text/plain": [
       "<Figure size 432x288 with 4 Axes>"
      ]
     },
     "metadata": {
      "needs_background": "light"
     },
     "output_type": "display_data"
    }
   ],
   "source": [
    "seller_df[['time_to_delivered', 'time_to_estimated', 'time_to_accept']].hist(bins=100)"
   ]
  },
  {
   "cell_type": "code",
   "execution_count": 77,
   "metadata": {},
   "outputs": [
    {
     "data": {
      "text/plain": [
       "<AxesSubplot:>"
      ]
     },
     "execution_count": 77,
     "metadata": {},
     "output_type": "execute_result"
    },
    {
     "data": {
      "image/png": "[encoded data removed]",
      "text/plain": [
       "<Figure size 432x288 with 1 Axes>"
      ]
     },
     "metadata": {
      "needs_background": "light"
     },
     "output_type": "display_data"
    }
   ],
   "source": [
    "np.log(seller_df['time_to_delivered']).hist(bins=100)"
   ]
  },
  {
   "cell_type": "code",
   "execution_count": 78,
   "metadata": {},
   "outputs": [
    {
     "data": {
      "text/plain": [
       "<AxesSubplot:>"
      ]
     },
     "execution_count": 78,
     "metadata": {},
     "output_type": "execute_result"
    },
    {
     "data": {
      "image/png": "[encoded data removed]",
      "text/plain": [
       "<Figure size 432x288 with 1 Axes>"
      ]
     },
     "metadata": {
      "needs_background": "light"
     },
     "output_type": "display_data"
    }
   ],
   "source": [
    "np.log(seller_df['time_to_estimated']).hist(bins=100)"
   ]
  },
  {
   "cell_type": "code",
   "execution_count": 79,
   "metadata": {},
   "outputs": [
    {
     "data": {
      "text/plain": [
       "<AxesSubplot:>"
      ]
     },
     "execution_count": 79,
     "metadata": {},
     "output_type": "execute_result"
    },
    {
     "data": {
      "image/png": "[encoded data removed]",
      "text/plain": [
       "<Figure size 432x288 with 1 Axes>"
      ]
     },
     "metadata": {
      "needs_background": "light"
     },
     "output_type": "display_data"
    }
   ],
   "source": [
    "np.log(seller_df['time_to_accept']+1).hist(bins=100)"
   ]
  },
  {
   "cell_type": "markdown",
   "metadata": {},
   "source": [
    "----\n",
    "#### *Apply Feature Engineering*"
   ]
  },
  {
   "cell_type": "code",
   "execution_count": 80,
   "metadata": {},
   "outputs": [],
   "source": [
    "def log_normalize(df, columns):\n",
    "    for column in columns:\n",
    "        df[column] = np.log(df[column]+2)\n",
    "    return df\n",
    "\n",
    "\n",
    "def min_max_scaling(df, columns):\n",
    "    for column in columns:\n",
    "        df[column] = (df[column] - df[column].min()) / (df[column].max() - df[column].min())\n",
    "    return df"
   ]
  },
  {
   "cell_type": "code",
   "execution_count": 81,
   "metadata": {},
   "outputs": [],
   "source": [
    "seller_df = log_normalize(seller_df, ['order_id', 'freight_value', 'z_score_in_category', 'payment_value', 'time_to_delivered', 'time_to_estimated'])"
   ]
  },
  {
   "cell_type": "code",
   "execution_count": 82,
   "metadata": {},
   "outputs": [],
   "source": [
    "seller_df = log_normalize(seller_df, ['order_id', 'freight_value', 'z_score_in_category', 'payment_value', 'time_to_delivered', 'time_to_estimated', 'time_to_accept'])"
   ]
  },
  {
   "cell_type": "code",
   "execution_count": 83,
   "metadata": {},
   "outputs": [
    {
     "data": {
      "text/html": [
       "<div>\n",
       "<style scoped>\n",
       "    .dataframe tbody tr th:only-of-type {\n",
       "        vertical-align: middle;\n",
       "    }\n",
       "\n",
       "    .dataframe tbody tr th {\n",
       "        vertical-align: top;\n",
       "    }\n",
       "\n",
       "    .dataframe thead th {\n",
       "        text-align: right;\n",
       "    }\n",
       "</style>\n",
       "<table border=\"1\" class=\"dataframe\">\n",
       "  <thead>\n",
       "    <tr style=\"text-align: right;\">\n",
       "      <th></th>\n",
       "      <th>seller_id</th>\n",
       "      <th>order_id</th>\n",
       "      <th>best_selling_product</th>\n",
       "      <th>best_selling_category</th>\n",
       "      <th>freight_value</th>\n",
       "      <th>z_score_in_category</th>\n",
       "      <th>payment_value</th>\n",
       "      <th>time_to_delivered</th>\n",
       "      <th>time_to_estimated</th>\n",
       "      <th>time_to_accept</th>\n",
       "    </tr>\n",
       "  </thead>\n",
       "  <tbody>\n",
       "    <tr>\n",
       "      <th>0</th>\n",
       "      <td>0015a82c2db000af6aaaf3ae2ecb0532</td>\n",
       "      <td>1.283552</td>\n",
       "      <td>[(a2ff5a97bf95719e38ea2e3b4105bce8, 3)]</td>\n",
       "      <td>[(small_appliances, 3)]</td>\n",
       "      <td>1.636345</td>\n",
       "      <td>1.155037</td>\n",
       "      <td>2.294490</td>\n",
       "      <td>1.506808</td>\n",
       "      <td>1.673765</td>\n",
       "      <td>0.847298</td>\n",
       "    </tr>\n",
       "    <tr>\n",
       "      <th>1</th>\n",
       "      <td>001cca7ae9ae17fb1caed9dfb1094831</td>\n",
       "      <td>2.011199</td>\n",
       "      <td>[(08574b074924071f4e201e151b152b4e, 112), (e25...</td>\n",
       "      <td>[(garden_tools, 209), (construction_tools_cons...</td>\n",
       "      <td>1.733980</td>\n",
       "      <td>0.981778</td>\n",
       "      <td>2.547079</td>\n",
       "      <td>1.543603</td>\n",
       "      <td>1.669157</td>\n",
       "      <td>0.824027</td>\n",
       "    </tr>\n",
       "    <tr>\n",
       "      <th>2</th>\n",
       "      <td>002100f778ceb8431b7a1020ff7ab48f</td>\n",
       "      <td>1.804600</td>\n",
       "      <td>[(158102fe543dbaeb84d87811bfe06d0d, 16), (414c...</td>\n",
       "      <td>[(furniture_decor, 57)]</td>\n",
       "      <td>1.565719</td>\n",
       "      <td>0.805547</td>\n",
       "      <td>2.281291</td>\n",
       "      <td>1.582826</td>\n",
       "      <td>1.654684</td>\n",
       "      <td>0.987387</td>\n",
       "    </tr>\n",
       "    <tr>\n",
       "      <th>3</th>\n",
       "      <td>004c9cd9d87a3c30c522c48c4fc07416</td>\n",
       "      <td>1.958346</td>\n",
       "      <td>[(54af11c815f92135fb554bd9c97dd418, 13), (b2d9...</td>\n",
       "      <td>[(bed_bath_table, 160)]</td>\n",
       "      <td>1.620386</td>\n",
       "      <td>1.035052</td>\n",
       "      <td>2.494536</td>\n",
       "      <td>1.555959</td>\n",
       "      <td>1.668270</td>\n",
       "      <td>0.782759</td>\n",
       "    </tr>\n",
       "    <tr>\n",
       "      <th>4</th>\n",
       "      <td>00720abe85ba0859807595bbf045a33b</td>\n",
       "      <td>1.673765</td>\n",
       "      <td>[(0e14941c183946f60e3b86585d05f984, 5), (ae253...</td>\n",
       "      <td>[(housewares, 26)]</td>\n",
       "      <td>1.536853</td>\n",
       "      <td>0.912019</td>\n",
       "      <td>2.307146</td>\n",
       "      <td>1.462758</td>\n",
       "      <td>1.628510</td>\n",
       "      <td>0.749237</td>\n",
       "    </tr>\n",
       "  </tbody>\n",
       "</table>\n",
       "</div>"
      ],
      "text/plain": [
       "                          seller_id  order_id  \\\n",
       "0  0015a82c2db000af6aaaf3ae2ecb0532  1.283552   \n",
       "1  001cca7ae9ae17fb1caed9dfb1094831  2.011199   \n",
       "2  002100f778ceb8431b7a1020ff7ab48f  1.804600   \n",
       "3  004c9cd9d87a3c30c522c48c4fc07416  1.958346   \n",
       "4  00720abe85ba0859807595bbf045a33b  1.673765   \n",
       "\n",
       "                                best_selling_product  \\\n",
       "0            [(a2ff5a97bf95719e38ea2e3b4105bce8, 3)]   \n",
       "1  [(08574b074924071f4e201e151b152b4e, 112), (e25...   \n",
       "2  [(158102fe543dbaeb84d87811bfe06d0d, 16), (414c...   \n",
       "3  [(54af11c815f92135fb554bd9c97dd418, 13), (b2d9...   \n",
       "4  [(0e14941c183946f60e3b86585d05f984, 5), (ae253...   \n",
       "\n",
       "                               best_selling_category  freight_value  \\\n",
       "0                            [(small_appliances, 3)]       1.636345   \n",
       "1  [(garden_tools, 209), (construction_tools_cons...       1.733980   \n",
       "2                            [(furniture_decor, 57)]       1.565719   \n",
       "3                            [(bed_bath_table, 160)]       1.620386   \n",
       "4                                 [(housewares, 26)]       1.536853   \n",
       "\n",
       "   z_score_in_category  payment_value  time_to_delivered  time_to_estimated  \\\n",
       "0             1.155037       2.294490           1.506808           1.673765   \n",
       "1             0.981778       2.547079           1.543603           1.669157   \n",
       "2             0.805547       2.281291           1.582826           1.654684   \n",
       "3             1.035052       2.494536           1.555959           1.668270   \n",
       "4             0.912019       2.307146           1.462758           1.628510   \n",
       "\n",
       "   time_to_accept  \n",
       "0        0.847298  \n",
       "1        0.824027  \n",
       "2        0.987387  \n",
       "3        0.782759  \n",
       "4        0.749237  "
      ]
     },
     "execution_count": 83,
     "metadata": {},
     "output_type": "execute_result"
    }
   ],
   "source": [
    "seller_df.head()"
   ]
  },
  {
   "cell_type": "markdown",
   "metadata": {},
   "source": [
    "----\n",
    "#### *K-means Clustering*"
   ]
  },
  {
   "cell_type": "code",
   "execution_count": 84,
   "metadata": {},
   "outputs": [],
   "source": [
    "kmeans_df = seller_df[['order_id', 'freight_value', 'z_score_in_category', 'payment_value', 'time_to_delivered', 'time_to_estimated', 'time_to_accept']]"
   ]
  },
  {
   "cell_type": "code",
   "execution_count": 85,
   "metadata": {},
   "outputs": [
    {
     "name": "stdout",
     "output_type": "stream",
     "text": [
      "k: 1 | cost: 33.91660615845516\n",
      "k: 2 | cost: 17.848253011654414\n",
      "k: 3 | cost: 12.358307241816046\n",
      "k: 4 | cost: 9.761374947287326\n",
      "k: 5 | cost: 8.412107685007372\n",
      "k: 6 | cost: 7.444867441706731\n",
      "k: 7 | cost: 6.680673111126949\n",
      "k: 8 | cost: 5.9711149091782865\n",
      "k: 9 | cost: 5.391076025118543\n"
     ]
    },
    {
     "data": {
      "text/plain": [
       "[<matplotlib.lines.Line2D at 0x7f834ab85490>]"
      ]
     },
     "execution_count": 85,
     "metadata": {},
     "output_type": "execute_result"
    },
    {
     "data": {
      "image/png": "[encoded data removed]",
      "text/plain": [
       "<Figure size 432x288 with 1 Axes>"
      ]
     },
     "metadata": {
      "needs_background": "light"
     },
     "output_type": "display_data"
    }
   ],
   "source": [
    "from sklearn.cluster import KMeans\n",
    "\n",
    "# K-means train & Elbow method\n",
    "X = kmeans_df[['time_to_delivered', 'time_to_estimated']]\n",
    "\n",
    "k_list = []\n",
    "cost_list = []\n",
    "for k in range (1, 10):\n",
    "    kmeans = KMeans(n_clusters=k).fit(X)\n",
    "    interia = kmeans.inertia_\n",
    "    print (\"k:\", k, \"| cost:\", interia)\n",
    "    k_list.append(k)\n",
    "    cost_list.append(interia)\n",
    "    \n",
    "plt.plot(k_list, cost_list)"
   ]
  },
  {
   "cell_type": "code",
   "execution_count": 86,
   "metadata": {},
   "outputs": [
    {
     "name": "stderr",
     "output_type": "stream",
     "text": [
      "/Users/A202009066/anaconda3/envs/nano/lib/python3.8/site-packages/pandas/core/frame.py:3607: SettingWithCopyWarning: \n",
      "A value is trying to be set on a copy of a slice from a DataFrame.\n",
      "Try using .loc[row_indexer,col_indexer] = value instead\n",
      "\n",
      "See the caveats in the documentation: https://pandas.pydata.org/pandas-docs/stable/user_guide/indexing.html#returning-a-view-versus-a-copy\n",
      "  self._set_item(key, value)\n"
     ]
    },
    {
     "data": {
      "text/html": [
       "<div>\n",
       "<style scoped>\n",
       "    .dataframe tbody tr th:only-of-type {\n",
       "        vertical-align: middle;\n",
       "    }\n",
       "\n",
       "    .dataframe tbody tr th {\n",
       "        vertical-align: top;\n",
       "    }\n",
       "\n",
       "    .dataframe thead th {\n",
       "        text-align: right;\n",
       "    }\n",
       "</style>\n",
       "<table border=\"1\" class=\"dataframe\">\n",
       "  <thead>\n",
       "    <tr style=\"text-align: right;\">\n",
       "      <th></th>\n",
       "      <th>order_id</th>\n",
       "      <th>freight_value</th>\n",
       "      <th>z_score_in_category</th>\n",
       "      <th>payment_value</th>\n",
       "      <th>time_to_delivered</th>\n",
       "      <th>time_to_estimated</th>\n",
       "      <th>time_to_accept</th>\n",
       "      <th>cluster_num</th>\n",
       "    </tr>\n",
       "  </thead>\n",
       "  <tbody>\n",
       "    <tr>\n",
       "      <th>0</th>\n",
       "      <td>1.283552</td>\n",
       "      <td>1.636345</td>\n",
       "      <td>1.155037</td>\n",
       "      <td>2.294490</td>\n",
       "      <td>1.506808</td>\n",
       "      <td>1.673765</td>\n",
       "      <td>0.847298</td>\n",
       "      <td>1</td>\n",
       "    </tr>\n",
       "    <tr>\n",
       "      <th>1</th>\n",
       "      <td>2.011199</td>\n",
       "      <td>1.733980</td>\n",
       "      <td>0.981778</td>\n",
       "      <td>2.547079</td>\n",
       "      <td>1.543603</td>\n",
       "      <td>1.669157</td>\n",
       "      <td>0.824027</td>\n",
       "      <td>1</td>\n",
       "    </tr>\n",
       "    <tr>\n",
       "      <th>2</th>\n",
       "      <td>1.804600</td>\n",
       "      <td>1.565719</td>\n",
       "      <td>0.805547</td>\n",
       "      <td>2.281291</td>\n",
       "      <td>1.582826</td>\n",
       "      <td>1.654684</td>\n",
       "      <td>0.987387</td>\n",
       "      <td>0</td>\n",
       "    </tr>\n",
       "    <tr>\n",
       "      <th>3</th>\n",
       "      <td>1.958346</td>\n",
       "      <td>1.620386</td>\n",
       "      <td>1.035052</td>\n",
       "      <td>2.494536</td>\n",
       "      <td>1.555959</td>\n",
       "      <td>1.668270</td>\n",
       "      <td>0.782759</td>\n",
       "      <td>0</td>\n",
       "    </tr>\n",
       "    <tr>\n",
       "      <th>4</th>\n",
       "      <td>1.673765</td>\n",
       "      <td>1.536853</td>\n",
       "      <td>0.912019</td>\n",
       "      <td>2.307146</td>\n",
       "      <td>1.462758</td>\n",
       "      <td>1.628510</td>\n",
       "      <td>0.749237</td>\n",
       "      <td>1</td>\n",
       "    </tr>\n",
       "  </tbody>\n",
       "</table>\n",
       "</div>"
      ],
      "text/plain": [
       "   order_id  freight_value  z_score_in_category  payment_value  \\\n",
       "0  1.283552       1.636345             1.155037       2.294490   \n",
       "1  2.011199       1.733980             0.981778       2.547079   \n",
       "2  1.804600       1.565719             0.805547       2.281291   \n",
       "3  1.958346       1.620386             1.035052       2.494536   \n",
       "4  1.673765       1.536853             0.912019       2.307146   \n",
       "\n",
       "   time_to_delivered  time_to_estimated  time_to_accept  cluster_num  \n",
       "0           1.506808           1.673765        0.847298            1  \n",
       "1           1.543603           1.669157        0.824027            1  \n",
       "2           1.582826           1.654684        0.987387            0  \n",
       "3           1.555959           1.668270        0.782759            0  \n",
       "4           1.462758           1.628510        0.749237            1  "
      ]
     },
     "execution_count": 86,
     "metadata": {},
     "output_type": "execute_result"
    }
   ],
   "source": [
    "# selected by elbow method\n",
    "kmeans = KMeans(n_clusters=3).fit(X)\n",
    "cluster_num = kmeans.predict(X)\n",
    "cluster = pd.Series(cluster_num)\n",
    "kmeans_df['cluster_num'] = cluster.values\n",
    "kmeans_df.head()"
   ]
  },
  {
   "cell_type": "code",
   "execution_count": 87,
   "metadata": {},
   "outputs": [
    {
     "name": "stdout",
     "output_type": "stream",
     "text": [
      "1    1549\n",
      "0     862\n",
      "2     501\n",
      "Name: cluster_num, dtype: int64\n"
     ]
    }
   ],
   "source": [
    "print(kmeans_df['cluster_num'].value_counts())"
   ]
  },
  {
   "cell_type": "code",
   "execution_count": 88,
   "metadata": {},
   "outputs": [
    {
     "data": {
      "image/png": "[encoded data removed]",
      "text/plain": [
       "<Figure size 432x288 with 1 Axes>"
      ]
     },
     "metadata": {
      "needs_background": "light"
     },
     "output_type": "display_data"
    }
   ],
   "source": [
    "# Visualization\n",
    "plt.scatter(kmeans_df[kmeans_df['cluster_num'] == 0]['time_to_delivered'], \n",
    "            kmeans_df[kmeans_df['cluster_num'] == 0]['time_to_estimated'], \n",
    "            s = 50, c = 'red', label = 'User Group 1')\n",
    "plt.scatter(kmeans_df[kmeans_df['cluster_num'] == 1]['time_to_delivered'], \n",
    "            kmeans_df[kmeans_df['cluster_num'] == 1]['time_to_estimated'], \n",
    "            s = 50, c = 'green', label = 'User Group 2')\n",
    "plt.scatter(kmeans_df[kmeans_df['cluster_num'] == 2]['time_to_delivered'], \n",
    "            kmeans_df[kmeans_df['cluster_num'] == 2]['time_to_estimated'], \n",
    "            s = 50, c = 'blue', label = 'User Group 3')\n",
    "plt.scatter(kmeans_df[kmeans_df['cluster_num'] == 3]['time_to_delivered'], \n",
    "            kmeans_df[kmeans_df['cluster_num'] == 3]['time_to_estimated'], \n",
    "            s = 50, c = 'yellow', label = 'User Group 4')\n",
    "plt.plot([1.0, 2.0], [1.0, 2.0])\n",
    "plt.title('Seller Cluster by time_to_delivered, time_to_estimated')\n",
    "plt.xlabel('time_to_delivered')\n",
    "plt.ylabel('time_to_estimated')\n",
    "plt.legend()\n",
    "plt.show()"
   ]
  },
  {
   "cell_type": "code",
   "execution_count": 89,
   "metadata": {},
   "outputs": [
    {
     "name": "stdout",
     "output_type": "stream",
     "text": [
      "k: 1 | cost: 72.7106515456227\n",
      "k: 2 | cost: 35.18598929675196\n",
      "k: 3 | cost: 24.002155042418504\n",
      "k: 4 | cost: 19.348369686969423\n",
      "k: 5 | cost: 16.209444852137754\n",
      "k: 6 | cost: 14.013016999821511\n",
      "k: 7 | cost: 12.275072836258405\n",
      "k: 8 | cost: 11.033830525779114\n",
      "k: 9 | cost: 9.903594596014408\n"
     ]
    },
    {
     "data": {
      "text/plain": [
       "[<matplotlib.lines.Line2D at 0x7f831c695a00>]"
      ]
     },
     "execution_count": 89,
     "metadata": {},
     "output_type": "execute_result"
    },
    {
     "data": {
      "image/png": "[encoded data removed]",
      "text/plain": [
       "<Figure size 432x288 with 1 Axes>"
      ]
     },
     "metadata": {
      "needs_background": "light"
     },
     "output_type": "display_data"
    }
   ],
   "source": [
    "from sklearn.cluster import KMeans\n",
    "\n",
    "# K-means train & Elbow method\n",
    "X = kmeans_df[['freight_value', 'z_score_in_category']]\n",
    "\n",
    "k_list = []\n",
    "cost_list = []\n",
    "for k in range (1, 10):\n",
    "    kmeans = KMeans(n_clusters=k).fit(X)\n",
    "    interia = kmeans.inertia_\n",
    "    print (\"k:\", k, \"| cost:\", interia)\n",
    "    k_list.append(k)\n",
    "    cost_list.append(interia)\n",
    "    \n",
    "plt.plot(k_list, cost_list)"
   ]
  },
  {
   "cell_type": "code",
   "execution_count": 90,
   "metadata": {},
   "outputs": [
    {
     "name": "stderr",
     "output_type": "stream",
     "text": [
      "/Users/A202009066/anaconda3/envs/nano/lib/python3.8/site-packages/pandas/core/frame.py:3607: SettingWithCopyWarning: \n",
      "A value is trying to be set on a copy of a slice from a DataFrame.\n",
      "Try using .loc[row_indexer,col_indexer] = value instead\n",
      "\n",
      "See the caveats in the documentation: https://pandas.pydata.org/pandas-docs/stable/user_guide/indexing.html#returning-a-view-versus-a-copy\n",
      "  self._set_item(key, value)\n"
     ]
    },
    {
     "data": {
      "text/html": [
       "<div>\n",
       "<style scoped>\n",
       "    .dataframe tbody tr th:only-of-type {\n",
       "        vertical-align: middle;\n",
       "    }\n",
       "\n",
       "    .dataframe tbody tr th {\n",
       "        vertical-align: top;\n",
       "    }\n",
       "\n",
       "    .dataframe thead th {\n",
       "        text-align: right;\n",
       "    }\n",
       "</style>\n",
       "<table border=\"1\" class=\"dataframe\">\n",
       "  <thead>\n",
       "    <tr style=\"text-align: right;\">\n",
       "      <th></th>\n",
       "      <th>order_id</th>\n",
       "      <th>freight_value</th>\n",
       "      <th>z_score_in_category</th>\n",
       "      <th>payment_value</th>\n",
       "      <th>time_to_delivered</th>\n",
       "      <th>time_to_estimated</th>\n",
       "      <th>time_to_accept</th>\n",
       "      <th>cluster_num</th>\n",
       "    </tr>\n",
       "  </thead>\n",
       "  <tbody>\n",
       "    <tr>\n",
       "      <th>0</th>\n",
       "      <td>1.283552</td>\n",
       "      <td>1.636345</td>\n",
       "      <td>1.155037</td>\n",
       "      <td>2.294490</td>\n",
       "      <td>1.506808</td>\n",
       "      <td>1.673765</td>\n",
       "      <td>0.847298</td>\n",
       "      <td>1</td>\n",
       "    </tr>\n",
       "    <tr>\n",
       "      <th>1</th>\n",
       "      <td>2.011199</td>\n",
       "      <td>1.733980</td>\n",
       "      <td>0.981778</td>\n",
       "      <td>2.547079</td>\n",
       "      <td>1.543603</td>\n",
       "      <td>1.669157</td>\n",
       "      <td>0.824027</td>\n",
       "      <td>1</td>\n",
       "    </tr>\n",
       "    <tr>\n",
       "      <th>2</th>\n",
       "      <td>1.804600</td>\n",
       "      <td>1.565719</td>\n",
       "      <td>0.805547</td>\n",
       "      <td>2.281291</td>\n",
       "      <td>1.582826</td>\n",
       "      <td>1.654684</td>\n",
       "      <td>0.987387</td>\n",
       "      <td>0</td>\n",
       "    </tr>\n",
       "    <tr>\n",
       "      <th>3</th>\n",
       "      <td>1.958346</td>\n",
       "      <td>1.620386</td>\n",
       "      <td>1.035052</td>\n",
       "      <td>2.494536</td>\n",
       "      <td>1.555959</td>\n",
       "      <td>1.668270</td>\n",
       "      <td>0.782759</td>\n",
       "      <td>1</td>\n",
       "    </tr>\n",
       "    <tr>\n",
       "      <th>4</th>\n",
       "      <td>1.673765</td>\n",
       "      <td>1.536853</td>\n",
       "      <td>0.912019</td>\n",
       "      <td>2.307146</td>\n",
       "      <td>1.462758</td>\n",
       "      <td>1.628510</td>\n",
       "      <td>0.749237</td>\n",
       "      <td>0</td>\n",
       "    </tr>\n",
       "  </tbody>\n",
       "</table>\n",
       "</div>"
      ],
      "text/plain": [
       "   order_id  freight_value  z_score_in_category  payment_value  \\\n",
       "0  1.283552       1.636345             1.155037       2.294490   \n",
       "1  2.011199       1.733980             0.981778       2.547079   \n",
       "2  1.804600       1.565719             0.805547       2.281291   \n",
       "3  1.958346       1.620386             1.035052       2.494536   \n",
       "4  1.673765       1.536853             0.912019       2.307146   \n",
       "\n",
       "   time_to_delivered  time_to_estimated  time_to_accept  cluster_num  \n",
       "0           1.506808           1.673765        0.847298            1  \n",
       "1           1.543603           1.669157        0.824027            1  \n",
       "2           1.582826           1.654684        0.987387            0  \n",
       "3           1.555959           1.668270        0.782759            1  \n",
       "4           1.462758           1.628510        0.749237            0  "
      ]
     },
     "execution_count": 90,
     "metadata": {},
     "output_type": "execute_result"
    }
   ],
   "source": [
    "# selected by elbow method\n",
    "kmeans = KMeans(n_clusters=3).fit(X)\n",
    "cluster_num = kmeans.predict(X)\n",
    "cluster = pd.Series(cluster_num)\n",
    "kmeans_df['cluster_num'] = cluster.values\n",
    "kmeans_df.head()"
   ]
  },
  {
   "cell_type": "code",
   "execution_count": 91,
   "metadata": {},
   "outputs": [
    {
     "name": "stdout",
     "output_type": "stream",
     "text": [
      "0    1499\n",
      "1    1122\n",
      "2     291\n",
      "Name: cluster_num, dtype: int64\n"
     ]
    }
   ],
   "source": [
    "print(kmeans_df['cluster_num'].value_counts())"
   ]
  },
  {
   "cell_type": "code",
   "execution_count": 92,
   "metadata": {},
   "outputs": [
    {
     "data": {
      "image/png": "[encoded data removed]",
      "text/plain": [
       "<Figure size 432x288 with 1 Axes>"
      ]
     },
     "metadata": {
      "needs_background": "light"
     },
     "output_type": "display_data"
    }
   ],
   "source": [
    "# Visualization\n",
    "plt.scatter(kmeans_df[kmeans_df['cluster_num'] == 0]['freight_value'], \n",
    "            kmeans_df[kmeans_df['cluster_num'] == 0]['z_score_in_category'], \n",
    "            s = 50, c = 'red', label = 'User Group 1')\n",
    "plt.scatter(kmeans_df[kmeans_df['cluster_num'] == 1]['freight_value'], \n",
    "            kmeans_df[kmeans_df['cluster_num'] == 1]['z_score_in_category'], \n",
    "            s = 50, c = 'green', label = 'User Group 2')\n",
    "plt.scatter(kmeans_df[kmeans_df['cluster_num'] == 2]['freight_value'], \n",
    "            kmeans_df[kmeans_df['cluster_num'] == 2]['z_score_in_category'], \n",
    "            s = 50, c = 'blue', label = 'User Group 3')\n",
    "plt.plot([1.0, 2.0], [1.0, 2.0])\n",
    "plt.title('Seller Cluster by freight_value, z_score_in_category')\n",
    "plt.xlabel('freight_value')\n",
    "plt.ylabel('z_score_in_category')\n",
    "plt.legend()\n",
    "plt.show()"
   ]
  },
  {
   "cell_type": "markdown",
   "metadata": {},
   "source": [
    "----\n",
    "#### *참고 : t-SNE 시각화*"
   ]
  },
  {
   "cell_type": "code",
   "execution_count": 93,
   "metadata": {},
   "outputs": [],
   "source": [
    "from sklearn.manifold import TSNE\n",
    "\n",
    "model = TSNE(learning_rate=300)\n",
    "transformed = model.fit_transform(kmeans_df)"
   ]
  },
  {
   "cell_type": "code",
   "execution_count": 94,
   "metadata": {},
   "outputs": [
    {
     "data": {
      "image/png": "[encoded data removed]",
      "text/plain": [
       "<Figure size 1440x1152 with 1 Axes>"
      ]
     },
     "metadata": {
      "needs_background": "light"
     },
     "output_type": "display_data"
    }
   ],
   "source": [
    "plt.rcParams['figure.figsize'] = [20, 16]\n",
    "xs = transformed[:,0]\n",
    "ys = transformed[:,1]\n",
    "plt.scatter(xs,ys)\n",
    "plt.show()"
   ]
  },
  {
   "cell_type": "markdown",
   "metadata": {},
   "source": [
    "----\n",
    "# 3. 분석 결과 함수화 & 대시보드\n",
    "### [판매량 파이차트]"
   ]
  },
  {
   "cell_type": "code",
   "execution_count": 95,
   "metadata": {},
   "outputs": [
    {
     "data": {
      "text/html": [
       "<div>\n",
       "<style scoped>\n",
       "    .dataframe tbody tr th:only-of-type {\n",
       "        vertical-align: middle;\n",
       "    }\n",
       "\n",
       "    .dataframe tbody tr th {\n",
       "        vertical-align: top;\n",
       "    }\n",
       "\n",
       "    .dataframe thead th {\n",
       "        text-align: right;\n",
       "    }\n",
       "</style>\n",
       "<table border=\"1\" class=\"dataframe\">\n",
       "  <thead>\n",
       "    <tr style=\"text-align: right;\">\n",
       "      <th></th>\n",
       "      <th>seller_id</th>\n",
       "      <th>product_id</th>\n",
       "      <th>sell_count_dict</th>\n",
       "      <th>best_selling_product</th>\n",
       "    </tr>\n",
       "  </thead>\n",
       "  <tbody>\n",
       "    <tr>\n",
       "      <th>0</th>\n",
       "      <td>0015a82c2db000af6aaaf3ae2ecb0532</td>\n",
       "      <td>[a2ff5a97bf95719e38ea2e3b4105bce8, a2ff5a97bf9...</td>\n",
       "      <td>{'a2ff5a97bf95719e38ea2e3b4105bce8': 3}</td>\n",
       "      <td>[(a2ff5a97bf95719e38ea2e3b4105bce8, 3)]</td>\n",
       "    </tr>\n",
       "    <tr>\n",
       "      <th>1</th>\n",
       "      <td>001cca7ae9ae17fb1caed9dfb1094831</td>\n",
       "      <td>[08574b074924071f4e201e151b152b4e, 4f3b83b83f7...</td>\n",
       "      <td>{'08574b074924071f4e201e151b152b4e': 112, '4f3...</td>\n",
       "      <td>[(08574b074924071f4e201e151b152b4e, 112), (e25...</td>\n",
       "    </tr>\n",
       "    <tr>\n",
       "      <th>2</th>\n",
       "      <td>002100f778ceb8431b7a1020ff7ab48f</td>\n",
       "      <td>[62c2b9bd44500d0305b1e50e2c9bd34d, cb790fa02cc...</td>\n",
       "      <td>{'62c2b9bd44500d0305b1e50e2c9bd34d': 1, 'cb790...</td>\n",
       "      <td>[(158102fe543dbaeb84d87811bfe06d0d, 16), (414c...</td>\n",
       "    </tr>\n",
       "    <tr>\n",
       "      <th>3</th>\n",
       "      <td>004c9cd9d87a3c30c522c48c4fc07416</td>\n",
       "      <td>[b2d98b6f547c14e29a9e72b8e630d936, daf9301b3e3...</td>\n",
       "      <td>{'b2d98b6f547c14e29a9e72b8e630d936': 7, 'daf93...</td>\n",
       "      <td>[(54af11c815f92135fb554bd9c97dd418, 13), (b2d9...</td>\n",
       "    </tr>\n",
       "    <tr>\n",
       "      <th>4</th>\n",
       "      <td>00720abe85ba0859807595bbf045a33b</td>\n",
       "      <td>[2d9ff06c8870a518f5f6909774e140fb, 2d9ff06c887...</td>\n",
       "      <td>{'2d9ff06c8870a518f5f6909774e140fb': 2, 'cb046...</td>\n",
       "      <td>[(0e14941c183946f60e3b86585d05f984, 5), (ae253...</td>\n",
       "    </tr>\n",
       "  </tbody>\n",
       "</table>\n",
       "</div>"
      ],
      "text/plain": [
       "                          seller_id  \\\n",
       "0  0015a82c2db000af6aaaf3ae2ecb0532   \n",
       "1  001cca7ae9ae17fb1caed9dfb1094831   \n",
       "2  002100f778ceb8431b7a1020ff7ab48f   \n",
       "3  004c9cd9d87a3c30c522c48c4fc07416   \n",
       "4  00720abe85ba0859807595bbf045a33b   \n",
       "\n",
       "                                          product_id  \\\n",
       "0  [a2ff5a97bf95719e38ea2e3b4105bce8, a2ff5a97bf9...   \n",
       "1  [08574b074924071f4e201e151b152b4e, 4f3b83b83f7...   \n",
       "2  [62c2b9bd44500d0305b1e50e2c9bd34d, cb790fa02cc...   \n",
       "3  [b2d98b6f547c14e29a9e72b8e630d936, daf9301b3e3...   \n",
       "4  [2d9ff06c8870a518f5f6909774e140fb, 2d9ff06c887...   \n",
       "\n",
       "                                     sell_count_dict  \\\n",
       "0            {'a2ff5a97bf95719e38ea2e3b4105bce8': 3}   \n",
       "1  {'08574b074924071f4e201e151b152b4e': 112, '4f3...   \n",
       "2  {'62c2b9bd44500d0305b1e50e2c9bd34d': 1, 'cb790...   \n",
       "3  {'b2d98b6f547c14e29a9e72b8e630d936': 7, 'daf93...   \n",
       "4  {'2d9ff06c8870a518f5f6909774e140fb': 2, 'cb046...   \n",
       "\n",
       "                                best_selling_product  \n",
       "0            [(a2ff5a97bf95719e38ea2e3b4105bce8, 3)]  \n",
       "1  [(08574b074924071f4e201e151b152b4e, 112), (e25...  \n",
       "2  [(158102fe543dbaeb84d87811bfe06d0d, 16), (414c...  \n",
       "3  [(54af11c815f92135fb554bd9c97dd418, 13), (b2d9...  \n",
       "4  [(0e14941c183946f60e3b86585d05f984, 5), (ae253...  "
      ]
     },
     "execution_count": 95,
     "metadata": {},
     "output_type": "execute_result"
    }
   ],
   "source": [
    "seller_product_df.head()"
   ]
  },
  {
   "cell_type": "code",
   "execution_count": 96,
   "metadata": {},
   "outputs": [
    {
     "data": {
      "text/plain": [
       "Counter({'08574b074924071f4e201e151b152b4e': 112,\n",
       "         '4f3b83b83f7fb280fca4f90ba502f50e': 1,\n",
       "         '547b95702aec86f05ac37e61d164891c': 17,\n",
       "         'e251ebd2858be1aa7d9b2087a6992580': 47,\n",
       "         '86b22a03cb72239dd53996a67df35c63': 6,\n",
       "         '98a8c2fa16d7239c606640f5555768e4': 29,\n",
       "         '0da9ffd92214425d880de3f94e74ce39': 17,\n",
       "         '21fecd254a3103704126b28478ea7980': 3,\n",
       "         '4d7fee7877228c1497477ae53d97c214': 2,\n",
       "         '6d15a14a5c04e3ef315ab136bd824d72': 1,\n",
       "         'd32f22e03fb01595aa10383f4364d303': 1})"
      ]
     },
     "execution_count": 96,
     "metadata": {},
     "output_type": "execute_result"
    }
   ],
   "source": [
    "seller_product_df['sell_count_dict'][1]"
   ]
  },
  {
   "cell_type": "code",
   "execution_count": 97,
   "metadata": {},
   "outputs": [],
   "source": [
    "sell_count_dict = seller_product_df['sell_count_dict'][1]"
   ]
  },
  {
   "cell_type": "code",
   "execution_count": 98,
   "metadata": {},
   "outputs": [
    {
     "data": {
      "image/png": "[encoded data removed]",
      "text/plain": [
       "<Figure size 1440x1152 with 1 Axes>"
      ]
     },
     "metadata": {},
     "output_type": "display_data"
    }
   ],
   "source": [
    "labels = list(sell_count_dict.keys())\n",
    "fracs1 = list(sell_count_dict.values())\n",
    "\n",
    "plt.pie(fracs1, labels=labels, autopct='%.0f%%', shadow=True)\n",
    "plt.title('Seller 1\\'s Popular Items')\n",
    "plt.show()"
   ]
  },
  {
   "cell_type": "code",
   "execution_count": 99,
   "metadata": {},
   "outputs": [],
   "source": [
    "def get_seller_pie_chart(df, seller_id):\n",
    "    sell_count_dict = df[df['seller_id']==seller_id]['sell_count_dict'].values[0]\n",
    "    labels = list(sell_count_dict.keys())\n",
    "    fracs1 = list(sell_count_dict.values())\n",
    "\n",
    "    plt.pie(fracs1, labels=labels, autopct='%.0f%%', shadow=True)\n",
    "    plt.title('Seller 1\\'s Popular Items')\n",
    "    plt.show()"
   ]
  },
  {
   "cell_type": "code",
   "execution_count": 100,
   "metadata": {},
   "outputs": [
    {
     "data": {
      "image/png": "[encoded data removed]",
      "text/plain": [
       "<Figure size 1440x1152 with 1 Axes>"
      ]
     },
     "metadata": {},
     "output_type": "display_data"
    }
   ],
   "source": [
    "get_seller_pie_chart(seller_product_df, '001cca7ae9ae17fb1caed9dfb1094831')"
   ]
  },
  {
   "cell_type": "code",
   "execution_count": 101,
   "metadata": {},
   "outputs": [
    {
     "data": {
      "image/png": "[encoded data removed]",
      "text/plain": [
       "<Figure size 1440x1152 with 1 Axes>"
      ]
     },
     "metadata": {},
     "output_type": "display_data"
    }
   ],
   "source": [
    "get_seller_pie_chart(seller_category_df, '001cca7ae9ae17fb1caed9dfb1094831')"
   ]
  },
  {
   "cell_type": "markdown",
   "metadata": {},
   "source": [
    "----\n",
    "### [상품별 리뷰 워드클라우드]"
   ]
  },
  {
   "cell_type": "code",
   "execution_count": 102,
   "metadata": {},
   "outputs": [
    {
     "data": {
      "text/html": [
       "<div>\n",
       "<style scoped>\n",
       "    .dataframe tbody tr th:only-of-type {\n",
       "        vertical-align: middle;\n",
       "    }\n",
       "\n",
       "    .dataframe tbody tr th {\n",
       "        vertical-align: top;\n",
       "    }\n",
       "\n",
       "    .dataframe thead th {\n",
       "        text-align: right;\n",
       "    }\n",
       "</style>\n",
       "<table border=\"1\" class=\"dataframe\">\n",
       "  <thead>\n",
       "    <tr style=\"text-align: right;\">\n",
       "      <th></th>\n",
       "      <th>review_id</th>\n",
       "      <th>order_id</th>\n",
       "      <th>review_score</th>\n",
       "      <th>review_comment_title</th>\n",
       "      <th>review_comment_message</th>\n",
       "      <th>review_creation_date</th>\n",
       "      <th>review_answer_timestamp</th>\n",
       "    </tr>\n",
       "  </thead>\n",
       "  <tbody>\n",
       "    <tr>\n",
       "      <th>0</th>\n",
       "      <td>7bc2406110b926393aa56f80a40eba40</td>\n",
       "      <td>73fc7af87114b39712e6da79b0a377eb</td>\n",
       "      <td>4</td>\n",
       "      <td>NaN</td>\n",
       "      <td>NaN</td>\n",
       "      <td>2018-01-18 00:00:00</td>\n",
       "      <td>2018-01-18 21:46:59</td>\n",
       "    </tr>\n",
       "    <tr>\n",
       "      <th>1</th>\n",
       "      <td>80e641a11e56f04c1ad469d5645fdfde</td>\n",
       "      <td>a548910a1c6147796b98fdf73dbeba33</td>\n",
       "      <td>5</td>\n",
       "      <td>NaN</td>\n",
       "      <td>NaN</td>\n",
       "      <td>2018-03-10 00:00:00</td>\n",
       "      <td>2018-03-11 03:05:13</td>\n",
       "    </tr>\n",
       "    <tr>\n",
       "      <th>2</th>\n",
       "      <td>228ce5500dc1d8e020d8d1322874b6f0</td>\n",
       "      <td>f9e4b658b201a9f2ecdecbb34bed034b</td>\n",
       "      <td>5</td>\n",
       "      <td>NaN</td>\n",
       "      <td>NaN</td>\n",
       "      <td>2018-02-17 00:00:00</td>\n",
       "      <td>2018-02-18 14:36:24</td>\n",
       "    </tr>\n",
       "    <tr>\n",
       "      <th>3</th>\n",
       "      <td>e64fb393e7b32834bb789ff8bb30750e</td>\n",
       "      <td>658677c97b385a9be170737859d3511b</td>\n",
       "      <td>5</td>\n",
       "      <td>NaN</td>\n",
       "      <td>Recebi bem antes do prazo estipulado.</td>\n",
       "      <td>2017-04-21 00:00:00</td>\n",
       "      <td>2017-04-21 22:02:06</td>\n",
       "    </tr>\n",
       "    <tr>\n",
       "      <th>4</th>\n",
       "      <td>f7c4243c7fe1938f181bec41a392bdeb</td>\n",
       "      <td>8e6bfb81e283fa7e4f11123a3fb894f1</td>\n",
       "      <td>5</td>\n",
       "      <td>NaN</td>\n",
       "      <td>Parabéns lojas lannister adorei comprar pela I...</td>\n",
       "      <td>2018-03-01 00:00:00</td>\n",
       "      <td>2018-03-02 10:26:53</td>\n",
       "    </tr>\n",
       "  </tbody>\n",
       "</table>\n",
       "</div>"
      ],
      "text/plain": [
       "                          review_id                          order_id  \\\n",
       "0  7bc2406110b926393aa56f80a40eba40  73fc7af87114b39712e6da79b0a377eb   \n",
       "1  80e641a11e56f04c1ad469d5645fdfde  a548910a1c6147796b98fdf73dbeba33   \n",
       "2  228ce5500dc1d8e020d8d1322874b6f0  f9e4b658b201a9f2ecdecbb34bed034b   \n",
       "3  e64fb393e7b32834bb789ff8bb30750e  658677c97b385a9be170737859d3511b   \n",
       "4  f7c4243c7fe1938f181bec41a392bdeb  8e6bfb81e283fa7e4f11123a3fb894f1   \n",
       "\n",
       "   review_score review_comment_title  \\\n",
       "0             4                  NaN   \n",
       "1             5                  NaN   \n",
       "2             5                  NaN   \n",
       "3             5                  NaN   \n",
       "4             5                  NaN   \n",
       "\n",
       "                              review_comment_message review_creation_date  \\\n",
       "0                                                NaN  2018-01-18 00:00:00   \n",
       "1                                                NaN  2018-03-10 00:00:00   \n",
       "2                                                NaN  2018-02-17 00:00:00   \n",
       "3              Recebi bem antes do prazo estipulado.  2017-04-21 00:00:00   \n",
       "4  Parabéns lojas lannister adorei comprar pela I...  2018-03-01 00:00:00   \n",
       "\n",
       "  review_answer_timestamp  \n",
       "0     2018-01-18 21:46:59  \n",
       "1     2018-03-11 03:05:13  \n",
       "2     2018-02-18 14:36:24  \n",
       "3     2017-04-21 22:02:06  \n",
       "4     2018-03-02 10:26:53  "
      ]
     },
     "execution_count": 102,
     "metadata": {},
     "output_type": "execute_result"
    }
   ],
   "source": [
    "olist_order_reviews_dataset = pd.read_csv(data_dir + \"olist_order_reviews_dataset.csv\")\n",
    "olist_order_reviews_dataset.head()"
   ]
  },
  {
   "cell_type": "code",
   "execution_count": 103,
   "metadata": {},
   "outputs": [],
   "source": [
    "olist_order_reviews_dataset = pd.merge(olist_order_reviews_dataset, order_df.groupby('order_id').agg({'product_id': 'first'}).reset_index()[['order_id', 'product_id']], on='order_id')"
   ]
  },
  {
   "cell_type": "code",
   "execution_count": 104,
   "metadata": {},
   "outputs": [
    {
     "data": {
      "text/html": [
       "<div>\n",
       "<style scoped>\n",
       "    .dataframe tbody tr th:only-of-type {\n",
       "        vertical-align: middle;\n",
       "    }\n",
       "\n",
       "    .dataframe tbody tr th {\n",
       "        vertical-align: top;\n",
       "    }\n",
       "\n",
       "    .dataframe thead th {\n",
       "        text-align: right;\n",
       "    }\n",
       "</style>\n",
       "<table border=\"1\" class=\"dataframe\">\n",
       "  <thead>\n",
       "    <tr style=\"text-align: right;\">\n",
       "      <th></th>\n",
       "      <th>review_id</th>\n",
       "      <th>order_id</th>\n",
       "      <th>review_score</th>\n",
       "      <th>review_comment_title</th>\n",
       "      <th>review_comment_message</th>\n",
       "      <th>review_creation_date</th>\n",
       "      <th>review_answer_timestamp</th>\n",
       "      <th>product_id</th>\n",
       "    </tr>\n",
       "  </thead>\n",
       "  <tbody>\n",
       "    <tr>\n",
       "      <th>0</th>\n",
       "      <td>7bc2406110b926393aa56f80a40eba40</td>\n",
       "      <td>73fc7af87114b39712e6da79b0a377eb</td>\n",
       "      <td>4</td>\n",
       "      <td>NaN</td>\n",
       "      <td>NaN</td>\n",
       "      <td>2018-01-18 00:00:00</td>\n",
       "      <td>2018-01-18 21:46:59</td>\n",
       "      <td>fd25ab760bfbba13c198fa3b4f1a0cd3</td>\n",
       "    </tr>\n",
       "    <tr>\n",
       "      <th>1</th>\n",
       "      <td>80e641a11e56f04c1ad469d5645fdfde</td>\n",
       "      <td>a548910a1c6147796b98fdf73dbeba33</td>\n",
       "      <td>5</td>\n",
       "      <td>NaN</td>\n",
       "      <td>NaN</td>\n",
       "      <td>2018-03-10 00:00:00</td>\n",
       "      <td>2018-03-11 03:05:13</td>\n",
       "      <td>be0dbdc3d67d55727a65d4cd696ca73c</td>\n",
       "    </tr>\n",
       "    <tr>\n",
       "      <th>2</th>\n",
       "      <td>228ce5500dc1d8e020d8d1322874b6f0</td>\n",
       "      <td>f9e4b658b201a9f2ecdecbb34bed034b</td>\n",
       "      <td>5</td>\n",
       "      <td>NaN</td>\n",
       "      <td>NaN</td>\n",
       "      <td>2018-02-17 00:00:00</td>\n",
       "      <td>2018-02-18 14:36:24</td>\n",
       "      <td>d1c427060a0f73f6b889a5c7c61f2ac4</td>\n",
       "    </tr>\n",
       "    <tr>\n",
       "      <th>3</th>\n",
       "      <td>e64fb393e7b32834bb789ff8bb30750e</td>\n",
       "      <td>658677c97b385a9be170737859d3511b</td>\n",
       "      <td>5</td>\n",
       "      <td>NaN</td>\n",
       "      <td>Recebi bem antes do prazo estipulado.</td>\n",
       "      <td>2017-04-21 00:00:00</td>\n",
       "      <td>2017-04-21 22:02:06</td>\n",
       "      <td>52c80cedd4e90108bf4fa6a206ef6b03</td>\n",
       "    </tr>\n",
       "    <tr>\n",
       "      <th>4</th>\n",
       "      <td>f7c4243c7fe1938f181bec41a392bdeb</td>\n",
       "      <td>8e6bfb81e283fa7e4f11123a3fb894f1</td>\n",
       "      <td>5</td>\n",
       "      <td>NaN</td>\n",
       "      <td>Parabéns lojas lannister adorei comprar pela I...</td>\n",
       "      <td>2018-03-01 00:00:00</td>\n",
       "      <td>2018-03-02 10:26:53</td>\n",
       "      <td>3880d25d502b15b1de6fddc42ad1d67a</td>\n",
       "    </tr>\n",
       "  </tbody>\n",
       "</table>\n",
       "</div>"
      ],
      "text/plain": [
       "                          review_id                          order_id  \\\n",
       "0  7bc2406110b926393aa56f80a40eba40  73fc7af87114b39712e6da79b0a377eb   \n",
       "1  80e641a11e56f04c1ad469d5645fdfde  a548910a1c6147796b98fdf73dbeba33   \n",
       "2  228ce5500dc1d8e020d8d1322874b6f0  f9e4b658b201a9f2ecdecbb34bed034b   \n",
       "3  e64fb393e7b32834bb789ff8bb30750e  658677c97b385a9be170737859d3511b   \n",
       "4  f7c4243c7fe1938f181bec41a392bdeb  8e6bfb81e283fa7e4f11123a3fb894f1   \n",
       "\n",
       "   review_score review_comment_title  \\\n",
       "0             4                  NaN   \n",
       "1             5                  NaN   \n",
       "2             5                  NaN   \n",
       "3             5                  NaN   \n",
       "4             5                  NaN   \n",
       "\n",
       "                              review_comment_message review_creation_date  \\\n",
       "0                                                NaN  2018-01-18 00:00:00   \n",
       "1                                                NaN  2018-03-10 00:00:00   \n",
       "2                                                NaN  2018-02-17 00:00:00   \n",
       "3              Recebi bem antes do prazo estipulado.  2017-04-21 00:00:00   \n",
       "4  Parabéns lojas lannister adorei comprar pela I...  2018-03-01 00:00:00   \n",
       "\n",
       "  review_answer_timestamp                        product_id  \n",
       "0     2018-01-18 21:46:59  fd25ab760bfbba13c198fa3b4f1a0cd3  \n",
       "1     2018-03-11 03:05:13  be0dbdc3d67d55727a65d4cd696ca73c  \n",
       "2     2018-02-18 14:36:24  d1c427060a0f73f6b889a5c7c61f2ac4  \n",
       "3     2017-04-21 22:02:06  52c80cedd4e90108bf4fa6a206ef6b03  \n",
       "4     2018-03-02 10:26:53  3880d25d502b15b1de6fddc42ad1d67a  "
      ]
     },
     "execution_count": 104,
     "metadata": {},
     "output_type": "execute_result"
    }
   ],
   "source": [
    "olist_order_reviews_dataset.head()"
   ]
  },
  {
   "cell_type": "code",
   "execution_count": 105,
   "metadata": {},
   "outputs": [
    {
     "data": {
      "text/html": [
       "<div>\n",
       "<style scoped>\n",
       "    .dataframe tbody tr th:only-of-type {\n",
       "        vertical-align: middle;\n",
       "    }\n",
       "\n",
       "    .dataframe tbody tr th {\n",
       "        vertical-align: top;\n",
       "    }\n",
       "\n",
       "    .dataframe thead th {\n",
       "        text-align: right;\n",
       "    }\n",
       "</style>\n",
       "<table border=\"1\" class=\"dataframe\">\n",
       "  <thead>\n",
       "    <tr style=\"text-align: right;\">\n",
       "      <th></th>\n",
       "      <th>product_id</th>\n",
       "      <th>review_score</th>\n",
       "      <th>text</th>\n",
       "    </tr>\n",
       "  </thead>\n",
       "  <tbody>\n",
       "    <tr>\n",
       "      <th>3</th>\n",
       "      <td>52c80cedd4e90108bf4fa6a206ef6b03</td>\n",
       "      <td>5</td>\n",
       "      <td>Recebi bem antes do prazo estipulado.</td>\n",
       "    </tr>\n",
       "    <tr>\n",
       "      <th>4</th>\n",
       "      <td>3880d25d502b15b1de6fddc42ad1d67a</td>\n",
       "      <td>5</td>\n",
       "      <td>Parabéns lojas lannister adorei comprar pela I...</td>\n",
       "    </tr>\n",
       "    <tr>\n",
       "      <th>9</th>\n",
       "      <td>61a4100ccd6d9c4c808a1fd954ddb8ad</td>\n",
       "      <td>4</td>\n",
       "      <td>recomendoaparelho eficiente. no site a marca d...</td>\n",
       "    </tr>\n",
       "    <tr>\n",
       "      <th>12</th>\n",
       "      <td>acffe5d7cd56e6b564cf6841486644ff</td>\n",
       "      <td>4</td>\n",
       "      <td>Mas um pouco ,travando...pelo valor ta Boa.\\r\\n</td>\n",
       "    </tr>\n",
       "    <tr>\n",
       "      <th>15</th>\n",
       "      <td>6871a3c157d6f51697e887f3c3598479</td>\n",
       "      <td>5</td>\n",
       "      <td>Super recomendoVendedor confiável, produto ok ...</td>\n",
       "    </tr>\n",
       "  </tbody>\n",
       "</table>\n",
       "</div>"
      ],
      "text/plain": [
       "                          product_id  review_score  \\\n",
       "3   52c80cedd4e90108bf4fa6a206ef6b03             5   \n",
       "4   3880d25d502b15b1de6fddc42ad1d67a             5   \n",
       "9   61a4100ccd6d9c4c808a1fd954ddb8ad             4   \n",
       "12  acffe5d7cd56e6b564cf6841486644ff             4   \n",
       "15  6871a3c157d6f51697e887f3c3598479             5   \n",
       "\n",
       "                                                 text  \n",
       "3               Recebi bem antes do prazo estipulado.  \n",
       "4   Parabéns lojas lannister adorei comprar pela I...  \n",
       "9   recomendoaparelho eficiente. no site a marca d...  \n",
       "12    Mas um pouco ,travando...pelo valor ta Boa.\\r\\n  \n",
       "15  Super recomendoVendedor confiável, produto ok ...  "
      ]
     },
     "execution_count": 105,
     "metadata": {},
     "output_type": "execute_result"
    }
   ],
   "source": [
    "olist_order_reviews_dataset = olist_order_reviews_dataset[['product_id', 'review_score', 'review_comment_title', 'review_comment_message']]\n",
    "olist_order_reviews_dataset = olist_order_reviews_dataset.dropna(how='all', subset=['review_comment_title', 'review_comment_message'])\n",
    "olist_order_reviews_dataset = olist_order_reviews_dataset.fillna('')\n",
    "olist_order_reviews_dataset['text'] = olist_order_reviews_dataset[['review_comment_title', 'review_comment_message']].apply(lambda x : '{}{}'.format(x[0], x[1]), axis=1)\n",
    "olist_order_reviews_dataset = olist_order_reviews_dataset[['product_id', 'review_score', 'text']]\n",
    "olist_order_reviews_dataset.head()"
   ]
  },
  {
   "cell_type": "code",
   "execution_count": 106,
   "metadata": {},
   "outputs": [
    {
     "data": {
      "text/plain": [
       "(40744, 3)"
      ]
     },
     "execution_count": 106,
     "metadata": {},
     "output_type": "execute_result"
    }
   ],
   "source": [
    "olist_order_reviews_dataset.shape"
   ]
  },
  {
   "cell_type": "code",
   "execution_count": 107,
   "metadata": {},
   "outputs": [
    {
     "data": {
      "text/plain": [
       "product_id      0\n",
       "review_score    0\n",
       "text            0\n",
       "dtype: int64"
      ]
     },
     "execution_count": 107,
     "metadata": {},
     "output_type": "execute_result"
    }
   ],
   "source": [
    "olist_order_reviews_dataset.isnull().sum()"
   ]
  },
  {
   "cell_type": "code",
   "execution_count": 108,
   "metadata": {},
   "outputs": [
    {
     "name": "stdout",
     "output_type": "stream",
     "text": [
      "pygame 2.0.1 (SDL 2.0.14, Python 3.8.10)\n",
      "Hello from the pygame community. https://www.pygame.org/contribute.html\n"
     ]
    }
   ],
   "source": [
    "import random\n",
    "import pytagcloud\n",
    "import webbrowser\n",
    "\n",
    "from nltk.tokenize import RegexpTokenizer\n",
    "from collections import Counter\n",
    "from googletrans import Translator\n",
    "\n",
    "# portuguese to english\n",
    "trans = Translator()\n",
    "\n",
    "tokenizer = RegexpTokenizer(r'\\w+')\n",
    "def get_word_cloud(product_id):\n",
    "    text = \" \".join(olist_order_reviews_dataset[olist_order_reviews_dataset['product_id']==product_id]['text'].values.tolist())\n",
    "    tokens = tokenizer.tokenize(text)\n",
    "    count = Counter(tokens).most_common(40)\n",
    "    ko_count = []\n",
    "    for tup in count:\n",
    "        ko_count.append((trans.translate(tup[0], src='pt', dest='ko').text, tup[1]))\n",
    "    taglist = pytagcloud.make_tags(ko_count, maxsize=80)\n",
    "    pytagcloud.create_tag_image(taglist, 'wordcloud.jpg', size=(900, 600), fontname='NanumGothic', rectangular=False)"
   ]
  },
  {
   "cell_type": "code",
   "execution_count": 109,
   "metadata": {},
   "outputs": [],
   "source": [
    "get_word_cloud('52c80cedd4e90108bf4fa6a206ef6b03')"
   ]
  },
  {
   "cell_type": "code",
   "execution_count": 110,
   "metadata": {},
   "outputs": [
    {
     "data": {
      "image/jpeg": "[encoded data removed]",
      "text/plain": [
       "<IPython.core.display.Image object>"
      ]
     },
     "execution_count": 110,
     "metadata": {},
     "output_type": "execute_result"
    }
   ],
   "source": [
    "# 생성한 이미지를 주피터 노트북상에서 출력합니다\n",
    "from IPython.display import Image\n",
    "Image(filename='wordcloud.jpg')"
   ]
  }
 ],
 "metadata": {
  "kernelspec": {
   "display_name": "Python 3 (ipykernel)",
   "language": "python",
   "name": "python3"
  },
  "language_info": {
   "codemirror_mode": {
    "name": "ipython",
    "version": 3
   },
   "file_extension": ".py",
   "mimetype": "text/x-python",
   "name": "python",
   "nbconvert_exporter": "python",
   "pygments_lexer": "ipython3",
   "version": "3.8.10"
  }
 },
 "nbformat": 4,
 "nbformat_minor": 4
}
