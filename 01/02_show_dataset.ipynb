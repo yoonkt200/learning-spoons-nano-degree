{
 "cells": [
  {
   "cell_type": "code",
   "execution_count": 1,
   "id": "492bbe93-2c6d-45de-9006-8295b4fee5c7",
   "metadata": {},
   "outputs": [],
   "source": [
    "import pandas as pd"
   ]
  },
  {
   "cell_type": "code",
   "execution_count": 2,
   "id": "4f3f97b8-d419-40f3-84ee-f884cfd446c8",
   "metadata": {},
   "outputs": [],
   "source": [
    "data_dir = \"../dataset/\""
   ]
  },
  {
   "cell_type": "code",
   "execution_count": null,
   "id": "1bc6b5c9-5384-42de-96ce-af62a43c8dab",
   "metadata": {},
   "outputs": [],
   "source": []
  }
 ],
 "metadata": {
  "kernelspec": {
   "display_name": "Python 3",
   "language": "python",
   "name": "python3"
  },
  "language_info": {
   "codemirror_mode": {
    "name": "ipython",
    "version": 3
   },
   "file_extension": ".py",
   "mimetype": "text/x-python",
   "name": "python",
   "nbconvert_exporter": "python",
   "pygments_lexer": "ipython3",
   "version": "3.8.10"
  }
 },
 "nbformat": 4,
 "nbformat_minor": 5
}
